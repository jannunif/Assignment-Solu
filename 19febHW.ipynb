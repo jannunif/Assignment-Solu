{
 "cells": [
  {
   "cell_type": "code",
   "execution_count": 1,
   "id": "698ccbb4-89b9-4200-846d-def4505f122a",
   "metadata": {},
   "outputs": [],
   "source": [
    "#Ans01 : Flask is a micro web framework written in Python that is designed to be simple, lightweight, and flexible. Flask allows developers to quickly build web applications without the complexity of a full-stack framework.\n",
    "\n",
    "#Some of the advantages of Flask framework:\n",
    "\n",
    "# 1) Lightweight        : Flask is a micro-framework, which means it is lightweight and easy to use. It does not come with a lot of pre-built features and allows developers to add only the functionality they need.\n",
    "# 2) Easy to learn      : Flask is designed to be easy to learn and use. It has a simple and intuitive syntax that is easy for developers to understand and implement.\n",
    "# 3) Flexible           : Flask is highly customizable and allows developers to add third-party libraries and extensions to the framework. This means that developers can easily add functionality to their application without having to write the code from scratch.\n",
    "# 4) Scalable           : Flask can be used to build both small and large-scale applications. It is designed to be scalable and can handle a large number of requests without compromising performance.\n",
    "# 5) Built-in web server: Flask comes with a built-in web server, which makes it easy to get started with development without having to install any additional software.\n",
    "# 6) Jinja2 templating  : Flask uses Jinja2 templating, which makes it easy to create dynamic HTML pages and render data in a variety of formats.\n",
    "# 7) Active community   : Flask has a large and active community of developers who contribute to the development of the framework and provide support and guidance to other developers."
   ]
  },
  {
   "cell_type": "code",
   "execution_count": 2,
   "id": "e6dfb3bf-1ff9-48ae-8619-da99d510207b",
   "metadata": {},
   "outputs": [
    {
     "ename": "ModuleNotFoundError",
     "evalue": "No module named 'flask'",
     "output_type": "error",
     "traceback": [
      "\u001b[0;31m---------------------------------------------------------------------------\u001b[0m",
      "\u001b[0;31mModuleNotFoundError\u001b[0m                       Traceback (most recent call last)",
      "Cell \u001b[0;32mIn[2], line 2\u001b[0m\n\u001b[1;32m      1\u001b[0m \u001b[38;5;66;03m#Ans02 : \u001b[39;00m\n\u001b[0;32m----> 2\u001b[0m \u001b[38;5;28;01mfrom\u001b[39;00m \u001b[38;5;21;01mflask\u001b[39;00m \u001b[38;5;28;01mimport\u001b[39;00m Flask\n\u001b[1;32m      4\u001b[0m app \u001b[38;5;241m=\u001b[39m Flask(\u001b[38;5;18m__name__\u001b[39m)\n\u001b[1;32m      6\u001b[0m \u001b[38;5;129m@app\u001b[39m\u001b[38;5;241m.\u001b[39mroute(\u001b[38;5;124m'\u001b[39m\u001b[38;5;124m/\u001b[39m\u001b[38;5;124m'\u001b[39m)\n\u001b[1;32m      7\u001b[0m \u001b[38;5;28;01mdef\u001b[39;00m \u001b[38;5;21mhello_world\u001b[39m():\n",
      "\u001b[0;31mModuleNotFoundError\u001b[0m: No module named 'flask'"
     ]
    }
   ],
   "source": [
    "#Ans02 : \n",
    "from flask import Flask\n",
    "\n",
    "app = Flask(__name__)\n",
    "\n",
    "@app.route('/')\n",
    "def hello_world():\n",
    "    return 'Hello World!'\n",
    "\n",
    "if __name__ == '__main__':\n",
    "    app.run()\n"
   ]
  },
  {
   "cell_type": "code",
   "execution_count": 4,
   "id": "dbf1713e-d1e0-4ba6-93a8-dd4de9e50fdc",
   "metadata": {},
   "outputs": [],
   "source": [
    "#Ans03 : App routing in Flask refers to the process of mapping URLs to functions in a Flask application. In other words, it is the mechanism by which Flask knows which function to call when a user visits a particular URL.\n",
    "\n",
    "#We use app routes in Flask to define the different pages or views of a web application. Each app route corresponds to a URL that a user can visit, and specifies the function that should be called when the user visits that URL."
   ]
  },
  {
   "cell_type": "code",
   "execution_count": 5,
   "id": "43e6949c-df8b-4992-8538-347c0d53f78a",
   "metadata": {},
   "outputs": [
    {
     "ename": "ModuleNotFoundError",
     "evalue": "No module named 'flask'",
     "output_type": "error",
     "traceback": [
      "\u001b[0;31m---------------------------------------------------------------------------\u001b[0m",
      "\u001b[0;31mModuleNotFoundError\u001b[0m                       Traceback (most recent call last)",
      "Cell \u001b[0;32mIn[5], line 3\u001b[0m\n\u001b[1;32m      1\u001b[0m \u001b[38;5;66;03m#Ans04 : \u001b[39;00m\n\u001b[0;32m----> 3\u001b[0m \u001b[38;5;28;01mfrom\u001b[39;00m \u001b[38;5;21;01mflask\u001b[39;00m \u001b[38;5;28;01mimport\u001b[39;00m Flask\n\u001b[1;32m      5\u001b[0m app \u001b[38;5;241m=\u001b[39m Flask(\u001b[38;5;18m__name__\u001b[39m)\n\u001b[1;32m      7\u001b[0m \u001b[38;5;129m@app\u001b[39m\u001b[38;5;241m.\u001b[39mroute(\u001b[38;5;124m'\u001b[39m\u001b[38;5;124m/welcome\u001b[39m\u001b[38;5;124m'\u001b[39m)\n\u001b[1;32m      8\u001b[0m \u001b[38;5;28;01mdef\u001b[39;00m \u001b[38;5;21mwelcome\u001b[39m():\n",
      "\u001b[0;31mModuleNotFoundError\u001b[0m: No module named 'flask'"
     ]
    }
   ],
   "source": [
    "#Ans04 : \n",
    "\n",
    "from flask import Flask\n",
    "\n",
    "app = Flask(__name__)\n",
    "\n",
    "@app.route('/welcome')\n",
    "def welcome():\n",
    "    return 'Welcome to ABC Corporation'\n",
    "\n",
    "@app.route('/')\n",
    "def company_details():\n",
    "    return 'Company Name: ABC Corporation<br>Location: India<br>Contact Detail: 999-999-9999'\n",
    "\n",
    "if __name__ == '__main__':\n",
    "    app.run()\n"
   ]
  },
  {
   "cell_type": "code",
   "execution_count": 8,
   "id": "17df8b2d-9c9b-440c-8628-17ea22f00280",
   "metadata": {},
   "outputs": [
    {
     "ename": "ModuleNotFoundError",
     "evalue": "No module named 'flask'",
     "output_type": "error",
     "traceback": [
      "\u001b[0;31m---------------------------------------------------------------------------\u001b[0m",
      "\u001b[0;31mModuleNotFoundError\u001b[0m                       Traceback (most recent call last)",
      "Cell \u001b[0;32mIn[8], line 4\u001b[0m\n\u001b[1;32m      1\u001b[0m \u001b[38;5;66;03m#Ans05 : The url_for() function is used in Flask to build URLs for specific app routes. It takes the name of the target function as its first argument and any additional arguments that should be included in the URL as keyword arguments.\u001b[39;00m\n\u001b[1;32m      2\u001b[0m \n\u001b[1;32m      3\u001b[0m \u001b[38;5;66;03m#Example : \u001b[39;00m\n\u001b[0;32m----> 4\u001b[0m \u001b[38;5;28;01mfrom\u001b[39;00m \u001b[38;5;21;01mflask\u001b[39;00m \u001b[38;5;28;01mimport\u001b[39;00m Flask, url_for\n\u001b[1;32m      6\u001b[0m app \u001b[38;5;241m=\u001b[39m Flask(\u001b[38;5;18m__name__\u001b[39m)\n\u001b[1;32m      8\u001b[0m \u001b[38;5;129m@app\u001b[39m\u001b[38;5;241m.\u001b[39mroute(\u001b[38;5;124m'\u001b[39m\u001b[38;5;124m/hello/<name>\u001b[39m\u001b[38;5;124m'\u001b[39m)\n\u001b[1;32m      9\u001b[0m \u001b[38;5;28;01mdef\u001b[39;00m \u001b[38;5;21mhello\u001b[39m(name):\n",
      "\u001b[0;31mModuleNotFoundError\u001b[0m: No module named 'flask'"
     ]
    }
   ],
   "source": [
    "#Ans05 : The url_for() function is used in Flask to build URLs for specific app routes. It takes the name of the target function as its first argument and any additional arguments that should be included in the URL as keyword arguments.\n",
    "\n",
    "#Example : \n",
    "from flask import Flask, url_for\n",
    "\n",
    "app = Flask(__name__)\n",
    "\n",
    "@app.route('/hello/<name>')\n",
    "def hello(name):\n",
    "    return f'Hello, {name}!'\n",
    "\n",
    "with app.test_request_context():\n",
    "    print(url_for('hello', name='Alice'))\n",
    "    print(url_for('hello', name='Bob'))\n"
   ]
  },
  {
   "cell_type": "code",
   "execution_count": null,
   "id": "9f79552d-b030-4e4c-ae54-7c2c05c9482d",
   "metadata": {},
   "outputs": [],
   "source": []
  }
 ],
 "metadata": {
  "kernelspec": {
   "display_name": "Python 3 (ipykernel)",
   "language": "python",
   "name": "python3"
  },
  "language_info": {
   "codemirror_mode": {
    "name": "ipython",
    "version": 3
   },
   "file_extension": ".py",
   "mimetype": "text/x-python",
   "name": "python",
   "nbconvert_exporter": "python",
   "pygments_lexer": "ipython3",
   "version": "3.10.8"
  }
 },
 "nbformat": 4,
 "nbformat_minor": 5
}
