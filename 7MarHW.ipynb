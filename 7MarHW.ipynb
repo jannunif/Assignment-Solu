{
 "cells": [
  {
   "cell_type": "code",
   "execution_count": 1,
   "id": "69435d0e-f918-470d-b927-09383e627f2d",
   "metadata": {},
   "outputs": [],
   "source": [
    "#Ans01 : The three measures of central tendency are:\n",
    "\n",
    "# Mean  : It is the average of a set of data points. It is calculated by summing up all the data points and dividing by the total number of data points.\n",
    "# Median: It is the middle value in a dataset. It is calculated by arranging the data points in order and selecting the middle value.\n",
    "# Mode  : It is the most common value in a dataset. It is calculated by identifying the value that occurs most frequently in the dataset."
   ]
  },
  {
   "cell_type": "code",
   "execution_count": 3,
   "id": "87b203f4-c2a7-479c-9dba-9e870d05fa33",
   "metadata": {},
   "outputs": [],
   "source": [
    "#Ans02 : The mean, median, and mode are measures of central tendency used to describe a dataset.\n",
    "\n",
    "# Mean  : It is the sum of all the values in the dataset divided by the total number of values in the dataset. The mean is sensitive to outliers and extreme values, and it changes with the addition or removal of values. The mean is used to measure the average value of a dataset.\n",
    "# Median: It is the middle value in the dataset when the values are arranged in order. The median is not sensitive to outliers and extreme values, and it does not change with the addition or removal of values. The median is used to measure the central value of a dataset.\n",
    "# Mode  : It is the value that occurs most frequently in the dataset. The mode is not sensitive to outliers and extreme values, and it can be used for both qualitative and quantitative data. The mode is used to measure the most common value or category in a dataset."
   ]
  },
  {
   "cell_type": "code",
   "execution_count": 5,
   "id": "3a96257c-b83a-4f30-bc3c-d5a3089477d3",
   "metadata": {},
   "outputs": [],
   "source": [
    "#Ans03 : Mean = (178 + 177 + 176 + 177 + 178.2 + 178 + 175 + 179 + 180 + 175 + 178.9 + 176.2 + 177 + 172.5 + 178 + 176.5) / 16\n",
    "        #Mean = 176.95\n",
    "# Median value is (177 + 178) / 2 = 177.5\n",
    "# Mode of the given height data is 178"
   ]
  },
  {
   "cell_type": "code",
   "execution_count": 6,
   "id": "38cd49b2-9c74-43ac-a35f-87a7fee95bd1",
   "metadata": {},
   "outputs": [],
   "source": [
    "#Ans04 : standard deviation = 1.808979614"
   ]
  },
  {
   "cell_type": "code",
   "execution_count": 8,
   "id": "8f6ac34b-dff7-431f-9405-b59f64c5a9ef",
   "metadata": {},
   "outputs": [],
   "source": [
    "#Ans05 : Measures of dispersion are used to describe how spread out or clustered a dataset is around its central tendency (mean, median, or mode).\n",
    "\n",
    "# Range             : Range is the difference between the largest and smallest values in a dataset. It is a quick and easy way to measure dispersion, but it is sensitive to outliers. For example, if the range of heights in a group of people is 20 inches, this means that the shortest person is 20 inches shorter than the tallest person in the group.\n",
    "# Variance          : Variance measures how far each value in a dataset is from the mean. It is calculated by taking the average of the squared differences from the mean. A higher variance indicates that the data points are more spread out from the mean. For example, if the variance of exam scores is 100, this means that the scores are more spread out from the mean compared to a variance of 50.\n",
    "# Standard deviation: Standard deviation is the square root of the variance and is another measure of the spread of data around the mean. It is often used because it is in the same units as the data, making it easier to interpret. A higher standard deviation indicates that the data points are more spread out from the mean. For example, if the standard deviation of salaries in a company is $10,000, this means that most employees' salaries are within $10,000 of the mean salary, but some employees' salaries are more than $10,000 away from the mean."
   ]
  },
  {
   "cell_type": "code",
   "execution_count": 9,
   "id": "fc3c6bdd-e96f-4f00-8ac2-d99611078fcb",
   "metadata": {},
   "outputs": [],
   "source": [
    "#Ans06 : A Venn diagram is a graphical representation of sets, showing all possible logical relations between them. It is made up of overlapping circles, each representing a set, and the areas where the circles overlap represent the intersection of those sets. Venn diagrams are commonly used in mathematics, statistics, and other fields to illustrate the relationships between sets of data."
   ]
  },
  {
   "cell_type": "code",
   "execution_count": 10,
   "id": "467dabe1-2236-4796-9bef-5a7f4fd82802",
   "metadata": {},
   "outputs": [],
   "source": [
    "#Ans07 : \n",
    "#    (i) A B represents the intersection of sets A and B, i.e., the elements that are common to both sets. From the given sets A and B, we can see that the only element that is common to both sets is 6. Therefore, A B = {6}.\n",
    "#   (ii) A ⋃ B represents the union of sets A and B, i.e., all the elements in both sets combined without repetition. From the given sets A and B, we can see that the union of the sets contains all the elements from both sets without repetition, which gives us:\n",
    "#   A ⋃ B = {0, 2, 3, 4, 5, 6, 7, 8, 10}."
   ]
  },
  {
   "cell_type": "code",
   "execution_count": 11,
   "id": "d60942bb-fac7-4c25-8513-251d64a753b7",
   "metadata": {},
   "outputs": [],
   "source": [
    "#Ans08 : Skewness in data is a measure of the asymmetry of a probability distribution. In other words, it describes the degree to which a dataset is not symmetrical. A distribution can be said to be skewed if it is not evenly distributed around its mean.\n",
    "#A dataset can be classified as positively skewed if the tail on the right-hand side of the distribution is longer than the left-hand side, while a dataset can be classified as negatively skewed if the tail on the left-hand side of the distribution is longer than the right-hand side. A dataset is considered to be symmetrical if both sides of the distribution are equally long.\n",
    "#Skewness is important to consider when analyzing data because it can impact the interpretation of the central tendency and variability of the data. For example, if a dataset is positively skewed, the mean will be greater than the median, which can indicate that there are extreme values in the dataset that are pulling the mean away from the center of the distribution. On the other hand, if a dataset is negatively skewed, the mean will be less than the median, which can indicate that there are many low values in the dataset.\n"
   ]
  },
  {
   "cell_type": "code",
   "execution_count": 13,
   "id": "79ed06ee-323b-4c1d-8752-06b9f570bfea",
   "metadata": {},
   "outputs": [],
   "source": [
    "#Ans09 : If a data is right skewed, the median will be less than the mean."
   ]
  },
  {
   "cell_type": "code",
   "execution_count": 14,
   "id": "8b769b4f-49dc-40eb-9ff1-88c1add15c70",
   "metadata": {},
   "outputs": [],
   "source": [
    "#Ans10 : Covariance is a measure of how two variables change together. It is calculated by taking the sum of the products of the deviations of each variable from their respective means. A positive covariance indicates that the two variables tend to move in the same direction, while a negative covariance indicates that they move in opposite directions. However, the magnitude of covariance cannot be easily interpreted, as it is dependent on the units of the variables.\n",
    "#      : correlation measures the strength and direction of the linear relationship between two variables. Correlation ranges from -1 to 1, where a correlation of 1 indicates a perfect positive relationship, a correlation of -1 indicates a perfect negative relationship, and a correlation of 0 indicates no linear relationship. Unlike covariance, correlation is not affected by the scale of the variables, making it easier to compare the strength of the relationship between different pairs of variables."
   ]
  },
  {
   "cell_type": "code",
   "execution_count": 17,
   "id": "229d6be8-b45c-4acd-9948-9ce335851abe",
   "metadata": {},
   "outputs": [],
   "source": [
    "#Ans11 : The formula for calculating the sample mean (x̄) is: x̄ = (Σx) / n\n",
    "# where Σx represents the sum of all the values in the dataset, and n represents the sample size.\n",
    "\n",
    "#Example :\n",
    "\n",
    "# Suppose we have the following dataset of exam scores for a sample of 5 students: 75, 80, 85, 90, 95. To calculate the sample mean, we first add up all the scores:\n",
    "# Σx = 75 + 80 + 85 + 90 + 95 = 425\n",
    "# Next, we divide this sum by the sample size:\n",
    "# x̄ = 425 / 5 = 85\n",
    "# Therefore, the sample mean for this dataset is 85."
   ]
  },
  {
   "cell_type": "code",
   "execution_count": 18,
   "id": "54378ebe-9465-4302-94a0-7d9c4872320f",
   "metadata": {},
   "outputs": [],
   "source": [
    "#Ans12 : For a normal distribution data, the mean, median, and mode are all equal to each other. This is because the normal distribution is a symmetrical distribution, with the same amount of data on either side of the mean. Therefore, the point of symmetry, which is the mean, is also the point where the median and mode are located.\n",
    "#      :  In a normal distribution, the mean, median, and mode are all located at the peak of the curve, which is the highest point of the symmetrical bell-shaped curve. This point represents the most common or most frequent value in the dataset."
   ]
  },
  {
   "cell_type": "code",
   "execution_count": 19,
   "id": "eb41c0db-fcb9-47d6-96d1-498a4a8f5d4d",
   "metadata": {},
   "outputs": [],
   "source": [
    "#Ans13 : Covariance is a measure of the direction and strength of the linear relationship between two variables. It measures how much two variables change together. A positive covariance indicates that the two variables move in the same direction, while a negative covariance indicates that they move in opposite directions. However, the magnitude of covariance is dependent on the scale of the variables, making it difficult to compare covariances between different pairs of variables.\n",
    "#Correlation, on the other hand, is a standardized measure of the relationship between two variables, and it ranges from -1 to 1. A correlation of 1 indicates a perfect positive relationship, a correlation of -1 indicates a perfect negative relationship, and a correlation of 0 indicates no relationship. Correlation is unitless and is not affected by the scale of measurement of the variables, making it a more useful measure of association for comparing relationships between different pairs of variables."
   ]
  },
  {
   "cell_type": "code",
   "execution_count": 20,
   "id": "36afc041-fbe0-451f-8285-428c4839bc74",
   "metadata": {},
   "outputs": [],
   "source": [
    "#Ans14 : Outliers are data points that lie far away from the other values in a dataset. They can have a significant impact on measures of central tendency and dispersion.\n",
    "\n",
    "# In terms of measures of central tendency, outliers can greatly affect the mean or average value. For example, consider the following dataset: 1, 2, 3, 4, 5, 200. The median value is 3.5 and is not affected by the outlier, but the mean value is 36.83, which is significantly higher than the majority of the values in the dataset. This shows that outliers can skew the mean value, making it less representative of the overall dataset.\n",
    "# In terms of measures of dispersion, outliers can affect the range, variance, and standard deviation of a dataset. The range, for example, is the difference between the largest and smallest values in a dataset. If there is an outlier that is much larger or smaller than the other values, it will greatly affect the range. The variance and standard deviation are also affected by outliers, as they are both based on the distance between each data point and the mean value.\n",
    "# Overall, outliers can greatly affect statistical measures of central tendency and dispersion, and it is important to identify and appropriately deal with them in data analysis."
   ]
  }
 ],
 "metadata": {
  "kernelspec": {
   "display_name": "Python 3 (ipykernel)",
   "language": "python",
   "name": "python3"
  },
  "language_info": {
   "codemirror_mode": {
    "name": "ipython",
    "version": 3
   },
   "file_extension": ".py",
   "mimetype": "text/x-python",
   "name": "python",
   "nbconvert_exporter": "python",
   "pygments_lexer": "ipython3",
   "version": "3.10.8"
  }
 },
 "nbformat": 4,
 "nbformat_minor": 5
}
