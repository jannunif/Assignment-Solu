{
 "cells": [
  {
   "cell_type": "code",
   "execution_count": 1,
   "id": "1b63a034-b0b4-42d8-8f1a-654de2908c23",
   "metadata": {},
   "outputs": [],
   "source": [
    "import requests\n",
    "from bs4 import BeautifulSoup\n",
    "import csv\n",
    "\n",
    "# Make a GET request to the URL\n",
    "url = 'https://www.youtube.com/@PW-Foundation/videos'\n",
    "response = requests.get(url)\n",
    "\n",
    "# Parse the HTML content using Beautiful Soup\n",
    "soup = BeautifulSoup(response.content, 'html.parser')\n",
    "\n",
    "# Find the first five video containers\n",
    "video_containers = soup.find_all('div', class_='ytd-grid-video-renderer')[:5]\n",
    "\n",
    "# Extract the video URL, thumbnail URL, title, views, and time of posting of the first five videos\n",
    "video_data = []\n",
    "for container in video_containers:\n",
    "    # Video URL\n",
    "    video_url = 'https://www.youtube.com' + container.find('a', class_='yt-simple-endpoint')['href']\n",
    "    \n",
    "    # Thumbnail URL\n",
    "    thumbnail_url = container.find('img', class_='style-scope yt-img-shadow')['src']\n",
    "    \n",
    "    # Title\n",
    "    title = container.find('a', class_='yt-simple-endpoint').text\n",
    "    \n",
    "    # Views\n",
    "    views = container.find('span', class_='style-scope ytd-grid-video-renderer').text.strip()\n",
    "    \n",
    "    # Time of posting\n",
    "    time_of_posting = container.find('span', class_='style-scope ytd-grid-video-renderer').find_next_sibling().text.strip()\n",
    "    \n",
    "    # Add the data to a list\n",
    "    video_data.append([video_url, thumbnail_url, title, views, time_of_posting])\n",
    "\n",
    "# Save the data to a CSV file\n",
    "with open('youtube_data.csv', mode='w', newline='', encoding='utf-8') as file:\n",
    "    writer = csv.writer(file)\n",
    "    writer.writerow(['Video URL', 'Thumbnail URL', 'Title', 'Views', 'Time of Posting'])\n",
    "    writer.writerows(video_data)\n"
   ]
  },
  {
   "cell_type": "code",
   "execution_count": null,
   "id": "aa16e005-7015-45b5-95c4-87e80389aa64",
   "metadata": {},
   "outputs": [],
   "source": []
  }
 ],
 "metadata": {
  "kernelspec": {
   "display_name": "Python 3 (ipykernel)",
   "language": "python",
   "name": "python3"
  },
  "language_info": {
   "codemirror_mode": {
    "name": "ipython",
    "version": 3
   },
   "file_extension": ".py",
   "mimetype": "text/x-python",
   "name": "python",
   "nbconvert_exporter": "python",
   "pygments_lexer": "ipython3",
   "version": "3.10.8"
  }
 },
 "nbformat": 4,
 "nbformat_minor": 5
}
