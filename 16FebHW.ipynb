{
 "cells": [
  {
   "cell_type": "code",
   "execution_count": 1,
   "id": "9918d34c-ea7c-4f69-82b0-7b7410cb9699",
   "metadata": {},
   "outputs": [],
   "source": [
    "#Ans01 : A database is an organized collection of data that is stored and managed on a computer system. It is designed to enable efficient data storage, retrieval, and modification. Databases are used in a wide range of applications, from simple address books to complex enterprise resource planning systems.\n",
    "\n",
    "#SQL (Structured Query Language) and NoSQL (Not Only SQL) are two different types of database management systems. Here are the main differences between them:\n",
    "\n",
    "#1) Data Structure  : SQL databases are based on a structured data model, where data is stored in tables with predefined columns and rows. NoSQL databases, on the other hand, are based on a non-structured data model, where data can be stored in various formats, including document-oriented, graph-based, and key-value.\n",
    "#2) Query Language  : SQL databases use a standard query language called SQL to interact with the database. SQL allows users to perform complex queries, insert, update, delete, and retrieve data. NoSQL databases, on the other hand, have their own query languages or APIs that are specific to the type of database.\n",
    "#3) Scalability     : NoSQL databases are designed to scale horizontally, meaning they can handle large amounts of data by adding more servers to the cluster. SQL databases, on the other hand, are designed to scale vertically, meaning they can handle larger amounts of data by adding more processing power and memory to a single server.\n",
    "#4) Data Consistency: SQL databases prioritize data consistency over scalability, meaning all data in the database is always consistent and up-to-date. NoSQL databases prioritize scalability over consistency, meaning data may not always be consistent in a distributed environment.\n",
    "#5) Flexibility     : NoSQL databases are more flexible than SQL databases, allowing developers to easily modify the data structure as needed. SQL databases, on the other hand, have a rigid schema that is difficult to change once it is set."
   ]
  },
  {
   "cell_type": "code",
   "execution_count": 2,
   "id": "56928f5f-5830-40c1-a823-2453ca9fe7e8",
   "metadata": {},
   "outputs": [],
   "source": [
    "#Ans02 : DDL stands for Data Definition Language, which is a set of SQL statements used to define and manage the structure of a database. DDL statements are used to create, modify, and delete database objects such as tables, indexes, views, procedures, and triggers.\n",
    "# CREATE, DROP, ALTER, and TRUNCATE are all DDL (Data Definition Language) statements used to manage the structure of a database. Here are some examples of how they can be used:\n",
    "\n",
    "#1) CREATE statement is used to create a new database object, such as a table, index, or view. \n",
    "#For example: if you want to create a new table called \"customers\" in your database, you can use the following SQL statement\n",
    "    \n",
    "\n",
    "#2)DROP statement is used to delete a database object, such as a table or index. \n",
    "#For example:if you want to delete the \"customers\" table from your database, you can use the following SQL statement\n",
    " \n",
    "#3)ALTER statement is used to modify the structure of an existing database object, such as adding a new column to a table or changing the data type of a column. \n",
    "#For example: if you want to add a new column called \"phone\" to the \"customers\" table, you can use the following SQL statement\n",
    " \n",
    "#4)TRUNCATE statement is used to remove all data from a table while keeping the table structure intact.\n",
    "#For example: if you want to remove all data from the \"customers\" table, you can use the following SQL statement\n"
   ]
  },
  {
   "cell_type": "code",
   "execution_count": 3,
   "id": "3d3d2caf-0c30-43bf-8e4c-21b052c72be6",
   "metadata": {},
   "outputs": [],
   "source": [
    "#Ans03 : DML stands for Data Manipulation Language, which is a set of SQL statements used to manipulate data within a database. DML statements are used to insert, update, delete, and retrieve data from database tables.\n",
    "#INSERT, UPDATE, and DELETE are three common DML (Data Manipulation Language) statements used to manipulate data in a database. \n",
    "\n",
    "#01)INSERT statement is used to add new data to a table. \n",
    "#For example, if you want to add a new customer to the \"customers\" table, you can use the following SQL statement\n",
    "\n",
    "#02)UPDATE statement is used to modify existing data in a table. \n",
    "#For example, if you want to update the phone number for the customer with the name 'John Doe', you can use the following SQL statement.\n",
    "\n",
    "#03)DELETE statement is used to remove data from a table. \n",
    "#For example, if you want to delete the customer with the name 'John Doe' from the \"customers\" table, you can use the following SQL statement"
   ]
  },
  {
   "cell_type": "code",
   "execution_count": 9,
   "id": "cc0d415e-c414-4a25-9fe3-610f0874cb18",
   "metadata": {},
   "outputs": [],
   "source": [
    "#Ans04 : DQL stands for Data Query Language, which is a subset of SQL (Structured Query Language) used to retrieve data from a database. DQL statements are used to query data from one or more tables in a database.\n",
    "#SELECT is a DQL (Data Query Language) statement used to retrieve data from one or more tables in a database. SELECT statements allow you to specify which columns to retrieve, filter the data based on conditions, and sort the data in a specific order."
   ]
  },
  {
   "cell_type": "code",
   "execution_count": 12,
   "id": "506873b2-4b3e-415a-b085-8287fb08fe7f",
   "metadata": {},
   "outputs": [],
   "source": [
    "#Ans05 : Primary key and foreign key are two important concepts in relational databases.\n",
    "#A primary key is a column or a set of columns that uniquely identify each row in a table. Primary keys ensure that each row in a table can be identified and accessed easily, and they are used to enforce referential integrity between tables. Primary keys are usually created on columns that have unique values, such as an ID column or a combination of columns that together uniquely identify each row.\n",
    "\n"
   ]
  },
  {
   "cell_type": "code",
   "execution_count": 17,
   "id": "c35c84ea-914a-41e8-b32f-9a0ffe3fae86",
   "metadata": {},
   "outputs": [],
   "source": [
    "#Ans06 : \n",
    "\n",
    "#In Python, the cursor() and execute() methods are used to execute SQL commands on a database.\n",
    "#The cursor() method creates a cursor object, which is used to execute SQL commands and fetch data from the database. Once a cursor object is created, you can call its execute() method to execute SQL commands on the database.\n",
    "#The execute() method is used to execute an SQL command on the database. You pass the SQL command as a string argument to the method. The method returns None if the command is executed successfully. If the command returns any data, you can fetch the data using the cursor's fetchone(), fetchmany(), or fetchall() method."
   ]
  },
  {
   "cell_type": "code",
   "execution_count": 18,
   "id": "30386e5b-b6a7-43d3-b662-6e5c4c15d32f",
   "metadata": {},
   "outputs": [],
   "source": [
    "#Ans07: The order of execution of SQL clauses in an SQL query is as follows:\n",
    "\n",
    "#FROM clause    : The FROM clause specifies the table or tables from which the data is retrieved.\n",
    "#WHERE clause   : The WHERE clause is used to filter the data retrieved from the tables. It specifies the conditions that must be met for a row to be included in the result set.\n",
    "#GROUP BY clause: The GROUP BY clause is used to group the data retrieved from the tables based on one or more columns. It creates a summary of the data in each group.\n",
    "#HAVING clause  : The HAVING clause is used to filter the groups created by the GROUP BY clause based on a condition.\n",
    "#SELECT clause  : The SELECT clause is used to select the columns to be included in the result set. It can also be used to perform calculations on the data.\n",
    "#ORDER BY clause: The ORDER BY clause is used to sort the result set based on one or more columns.\n",
    "#LIMIT clause   : The LIMIT clause is used to limit the number of rows returned by the query."
   ]
  },
  {
   "cell_type": "code",
   "execution_count": null,
   "id": "f5b84dba-9eb7-48ab-a83e-dc65e3feed30",
   "metadata": {},
   "outputs": [],
   "source": []
  }
 ],
 "metadata": {
  "kernelspec": {
   "display_name": "Python 3 (ipykernel)",
   "language": "python",
   "name": "python3"
  },
  "language_info": {
   "codemirror_mode": {
    "name": "ipython",
    "version": 3
   },
   "file_extension": ".py",
   "mimetype": "text/x-python",
   "name": "python",
   "nbconvert_exporter": "python",
   "pygments_lexer": "ipython3",
   "version": "3.10.8"
  }
 },
 "nbformat": 4,
 "nbformat_minor": 5
}
