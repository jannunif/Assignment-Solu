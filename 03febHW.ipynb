{
 "cells": [
  {
   "cell_type": "code",
   "execution_count": 2,
   "id": "89625a7d-8c5e-452a-afe5-ffc33f5435ce",
   "metadata": {},
   "outputs": [],
   "source": [
    "#ANS01:: The def keyword is used to create a function in Python.\n",
    "\"\"\"EXAMPLE\"\"\"\n",
    "def odd_numbers():\n",
    "    odd_nums = []\n",
    "    for i in range(1, 26):\n",
    "        if i % 2 == 1:\n",
    "            odd_nums.append(i)\n",
    "    return odd_nums\n"
   ]
  },
  {
   "cell_type": "code",
   "execution_count": 9,
   "id": "24077af7-ec10-4379-9c17-f7b598272143",
   "metadata": {},
   "outputs": [],
   "source": [
    "#ANS02::\"\"\"*args and **kwargs are special syntax in Python that allows a function to accept an arbitrary number of arguments.\n",
    "#The *args syntax is used to pass a variable-length argument list to a function. It allows you to pass any number of positional arguments to a function, which are then collected into a tuple.\n",
    "#The **kwargs syntax is used to pass a variable-length keyword argument list to a function. It allows you to pass any number of keyword arguments to a function, which are then collected into a dictionary.\n",
    "#Examples of functions to demonstrate the use of *args and **kwargs:\n",
    "\n",
    "# Example function using *args\n",
    "def sum_numbers(*args):\n",
    "    total = 0\n",
    "    for num in args:\n",
    "        total += num\n",
    "    return total\n",
    "\n",
    "# Example function using **kwargs\n",
    "def print_kwargs(**kwargs):\n",
    "    for key, value in kwargs.items():\n",
    "        print(f\"{key} = {value}\")\n"
   ]
  },
  {
   "cell_type": "code",
   "execution_count": 8,
   "id": "73595f4e-7636-4fca-9b33-7adf00d1c20a",
   "metadata": {},
   "outputs": [
    {
     "name": "stdout",
     "output_type": "stream",
     "text": [
      "2\n",
      "4\n",
      "6\n",
      "8\n",
      "10\n"
     ]
    }
   ],
   "source": [
    "#ANS03:: Iterator is an object that can be iterated (looped) upon. An iterator is used to represent a stream of data, and it is responsible for returning the next value in the stream when next() is called on it.\n",
    "\n",
    "#The iter() method is used to initialize an iterator object, and the next() method is used to iterate over the elements of the iterator.\n",
    "\n",
    "#EXAMPLE of how to use these methods to print the first five elements of the given list [2, 4, 6, 8, 10, 12, 14, 16, 18, 20]:\n",
    "\n",
    "# Initialize the iterator object\n",
    "my_iter = iter([2, 4, 6, 8, 10, 12, 14, 16, 18, 20])\n",
    "\n",
    "# Iterate over the first five elements of the list\n",
    "for i in range(5):\n",
    "    # Get the next value from the iterator and print it\n",
    "    print(next(my_iter))\n"
   ]
  },
  {
   "cell_type": "code",
   "execution_count": 10,
   "id": "333da716-340d-43dd-9d89-18de0d3c2dfa",
   "metadata": {},
   "outputs": [],
   "source": [
    "#ANS04:: A generator function in Python is a type of function that returns an iterator, which can be iterated over to produce a sequence of values. The main difference between a normal function and a generator function is that a generator function uses the yield keyword to produce a series of values, whereas a normal function uses the return keyword to return a single value.\n",
    "#The yield keyword is used to return a value from the generator function without actually stopping the function's execution. When the yield keyword is encountered, the function's state is saved, and the yielded value is returned to the caller. The next time the function is called, execution resumes from where it left off, with all the local variables and their values retained.\n",
    "#Example of a simple generator function that generates the first n even numbers:\n",
    "\n",
    "def even_numbers(n):\n",
    "    i = 0\n",
    "    while i < n:\n",
    "        yield 2*i\n",
    "        i += 1\n"
   ]
  },
  {
   "cell_type": "code",
   "execution_count": 11,
   "id": "e8237ac3-133b-45dd-a2ce-71e9f2d0cda8",
   "metadata": {},
   "outputs": [
    {
     "name": "stdout",
     "output_type": "stream",
     "text": [
      "2\n",
      "3\n",
      "5\n",
      "7\n",
      "11\n",
      "13\n",
      "17\n",
      "19\n",
      "23\n",
      "29\n",
      "31\n",
      "37\n",
      "41\n",
      "43\n",
      "47\n",
      "53\n",
      "59\n",
      "61\n",
      "67\n",
      "71\n"
     ]
    }
   ],
   "source": [
    "#ANS05:: \n",
    "\n",
    "def primes():\n",
    "    \"\"\"Yield primes less than 1000 using Sieve of Eratosthenes.\"\"\"\n",
    "    # Initialize sieve\n",
    "    sieve = [True] * 1000\n",
    "    sieve[0] = sieve[1] = False\n",
    "    \n",
    "    # Sieve of Eratosthenes algorithm\n",
    "    for i in range(2, 1000):\n",
    "        if sieve[i]:\n",
    "            yield i\n",
    "            for j in range(i*i, 1000, i):\n",
    "                sieve[j] = False\n",
    "\n",
    "# Use the generator function to print the first 20 prime numbers\n",
    "prime_generator = primes()\n",
    "\n",
    "for i in range(20):\n",
    "    print(next(prime_generator))\n"
   ]
  },
  {
   "cell_type": "code",
   "execution_count": 12,
   "id": "58611cf1-81d6-4856-bf2f-ea3ae9de406f",
   "metadata": {},
   "outputs": [
    {
     "name": "stdout",
     "output_type": "stream",
     "text": [
      "0\n",
      "1\n",
      "1\n",
      "2\n",
      "3\n",
      "5\n",
      "8\n",
      "13\n",
      "21\n",
      "34\n"
     ]
    }
   ],
   "source": [
    "#ANS06:: # Initialize the first two terms of the sequence\n",
    "a, b = 0, 1\n",
    "\n",
    "# Counter variable to keep track of how many numbers have been printed\n",
    "count = 0\n",
    "\n",
    "# Loop to print the first 10 Fibonacci numbers\n",
    "while count < 10:\n",
    "    # Print the current term\n",
    "    print(a)\n",
    "    \n",
    "    # Update the values of a and b to get the next term in the sequence\n",
    "    a, b = b, a + b\n",
    "    \n",
    "    # Increment the counter variable\n",
    "    count += 1\n"
   ]
  },
  {
   "cell_type": "code",
   "execution_count": 14,
   "id": "1bbd5393-b72e-4333-9740-391073768d8e",
   "metadata": {},
   "outputs": [
    {
     "name": "stdout",
     "output_type": "stream",
     "text": [
      "0\n",
      "1\n",
      "1\n",
      "2\n",
      "3\n",
      "5\n",
      "8\n",
      "13\n",
      "21\n",
      "34\n"
     ]
    }
   ],
   "source": [
    "#ANS07:: \n",
    "# Initialize the first two terms of the sequence\n",
    "a, b = 0, 1\n",
    "\n",
    "# Counter variable to keep track of how many numbers have been printed\n",
    "count = 0\n",
    "\n",
    "# Loop to print the first 10 Fibonacci numbers\n",
    "while count < 10:\n",
    "    # Print the current term\n",
    "    print(a)\n",
    "    \n",
    "    # Update the values of a and b to get the next term in the sequence\n",
    "    a, b = b, a + b\n",
    "    \n",
    "    # Increment the counter variable\n",
    "    count += 1\n"
   ]
  },
  {
   "cell_type": "code",
   "execution_count": 15,
   "id": "e49b4a41-f917-4b23-8e9f-fe09c7f382c7",
   "metadata": {},
   "outputs": [
    {
     "name": "stdin",
     "output_type": "stream",
     "text": [
      "Enter a number:  4\n"
     ]
    },
    {
     "name": "stdout",
     "output_type": "stream",
     "text": [
      "4 is a palindrome\n"
     ]
    }
   ],
   "source": [
    "#ANS08::\n",
    "\n",
    "# Take input from the user\n",
    "num = int(input(\"Enter a number: \"))\n",
    "\n",
    "# Store the original number in a temporary variable\n",
    "temp = num\n",
    "\n",
    "# Initialize the reverse variable to 0\n",
    "reverse = 0\n",
    "\n",
    "# Loop to reverse the number\n",
    "while temp > 0:\n",
    "    # Get the last digit of the number\n",
    "    digit = temp % 10\n",
    "    \n",
    "    # Add the digit to the reversed number\n",
    "    reverse = reverse * 10 + digit\n",
    "    \n",
    "    # Remove the last digit from the number\n",
    "    temp = temp // 10\n",
    "\n",
    "# Check if the original number and the reversed number are the same\n",
    "if num == reverse:\n",
    "    print(num, \"is a palindrome\")\n",
    "else:\n",
    "    print(num, \"is not a palindrome\")\n"
   ]
  },
  {
   "cell_type": "code",
   "execution_count": 16,
   "id": "221f7fa8-a234-4d27-99af-15cccca6f67f",
   "metadata": {},
   "outputs": [
    {
     "name": "stdout",
     "output_type": "stream",
     "text": [
      "[1, 3, 5, 7, 9, 11, 13, 15, 17, 19, 21, 23, 25, 27, 29, 31, 33, 35, 37, 39, 41, 43, 45, 47, 49, 51, 53, 55, 57, 59, 61, 63, 65, 67, 69, 71, 73, 75, 77, 79, 81, 83, 85, 87, 89, 91, 93, 95, 97, 99]\n"
     ]
    }
   ],
   "source": [
    "#ANS09::\n",
    "\n",
    "odd_numbers = [num for num in range(1, 101) if num % 2 != 0]\n",
    "print(odd_numbers)"
   ]
  },
  {
   "cell_type": "code",
   "execution_count": null,
   "id": "cfcb1653-6a1a-4469-bc8d-9b336345a7ab",
   "metadata": {},
   "outputs": [],
   "source": []
  }
 ],
 "metadata": {
  "kernelspec": {
   "display_name": "Python 3 (ipykernel)",
   "language": "python",
   "name": "python3"
  },
  "language_info": {
   "codemirror_mode": {
    "name": "ipython",
    "version": 3
   },
   "file_extension": ".py",
   "mimetype": "text/x-python",
   "name": "python",
   "nbconvert_exporter": "python",
   "pygments_lexer": "ipython3",
   "version": "3.10.8"
  }
 },
 "nbformat": 4,
 "nbformat_minor": 5
}
