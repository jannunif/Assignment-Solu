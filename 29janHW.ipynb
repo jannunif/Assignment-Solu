{
 "cells": [
  {
   "cell_type": "code",
   "execution_count": 1,
   "id": "ed40ab0c-8930-4c31-a658-6c182d4baaaa",
   "metadata": {},
   "outputs": [],
   "source": [
    "#ans01 Python was developed by Guido van Rossum"
   ]
  },
  {
   "cell_type": "code",
   "execution_count": 3,
   "id": "b96f8744-8b1f-492b-81ea-eb6e48dfd616",
   "metadata": {},
   "outputs": [],
   "source": [
    "#ans02 'Python is a general-purpose programming language that supports multiple programming paradigms, including:\n",
    "\n",
    "#Procedural Programming           : Python supports procedural programming, which is a programming paradigm that focuses on writing procedures or functions to perform specific tasks.\n",
    "#Object-Oriented Programming (OOP): Python supports object-oriented programming, which is a programming paradigm that uses objects to represent and manipulate data.\n",
    "#Functional Programming           : Python also supports functional programming, which is a programming paradigm that emphasizes the use of pure functions to solve problems.\n",
    "#Scripting                        : Python is commonly used as a scripting language, which means it can be used to automate tasks and create simple programs quickly.\n",
    "#Web Development                  : Python has several frameworks, such as Django and Flask, that make it popular for web development.\n",
    "#Data Science                     : Python has several libraries, such as NumPy, Pandas, and Matplotlib, that make it popular for data science and scientific computing.\n",
    "#AI & ML                          : Python has several libraries, such as TensorFlow, Keras, and PyTorch, that make it popular for AI and ML applications."
   ]
  },
  {
   "cell_type": "code",
   "execution_count": 4,
   "id": "e7b768d9-32b6-4f53-9587-b913c69b6ccf",
   "metadata": {},
   "outputs": [],
   "source": [
    "#ans03 YES, Python is case-sensitive when dealing with identifiers. This means that the uppercase and lowercase letters in an identifier are considered to be distinct and different from each other.\n",
    "#For example, the variable names myVar, myvar, and MYVAR are all different identifiers in Python. If you try to reference a variable using an incorrect case, you will get a NameError, indicating that the variable is not defined.\n",
    "#It is important to be consistent in your use of case when naming identifiers in Python to avoid confusion and errors. It is also considered good practice to follow the PEP 8 style guide, which recommends using lowercase letters and underscores to separate words in variable and function names."
   ]
  },
  {
   "cell_type": "code",
   "execution_count": 5,
   "id": "753da02b-30fc-4d56-b6f4-132a9e55a781",
   "metadata": {},
   "outputs": [],
   "source": [
    "#ans04  The correct extension of a Python file is .py"
   ]
  },
  {
   "cell_type": "code",
   "execution_count": 6,
   "id": "dff5d6f8-297e-48a0-bd7c-a30c80ffb694",
   "metadata": {},
   "outputs": [],
   "source": [
    "#ans05 Python is an interpreted language. This means that Python code is not compiled into machine code that can be executed directly by a computer's CPU. Instead, Python code is executed by an interpreter, which reads and executes the code line by line.\n"
   ]
  },
  {
   "cell_type": "code",
   "execution_count": 17,
   "id": "be9da50c-5a6b-48ef-9f25-98920e36387c",
   "metadata": {},
   "outputs": [
    {
     "name": "stdout",
     "output_type": "stream",
     "text": [
      "0\n",
      "1\n",
      "2\n",
      "3\n",
      "4\n",
      "5\n",
      "6\n",
      "7\n",
      "8\n",
      "9\n"
     ]
    },
    {
     "ename": "TypeError",
     "evalue": "'<' not supported between instances of 'str' and 'int'",
     "output_type": "error",
     "traceback": [
      "\u001b[0;31m---------------------------------------------------------------------------\u001b[0m",
      "\u001b[0;31mTypeError\u001b[0m                                 Traceback (most recent call last)",
      "Cell \u001b[0;32mIn[17], line 6\u001b[0m\n\u001b[1;32m      3\u001b[0m \u001b[38;5;28;01mfor\u001b[39;00m i \u001b[38;5;129;01min\u001b[39;00m \u001b[38;5;28mrange\u001b[39m(\u001b[38;5;241m10\u001b[39m):\n\u001b[1;32m      4\u001b[0m     \u001b[38;5;28mprint\u001b[39m(i)\n\u001b[0;32m----> 6\u001b[0m \u001b[38;5;28;01mwhile\u001b[39;00m \u001b[43mx\u001b[49m\u001b[43m \u001b[49m\u001b[38;5;241;43m<\u001b[39;49m\u001b[43m \u001b[49m\u001b[38;5;241;43m10\u001b[39;49m:\n\u001b[1;32m      7\u001b[0m     x \u001b[38;5;241m=\u001b[39m x \u001b[38;5;241m+\u001b[39m \u001b[38;5;241m1\u001b[39m\n\u001b[1;32m      8\u001b[0m     \u001b[38;5;28mprint\u001b[39m(x)\n",
      "\u001b[0;31mTypeError\u001b[0m: '<' not supported between instances of 'str' and 'int'"
     ]
    }
   ],
   "source": [
    "#ans06 \n",
    "\n",
    "for i in range(10):\n",
    "    print(i)\n",
    "\n",
    "while x < 10:\n",
    "    x = x + 1\n",
    "    print(x)\n"
   ]
  },
  {
   "cell_type": "code",
   "execution_count": 18,
   "id": "9b6123c6-096a-4371-92d0-92c9b041e928",
   "metadata": {},
   "outputs": [],
   "source": [
    "#ans07 the character used to give single-line comments is the hash symbol (#)"
   ]
  },
  {
   "cell_type": "code",
   "execution_count": 19,
   "id": "f77a9e80-96af-4751-892f-fe2833d19bca",
   "metadata": {},
   "outputs": [
    {
     "name": "stdout",
     "output_type": "stream",
     "text": [
      "Python version\n",
      "3.10.8 | packaged by conda-forge | (main, Nov 22 2022, 08:26:04) [GCC 10.4.0]\n"
     ]
    }
   ],
   "source": [
    "#ans08 Using the sys module: The sys module provides information about the Python interpreter and the system on which it is running. You can use sys.version to get the version of Python you are using.\n",
    "\n",
    "import sys\n",
    "\n",
    "print(\"Python version\")\n",
    "print(sys.version)\n"
   ]
  },
  {
   "cell_type": "code",
   "execution_count": 20,
   "id": "b7b9a979-e6e9-43ab-ad2a-747bc277842a",
   "metadata": {},
   "outputs": [
    {
     "data": {
      "text/plain": [
       "<function __main__.<lambda>(arguments)>"
      ]
     },
     "execution_count": 20,
     "metadata": {},
     "output_type": "execute_result"
    }
   ],
   "source": [
    "#ans09 Python supports the creation of anonymous functions at runtime, using a construct called \"lambda\" functions. Lambda functions are also known as anonymous functions because they are defined without a name.\n",
    "\n",
    "#The general syntax for a lambda function is:\n",
    "\n",
    "lambda arguments: expression\n"
   ]
  },
  {
   "cell_type": "code",
   "execution_count": 21,
   "id": "d510c2a0-14ce-4dd7-b4f2-508e4bea3bd7",
   "metadata": {},
   "outputs": [],
   "source": [
    "#ans10 \"Pip\" stands for \"Pip Installs Packages\". It is a package management system used to install and manage software packages (libraries, modules, etc.) written in Python. Pip makes it easy to install and use external packages, making it an essential tool for Python developers."
   ]
  },
  {
   "cell_type": "code",
   "execution_count": 31,
   "id": "a593e14d-652c-4db2-bf5a-6ce179c8b2f4",
   "metadata": {},
   "outputs": [],
   "source": [
    "#ans11  Here are some commonly used built-in functions in Python:\n",
    "\n",
    "# print()              : Used to print output to the console.\n",
    "# type()               : Used to determine the type of a variable or value.\n",
    "# len()                : Used to get the length of a string, list, tuple, or other iterable.\n",
    "# input()              : Used to get input from the user via the console.\n",
    "# str(), int(), float(): Used to convert values to strings, integers, or floating-point numbers, respectively.\n",
    "# range()              : Used to generate a sequence of numbers.\n",
    "# max(), min()         : Used to find the maximum or minimum value in a list or other iterable.\n",
    "# sum()                : Used to calculate the sum of all values in a list or other iterable.\n",
    "# abs()                : Used to get the absolute value of a number.\n",
    "# round()              : Used to round a number to a specified number of decimal places."
   ]
  },
  {
   "cell_type": "code",
   "execution_count": 23,
   "id": "0883c422-2f7c-440d-bcf5-107ecafafc2e",
   "metadata": {},
   "outputs": [],
   "source": [
    "#ans12 the maximum length of an identifier is not explicitly defined, but most identifiers in Python are less than 79 characters long, which is the standard line length recommended by the Python style guide (PEP 8)."
   ]
  },
  {
   "cell_type": "code",
   "execution_count": 30,
   "id": "26983cdb-45e3-4334-b503-078f0fb17dc3",
   "metadata": {},
   "outputs": [],
   "source": [
    "#ans13  Some of the key benefits of using Python :::\n",
    "\n",
    "#Easy to Learn and Use  : Python has a simple syntax and is easy to read and write, which makes it a great choice for beginners and experienced developers alike.\n",
    "#Large Standard Library : Python comes with a large standard library that includes modules for tasks such as web development, file handling, and data analysis, among others.\n",
    "#Versatile              : Python can be used for a wide range of applications, including web development, scientific computing, data analysis, artificial intelligence, and more.\n",
    "#Cross-Platform         : Python code can run on a variety of platforms, including Windows, Mac, and Linux, without the need for any changes.\n",
    "#Open Source            : Python is an open-source language, which means that the source code is freely available and can be modified and distributed by anyone.\n",
    "#High Productivity      : Python is designed to be productive, which means that developers can write code quickly and efficiently, without sacrificing performance.\n",
    "#Great Community Support: Python has a large and active community of developers who contribute to the language by developing libraries, tools, and frameworks, and providing support to other developers."
   ]
  },
  {
   "cell_type": "code",
   "execution_count": 26,
   "id": "b9df9c15-95ee-415f-ae82-25de68179284",
   "metadata": {},
   "outputs": [],
   "source": [
    "#ans14 memory management is handled automatically by the interpreter through a mechanism known as automatic garbage collection. Python uses a technique called reference counting to keep track of objects in memory."
   ]
  },
  {
   "cell_type": "code",
   "execution_count": 29,
   "id": "47c7056e-cd2f-4cbe-a7f8-3263cbf4b6e2",
   "metadata": {},
   "outputs": [],
   "source": [
    "#ans15 To install Python on Windows and set the path variables, follow these steps:\n",
    "\n",
    "#01)  Download the latest version of Python from the official Python website (https://www.python.org/downloads/windows/).\n",
    "#02)  Run the downloaded installer and follow the prompts to install Python on your system.\n",
    "#03)  During the installation process, make sure to select the option to add Python to your system PATH variable. This will allow you to run Python from the command prompt without having to specify the full path to the Python executable.\n",
    "#04)  Once the installation is complete, open a command prompt and type python. If Python is installed correctly, you should see the Python interpreter start up."
   ]
  },
  {
   "cell_type": "code",
   "execution_count": 28,
   "id": "c7fcff96-93e7-4b35-9955-85b886771678",
   "metadata": {},
   "outputs": [],
   "source": [
    "#ans16  Yes, indentation is required in Python. In Python, code blocks are defined by their indentation level, rather than by enclosing braces or keywords. The standard convention is to use four spaces for each level of indentation. If you don't indent your code correctly, you will get an IndentationError. Indentation is an important part of Python's syntax and helps to make the code more readable and maintainable."
   ]
  },
  {
   "cell_type": "code",
   "execution_count": null,
   "id": "1e32b55e-6da6-4b19-ac2a-9378fd1d5a89",
   "metadata": {},
   "outputs": [],
   "source": []
  }
 ],
 "metadata": {
  "kernelspec": {
   "display_name": "Python 3 (ipykernel)",
   "language": "python",
   "name": "python3"
  },
  "language_info": {
   "codemirror_mode": {
    "name": "ipython",
    "version": 3
   },
   "file_extension": ".py",
   "mimetype": "text/x-python",
   "name": "python",
   "nbconvert_exporter": "python",
   "pygments_lexer": "ipython3",
   "version": "3.10.8"
  }
 },
 "nbformat": 4,
 "nbformat_minor": 5
}
