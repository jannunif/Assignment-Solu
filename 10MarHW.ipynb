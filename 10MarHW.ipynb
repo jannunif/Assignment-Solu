{
 "cells": [
  {
   "cell_type": "code",
   "execution_count": 1,
   "id": "bc4a964c-e6cd-434b-aa02-94efca99ec0c",
   "metadata": {},
   "outputs": [],
   "source": [
    "#Ans01 : Estimation statistics is a branch of statistics that deals with estimating or inferring the unknown population parameters based on sample data. In estimation statistics, we use sample data to make inferences about the population. Estimation statistics can be divided into two types: point estimation and interval estimation.\n",
    "#        Point estimation involves using a single value, known as a point estimate, to estimate an unknown population parameter. A point estimate is the best estimate of a population parameter based on a sample. For example, if we want to estimate the mean height of all students in a university, we can take a random sample of students and calculate the mean height of the sample. The resulting value is the point estimate of the population mean.\n",
    "#        Interval estimation involves estimating an unknown population parameter by specifying a range of values, known as an interval estimate, within which the true value of the parameter is expected to lie. Interval estimation is more informative than point estimation because it provides a range of values instead of a single value. The interval estimate is calculated based on the sample data and the level of confidence desired. The level of confidence is typically chosen to be 90%, 95%, or 99%."
   ]
  },
  {
   "cell_type": "code",
   "execution_count": 3,
   "id": "ad9cee95-ac73-4caf-8976-8288b3f599f4",
   "metadata": {},
   "outputs": [],
   "source": [
    "#Ans02 : \n",
    "def estimate_pop_mean(sample_mean, sample_std, sample_size):\n",
    "    \"\"\"Estimates the population mean using a sample mean and standard deviation.\"\"\"\n",
    "    import math\n",
    "    # Calculate the standard error\n",
    "    std_error = sample_std / math.sqrt(sample_size)\n",
    "    # Calculate the lower and upper bounds of the interval estimate\n",
    "    lower_bound = sample_mean - 1.96 * std_error\n",
    "    upper_bound = sample_mean + 1.96 * std_error\n",
    "    # Return the interval estimate\n",
    "    return (lower_bound, upper_bound)\n"
   ]
  },
  {
   "cell_type": "code",
   "execution_count": 4,
   "id": "185beb83-8322-4c67-9224-56cae8b307e1",
   "metadata": {},
   "outputs": [
    {
     "data": {
      "text/plain": [
       "'\\nHypothesis testing is a statistical method that is used to make decisions about the characteristics of a population based on a sample from that population. In hypothesis testing, a hypothesis is formulated and then tested against the available evidence to determine whether to accept or reject the hypothesis.\\nHypothesis testing is used to make inferences about a population parameter based on a sample from that population. It is used to test whether a hypothesis about the population is true or not. For example, in a clinical trial, a hypothesis might be that a new drug is more effective than an existing drug. Hypothesis testing can be used to determine whether the evidence supports this hypothesis or not.\\nThe importance of hypothesis testing is that it allows us to make decisions based on data rather than intuition or guesswork. It provides a structured approach for making decisions based on evidence, which is important in many fields such as science, engineering, and medicine. Hypothesis testing also helps to ensure that our conclusions are based on sound statistical principles, which helps to reduce the likelihood of making incorrect decisions or drawing incorrect conclusions. '"
      ]
     },
     "execution_count": 4,
     "metadata": {},
     "output_type": "execute_result"
    }
   ],
   "source": [
    "#Ans03 : \n",
    "\"\"\"\n",
    "Hypothesis testing is a statistical method that is used to make decisions about the characteristics of a population based on a sample from that population. In hypothesis testing, a hypothesis is formulated and then tested against the available evidence to determine whether to accept or reject the hypothesis.\n",
    "Hypothesis testing is used to make inferences about a population parameter based on a sample from that population. It is used to test whether a hypothesis about the population is true or not. For example, in a clinical trial, a hypothesis might be that a new drug is more effective than an existing drug. Hypothesis testing can be used to determine whether the evidence supports this hypothesis or not.\n",
    "The importance of hypothesis testing is that it allows us to make decisions based on data rather than intuition or guesswork. It provides a structured approach for making decisions based on evidence, which is important in many fields such as science, engineering, and medicine. Hypothesis testing also helps to ensure that our conclusions are based on sound statistical principles, which helps to reduce the likelihood of making incorrect decisions or drawing incorrect conclusions. \"\"\""
   ]
  },
  {
   "cell_type": "code",
   "execution_count": 5,
   "id": "08b9ac58-f2dd-4e5b-99ac-21eea35b8702",
   "metadata": {},
   "outputs": [],
   "source": [
    "#Ans04 : Null hypothesis: The average weight of male college students is not significantly greater than the average weight of female college students.\n",
    "#Alternative hypothesis: The average weight of male college students is significantly greater than the average weight of female college students."
   ]
  },
  {
   "cell_type": "code",
   "execution_count": 6,
   "id": "f7c4d6bf-eba2-40d2-bac1-2a891f313d35",
   "metadata": {},
   "outputs": [
    {
     "name": "stdout",
     "output_type": "stream",
     "text": [
      "Sample 1 mean: 50.37\n",
      "Sample 2 mean: 43.68\n",
      "t-statistic: 2.54\n",
      "p-value: 0.0138\n"
     ]
    }
   ],
   "source": [
    "#Ans05 : \n",
    "import numpy as np\n",
    "from scipy.stats import ttest_ind\n",
    "\n",
    "# sample data from population 1\n",
    "pop1_mean = 50\n",
    "pop1_stddev = 10\n",
    "sample1_size = 30\n",
    "sample1 = np.random.normal(pop1_mean, pop1_stddev, sample1_size)\n",
    "\n",
    "# sample data from population 2\n",
    "pop2_mean = 45\n",
    "pop2_stddev = 12\n",
    "sample2_size = 35\n",
    "sample2 = np.random.normal(pop2_mean, pop2_stddev, sample2_size)\n",
    "\n",
    "# perform two-sample t-test assuming unequal variances\n",
    "t_stat, p_val = ttest_ind(sample1, sample2, equal_var=False)\n",
    "\n",
    "# print results\n",
    "print(\"Sample 1 mean: {:.2f}\".format(np.mean(sample1)))\n",
    "print(\"Sample 2 mean: {:.2f}\".format(np.mean(sample2)))\n",
    "print(\"t-statistic: {:.2f}\".format(t_stat))\n",
    "print(\"p-value: {:.4f}\".format(p_val))\n"
   ]
  },
  {
   "cell_type": "code",
   "execution_count": 8,
   "id": "0d907730-690b-4599-af05-5444c8accc5b",
   "metadata": {},
   "outputs": [
    {
     "data": {
      "text/plain": [
       "'\\nIn hypothesis testing, the null hypothesis is a statement that suggests there is no statistical significance between the variables being tested. The alternative hypothesis, on the other hand, is a statement that contradicts the null hypothesis and suggests that there is statistical significance between the variables.\\n\\nExamples of null and alternative hypotheses are:\\n\\n1)Null hypothesis: There is no significant difference in the mean income of men and women in the population.\\nAlternative hypothesis: The mean income of men is significantly different from the mean income of women in the population.\\n\\n2)Null hypothesis: There is no significant relationship between smoking and lung cancer.\\nAlternative hypothesis: There is a significant relationship between smoking and lung cancer.\\n\\n3)Null hypothesis: There is no significant difference in the effectiveness of two different drugs in treating a certain disease.\\nAlternative hypothesis: There is a significant difference in the effectiveness of the two drugs in treating the disease. '"
      ]
     },
     "execution_count": 8,
     "metadata": {},
     "output_type": "execute_result"
    }
   ],
   "source": [
    "#Ans06 :\n",
    "\"\"\"\n",
    "In hypothesis testing, the null hypothesis is a statement that suggests there is no statistical significance between the variables being tested. The alternative hypothesis, on the other hand, is a statement that contradicts the null hypothesis and suggests that there is statistical significance between the variables.\n",
    "\n",
    "Examples of null and alternative hypotheses are:\n",
    "\n",
    "1)Null hypothesis: There is no significant difference in the mean income of men and women in the population.\n",
    "Alternative hypothesis: The mean income of men is significantly different from the mean income of women in the population.\n",
    "\n",
    "2)Null hypothesis: There is no significant relationship between smoking and lung cancer.\n",
    "Alternative hypothesis: There is a significant relationship between smoking and lung cancer.\n",
    "\n",
    "3)Null hypothesis: There is no significant difference in the effectiveness of two different drugs in treating a certain disease.\n",
    "Alternative hypothesis: There is a significant difference in the effectiveness of the two drugs in treating the disease. \"\"\""
   ]
  },
  {
   "cell_type": "code",
   "execution_count": 9,
   "id": "9085f7d7-e642-473d-b4e2-2ff579511fee",
   "metadata": {},
   "outputs": [
    {
     "data": {
      "text/plain": [
       "'\\nThe following are the steps involved in hypothesis testing:\\n\\n1) State the null hypothesis and alternative hypothesis: Start by stating the null hypothesis (H0) and the alternative hypothesis (Ha), where the null hypothesis is the hypothesis to be tested and the alternative hypothesis is the hypothesis to be accepted if the null hypothesis is rejected.\\n2) Set the significance level: Choose the significance level (α) or the probability of rejecting the null hypothesis when it is actually true.\\n3) Choose the test statistic: Based on the null and alternative hypotheses, choose the appropriate test statistic.\\n4) Compute the test statistic: Using the sample data, compute the value of the test statistic.\\n5) Determine the p-value: Calculate the probability of obtaining a test statistic at least as extreme as the one computed in Step 4, assuming the null hypothesis is true.\\n6) Make a decision: Compare the p-value obtained in Step 5 to the significance level set in Step 2. If the p-value is less than the significance level, reject the null hypothesis. If the p-value is greater than the significance level, fail to reject the null hypothesis.\\n7) Draw a conclusion: Finally, interpret the results of the hypothesis test in the context of the problem being investigated.   '"
      ]
     },
     "execution_count": 9,
     "metadata": {},
     "output_type": "execute_result"
    }
   ],
   "source": [
    "#Ans07 :\n",
    "\"\"\"\n",
    "The following are the steps involved in hypothesis testing:\n",
    "\n",
    "1) State the null hypothesis and alternative hypothesis: Start by stating the null hypothesis (H0) and the alternative hypothesis (Ha), where the null hypothesis is the hypothesis to be tested and the alternative hypothesis is the hypothesis to be accepted if the null hypothesis is rejected.\n",
    "2) Set the significance level: Choose the significance level (α) or the probability of rejecting the null hypothesis when it is actually true.\n",
    "3) Choose the test statistic: Based on the null and alternative hypotheses, choose the appropriate test statistic.\n",
    "4) Compute the test statistic: Using the sample data, compute the value of the test statistic.\n",
    "5) Determine the p-value: Calculate the probability of obtaining a test statistic at least as extreme as the one computed in Step 4, assuming the null hypothesis is true.\n",
    "6) Make a decision: Compare the p-value obtained in Step 5 to the significance level set in Step 2. If the p-value is less than the significance level, reject the null hypothesis. If the p-value is greater than the significance level, fail to reject the null hypothesis.\n",
    "7) Draw a conclusion: Finally, interpret the results of the hypothesis test in the context of the problem being investigated.   \"\"\""
   ]
  },
  {
   "cell_type": "code",
   "execution_count": 10,
   "id": "e409c83c-0caa-453b-b73e-49524dcdd863",
   "metadata": {},
   "outputs": [],
   "source": [
    "#Ans08 : In hypothesis testing, the p-value is the probability of obtaining a test statistic as extreme as or more extreme than the observed results, assuming that the null hypothesis is true.\n",
    "#In simpler terms, the p-value indicates the likelihood of the observed sample data being consistent with the null hypothesis. If the p-value is very small (typically less than 0.05), it suggests that the observed results are unlikely to have occurred by chance alone, and hence, the null hypothesis can be rejected in favor of the alternative hypothesis.\n",
    "#The significance of the p-value is that it provides a way to determine the strength of evidence against the null hypothesis. A small p-value indicates strong evidence against the null hypothesis, while a large p-value suggests weak evidence against the null hypothesis. Therefore, the p-value is a crucial component in hypothesis testing, as it helps in making decisions about whether to accept or reject the null hypothesis."
   ]
  },
  {
   "cell_type": "code",
   "execution_count": 11,
   "id": "6e102012-5c68-4ba0-8791-92c4739a3bcf",
   "metadata": {},
   "outputs": [
    {
     "data": {
      "image/png": "[encoded data removed]",
      "text/plain": [
       "<Figure size 640x480 with 1 Axes>"
      ]
     },
     "metadata": {},
     "output_type": "display_data"
    }
   ],
   "source": [
    "#Ans09 : \n",
    "import numpy as np\n",
    "import matplotlib.pyplot as plt\n",
    "from scipy.stats import t\n",
    "\n",
    "df = 10  # degrees of freedom\n",
    "x = np.linspace(-4, 4, 1000)\n",
    "y = t.pdf(x, df)\n",
    "\n",
    "plt.plot(x, y)\n",
    "plt.title(\"Student's t-distribution with df = 10\")\n",
    "plt.xlabel('x')\n",
    "plt.ylabel('pdf')\n",
    "plt.show()\n"
   ]
  },
  {
   "cell_type": "code",
   "execution_count": 12,
   "id": "2f58a8bd-8b5f-44ba-971e-9b1aa9db2e8e",
   "metadata": {},
   "outputs": [
    {
     "name": "stdout",
     "output_type": "stream",
     "text": [
      "t-statistic: -3.814516598673118\n",
      "p-value: 0.0002387701995407792\n"
     ]
    }
   ],
   "source": [
    "#Ans10 : \n",
    "import numpy as np\n",
    "from scipy.stats import ttest_ind\n",
    "\n",
    "# Generate two random samples\n",
    "sample1 = np.random.normal(10, 2, 50)\n",
    "sample2 = np.random.normal(12, 3, 50)\n",
    "\n",
    "# Calculate the t-test statistic and p-value\n",
    "t_stat, p_val = ttest_ind(sample1, sample2)\n",
    "\n",
    "# Print the results\n",
    "print(\"t-statistic:\", t_stat)\n",
    "print(\"p-value:\", p_val)\n"
   ]
  },
  {
   "cell_type": "code",
   "execution_count": 13,
   "id": "19a0db01-dfc8-4597-9147-b99604387417",
   "metadata": {},
   "outputs": [],
   "source": [
    "#Ans11 : Student’s t-distribution, also known as the t-distribution, is a probability distribution that is used to estimate population parameters when the sample size is small, and/or when the population standard deviation is unknown.\n",
    "#The t-distribution is used when the sample size is small, typically less than 30, and when the population standard deviation is unknown. In such cases, the t-distribution provides a better estimate of the population mean than the normal distribution, which is used when the sample size is large and the population standard deviation is known.\n",
    "#The t-distribution is also used in hypothesis testing when the population standard deviation is unknown and has to be estimated from the sample data."
   ]
  },
  {
   "cell_type": "code",
   "execution_count": 15,
   "id": "a9e5bfb5-093c-42a3-b27f-36f2d945115b",
   "metadata": {},
   "outputs": [
    {
     "data": {
      "text/plain": [
       "'\\nThe formula for t-statistic is:\\nt = (x̄ - μ) / (s / √n)\\n\\nwhere:\\n\\nx̄ is the sample mean\\nμ is the population mean under the null hypothesis\\ns is the sample standard deviation\\nn is the sample size. '"
      ]
     },
     "execution_count": 15,
     "metadata": {},
     "output_type": "execute_result"
    }
   ],
   "source": [
    "#Ans12 : In statistics, the t-statistic (also called t-value or t-score) is a measure that compares the difference between the sample mean and the population mean relative to the sample size and standard deviation. It is used to test hypotheses about the population mean when the population standard deviation is not known and the sample size is small.\n",
    "\"\"\"\n",
    "The formula for t-statistic is:\n",
    "t = (x̄ - μ) / (s / √n)\n",
    "\n",
    "where:\n",
    "\n",
    "x̄ is the sample mean\n",
    "μ is the population mean under the null hypothesis\n",
    "s is the sample standard deviation\n",
    "n is the sample size. \"\"\""
   ]
  },
  {
   "cell_type": "code",
   "execution_count": 16,
   "id": "ef859508-9af7-4e3a-b65f-9160cd8c8317",
   "metadata": {},
   "outputs": [
    {
     "data": {
      "text/plain": [
       "'\\nsample size n = 50\\nsample mean x̄ = $500\\nsample standard deviation s = $50\\nconfidence level = 95%\\nWe can use the formula for the confidence interval for the population mean as follows:\\n\\nLower limit = x̄ - z*(s/√n)\\n\\nUpper limit = x̄ + z*(s/√n)\\n\\nwhere z is the critical value from the t-distribution for the desired confidence level and degrees of freedom (n-1).\\n\\nSince we have a sample size of 50, the degrees of freedom for the t-distribution is n-1 = 49.\\n\\nUsing a t-distribution table or a calculator, the critical value for a 95% confidence level and 49 degrees of freedom is approximately 2.01.\\n\\nPlugging in the values, we get:\\n\\nLower limit = 500 - 2.01*(50/√50) = $478.60\\n\\nUpper limit = 500 + 2.01*(50/√50) = $521.40\\n\\nTherefore, we can estimate with 95% confidence that the population mean revenue for the coffee shop is between $478.60 and $521.40 '"
      ]
     },
     "execution_count": 16,
     "metadata": {},
     "output_type": "execute_result"
    }
   ],
   "source": [
    "#Ans13 : \n",
    "\"\"\"\n",
    "sample size n = 50\n",
    "sample mean x̄ = $500\n",
    "sample standard deviation s = $50\n",
    "confidence level = 95%\n",
    "We can use the formula for the confidence interval for the population mean as follows:\n",
    "\n",
    "Lower limit = x̄ - z*(s/√n)\n",
    "\n",
    "Upper limit = x̄ + z*(s/√n)\n",
    "\n",
    "where z is the critical value from the t-distribution for the desired confidence level and degrees of freedom (n-1).\n",
    "\n",
    "Since we have a sample size of 50, the degrees of freedom for the t-distribution is n-1 = 49.\n",
    "\n",
    "Using a t-distribution table or a calculator, the critical value for a 95% confidence level and 49 degrees of freedom is approximately 2.01.\n",
    "\n",
    "Plugging in the values, we get:\n",
    "\n",
    "Lower limit = 500 - 2.01*(50/√50) = $478.60\n",
    "\n",
    "Upper limit = 500 + 2.01*(50/√50) = $521.40\n",
    "\n",
    "Therefore, we can estimate with 95% confidence that the population mean revenue for the coffee shop is between $478.60 and $521.40 \"\"\""
   ]
  },
  {
   "cell_type": "code",
   "execution_count": 17,
   "id": "0667019d-c90d-4903-adaf-a9a885d8096f",
   "metadata": {},
   "outputs": [
    {
     "data": {
      "text/plain": [
       "'\\nTo test the hypothesis, we can perform a one-sample t-test with the following null and alternative hypotheses:\\n\\nNull hypothesis: The true mean decrease in blood pressure is equal to 10 mmHg.\\nAlternative hypothesis: The true mean decrease in blood pressure is less than 10 mmHg.\\n\\nWe can calculate the t-statistic using the formula:\\n\\nt = (x̄ - μ) / (s / √n)\\n\\nwhere x̄ is the sample mean, μ is the hypothesized population mean, s is the sample standard deviation, and n is the sample size.\\n\\nIn this case, x̄ = 8, μ = 10, s = 3, and n = 100. Plugging these values into the formula, we get:\\n\\nt = (8 - 10) / (3 / √100) = -2.82\\n\\nUsing a significance level of 0.05 and 99 degrees of freedom (n - 1), we can find the critical t-value as -1.66 (using a t-distribution table or a calculator).\\n\\nSince our calculated t-value (-2.82) is less than the critical t-value (-1.66), we reject the null hypothesis and conclude that the true mean decrease in blood pressure is significantly less than 10 mmHg at a significance level of 0.05  '"
      ]
     },
     "execution_count": 17,
     "metadata": {},
     "output_type": "execute_result"
    }
   ],
   "source": [
    "#Ans14 : \n",
    "\"\"\"\n",
    "To test the hypothesis, we can perform a one-sample t-test with the following null and alternative hypotheses:\n",
    "\n",
    "Null hypothesis: The true mean decrease in blood pressure is equal to 10 mmHg.\n",
    "Alternative hypothesis: The true mean decrease in blood pressure is less than 10 mmHg.\n",
    "\n",
    "We can calculate the t-statistic using the formula:\n",
    "\n",
    "t = (x̄ - μ) / (s / √n)\n",
    "\n",
    "where x̄ is the sample mean, μ is the hypothesized population mean, s is the sample standard deviation, and n is the sample size.\n",
    "\n",
    "In this case, x̄ = 8, μ = 10, s = 3, and n = 100. Plugging these values into the formula, we get:\n",
    "\n",
    "t = (8 - 10) / (3 / √100) = -2.82\n",
    "\n",
    "Using a significance level of 0.05 and 99 degrees of freedom (n - 1), we can find the critical t-value as -1.66 (using a t-distribution table or a calculator).\n",
    "\n",
    "Since our calculated t-value (-2.82) is less than the critical t-value (-1.66), we reject the null hypothesis and conclude that the true mean decrease in blood pressure is significantly less than 10 mmHg at a significance level of 0.05  \"\"\""
   ]
  },
  {
   "cell_type": "code",
   "execution_count": 18,
   "id": "6f8b081c-dace-47ee-8350-04ed471b9a3c",
   "metadata": {},
   "outputs": [
    {
     "data": {
      "text/plain": [
       "'\\nWe will conduct a one-tailed t-test with a null hypothesis that the true mean weight of the products is 5 pounds and the alternative hypothesis that the true mean weight is less than 5 pounds.\\n\\nThe test statistic can be calculated as:\\n\\nt = (sample mean - hypothesized mean) / (sample standard deviation / sqrt(sample size))\\n\\nt = (4.8 - 5) / (0.5 / sqrt(25))\\nt = -2\\n\\nUsing a t-table with 24 degrees of freedom (n-1), the critical value for a one-tailed test at a significance level of 0.01 is -2.492.\\n\\nSince our calculated t-value (-2) is greater than the critical value (-2.492), we can reject the null hypothesis and conclude that there is sufficient evidence to support the alternative hypothesis that the true mean weight of the products is less than 5 pounds at a significance level of 0.01    '"
      ]
     },
     "execution_count": 18,
     "metadata": {},
     "output_type": "execute_result"
    }
   ],
   "source": [
    "#Ans15 :\n",
    "\"\"\"\n",
    "We will conduct a one-tailed t-test with a null hypothesis that the true mean weight of the products is 5 pounds and the alternative hypothesis that the true mean weight is less than 5 pounds.\n",
    "\n",
    "The test statistic can be calculated as:\n",
    "\n",
    "t = (sample mean - hypothesized mean) / (sample standard deviation / sqrt(sample size))\n",
    "\n",
    "t = (4.8 - 5) / (0.5 / sqrt(25))\n",
    "t = -2\n",
    "\n",
    "Using a t-table with 24 degrees of freedom (n-1), the critical value for a one-tailed test at a significance level of 0.01 is -2.492.\n",
    "\n",
    "Since our calculated t-value (-2) is greater than the critical value (-2.492), we can reject the null hypothesis and conclude that there is sufficient evidence to support the alternative hypothesis that the true mean weight of the products is less than 5 pounds at a significance level of 0.01    \"\"\""
   ]
  },
  {
   "cell_type": "code",
   "execution_count": 19,
   "id": "455a1707-2d26-4912-b9d8-8fe73cbe6b18",
   "metadata": {},
   "outputs": [
    {
     "data": {
      "text/plain": [
       "\"\\nTo test the hypothesis that the population means for the two groups are equal, we can use a two-sample t-test with the null hypothesis that the population means are equal and the alternative hypothesis that they are not equal.\\n\\nHere are the steps to perform the test:\\n\\nDefine the null hypothesis (H0) and alternative hypothesis (Ha):\\n\\nH0: μ1 = μ2\\nHa: μ1 ≠ μ2\\nChoose a significance level (α) of 0.01.\\n\\nCalculate the degrees of freedom using the formula:\\ndf = (s1^2/n1 + s2^2/n2)^2 / (s1^4/n1^2 * (n1 - 1) + s2^4/n2^2 * (n2 - 1))\\n\\nCalculate the t-statistic using the formula:\\nt = (x̄1 - x̄2) / (sqrt(s1^2/n1 + s2^2/n2))\\n\\nDetermine the critical t-value using the t-distribution with degrees of freedom and significance level from step 2. We need to find the two-tailed critical t-value because it's a two-sided test.\\n\\nCompare the calculated t-value from step 4 to the critical t-value from step 5. If the calculated t-value is outside the critical t-value range, reject the null hypothesis. Otherwise, fail to reject the null hypothesis.\\n\\nInterpret the results in the context of the problem.  \""
      ]
     },
     "execution_count": 19,
     "metadata": {},
     "output_type": "execute_result"
    }
   ],
   "source": [
    "#Ans16 : \n",
    "\"\"\"\n",
    "To test the hypothesis that the population means for the two groups are equal, we can use a two-sample t-test with the null hypothesis that the population means are equal and the alternative hypothesis that they are not equal.\n",
    "\n",
    "Here are the steps to perform the test:\n",
    "\n",
    "Define the null hypothesis (H0) and alternative hypothesis (Ha):\n",
    "\n",
    "H0: μ1 = μ2\n",
    "Ha: μ1 ≠ μ2\n",
    "Choose a significance level (α) of 0.01.\n",
    "\n",
    "Calculate the degrees of freedom using the formula:\n",
    "df = (s1^2/n1 + s2^2/n2)^2 / (s1^4/n1^2 * (n1 - 1) + s2^4/n2^2 * (n2 - 1))\n",
    "\n",
    "Calculate the t-statistic using the formula:\n",
    "t = (x̄1 - x̄2) / (sqrt(s1^2/n1 + s2^2/n2))\n",
    "\n",
    "Determine the critical t-value using the t-distribution with degrees of freedom and significance level from step 2. We need to find the two-tailed critical t-value because it's a two-sided test.\n",
    "\n",
    "Compare the calculated t-value from step 4 to the critical t-value from step 5. If the calculated t-value is outside the critical t-value range, reject the null hypothesis. Otherwise, fail to reject the null hypothesis.\n",
    "\n",
    "Interpret the results in the context of the problem.  \"\"\""
   ]
  },
  {
   "cell_type": "code",
   "execution_count": 20,
   "id": "3721d791-8010-4c0c-909a-b23649b08104",
   "metadata": {},
   "outputs": [
    {
     "data": {
      "text/plain": [
       "'\\nTo estimate the population mean with a 99% confidence interval, we can use the following formula:\\n\\nCI = X̄ ± z*(σ/√n)\\nwhere CI is the confidence interval, X̄ is the sample mean, σ is the population standard deviation, n is the sample size, and z is the critical value from the standard normal distribution corresponding to the desired confidence level.\\n\\nSince the population standard deviation is unknown, we can use the sample standard deviation as an estimate. Since the sample size is large (n > 30), we can assume that the sample distribution is approximately normal.\\n\\nUsing a 99% confidence level, the critical value for a two-tailed test is:\\n\\nz = 2.576\\nPlugging in the values, we get:\\n\\nCI = 4 ± 2.576*(1.5/√50)\\nCI = 4 ± 0.649\\nCI = (3.351, 4.649)\\nTherefore, we can be 99% confident that the true population mean number of ads watched by viewers during a TV program falls between 3.351 and 4.649  '"
      ]
     },
     "execution_count": 20,
     "metadata": {},
     "output_type": "execute_result"
    }
   ],
   "source": [
    "#Ans17 :\n",
    "\"\"\"\n",
    "To estimate the population mean with a 99% confidence interval, we can use the following formula:\n",
    "\n",
    "CI = X̄ ± z*(σ/√n)\n",
    "where CI is the confidence interval, X̄ is the sample mean, σ is the population standard deviation, n is the sample size, and z is the critical value from the standard normal distribution corresponding to the desired confidence level.\n",
    "\n",
    "Since the population standard deviation is unknown, we can use the sample standard deviation as an estimate. Since the sample size is large (n > 30), we can assume that the sample distribution is approximately normal.\n",
    "\n",
    "Using a 99% confidence level, the critical value for a two-tailed test is:\n",
    "\n",
    "z = 2.576\n",
    "Plugging in the values, we get:\n",
    "\n",
    "CI = 4 ± 2.576*(1.5/√50)\n",
    "CI = 4 ± 0.649\n",
    "CI = (3.351, 4.649)\n",
    "Therefore, we can be 99% confident that the true population mean number of ads watched by viewers during a TV program falls between 3.351 and 4.649  \"\"\""
   ]
  },
  {
   "cell_type": "code",
   "execution_count": null,
   "id": "241fc038-599e-4a66-a64f-19b658a579c2",
   "metadata": {},
   "outputs": [],
   "source": []
  }
 ],
 "metadata": {
  "kernelspec": {
   "display_name": "Python 3 (ipykernel)",
   "language": "python",
   "name": "python3"
  },
  "language_info": {
   "codemirror_mode": {
    "name": "ipython",
    "version": 3
   },
   "file_extension": ".py",
   "mimetype": "text/x-python",
   "name": "python",
   "nbconvert_exporter": "python",
   "pygments_lexer": "ipython3",
   "version": "3.10.8"
  }
 },
 "nbformat": 4,
 "nbformat_minor": 5
}
