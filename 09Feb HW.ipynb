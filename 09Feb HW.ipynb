{
 "cells": [
  {
   "cell_type": "code",
   "execution_count": 2,
   "id": "6dde4a63-2ce8-46fd-aa4b-6a8a3f440177",
   "metadata": {},
   "outputs": [],
   "source": [
    "#ans01  \n",
    "class Vehicle:\n",
    "    def __init__(self, name_of_vehicle, max_speed, average_of_vehicle):\n",
    "        self.name_of_vehicle = name_of_vehicle\n",
    "        self.max_speed = max_speed\n",
    "        self.average_of_vehicle = average_of_vehicle\n"
   ]
  },
  {
   "cell_type": "code",
   "execution_count": 3,
   "id": "bff66294-3636-4387-ab11-c1530c231ce5",
   "metadata": {},
   "outputs": [],
   "source": [
    "#ans02 \n",
    "\n",
    "class Vehicle:\n",
    "    def __init__(self, name, max_speed, avg):\n",
    "        self.name_of_vehicle = name\n",
    "        self.max_speed = max_speed\n",
    "        self.average_of_vehicle = avg\n",
    "\n",
    "class Car(Vehicle):\n",
    "    def seating_capacity(self, capacity):\n",
    "        return f\"{self.name_of_vehicle} has a seating capacity of {capacity} passengers.\"\n"
   ]
  },
  {
   "cell_type": "code",
   "execution_count": 7,
   "id": "74817de5-035e-4fa9-ae5d-5e52fdbbf603",
   "metadata": {},
   "outputs": [
    {
     "ename": "IndentationError",
     "evalue": "unexpected indent (2055767193.py, line 3)",
     "output_type": "error",
     "traceback": [
      "\u001b[0;36m  Cell \u001b[0;32mIn[7], line 3\u001b[0;36m\u001b[0m\n\u001b[0;31m    class Animal:\u001b[0m\n\u001b[0m    ^\u001b[0m\n\u001b[0;31mIndentationError\u001b[0m\u001b[0;31m:\u001b[0m unexpected indent\n"
     ]
    }
   ],
   "source": [
    "#ans03 Multiple inheritance is a feature in object-oriented programming that allows a subclass to inherit from more than one superclass. This means that a single class can inherit features from multiple classes.\n",
    "        #example : \n",
    "    class Animal:\n",
    "    def __init__(self, name):\n",
    "        self.name = name\n",
    "    \n",
    "    def make_sound(self):\n",
    "        pass\n",
    "\n",
    "class Mammal(Animal):\n",
    "    def __init__(self, name, age):\n",
    "        super().__init__(name)\n",
    "        self.age = age\n",
    "    \n",
    "    def feed_baby_with_milk(self):\n",
    "        pass\n",
    "\n",
    "class Bird(Animal):\n",
    "    def __init__(self, name, wingspan):\n",
    "        super().__init__(name)\n",
    "        self.wingspan = wingspan\n",
    "    \n",
    "    def fly(self):\n",
    "        pass\n",
    "\n",
    "class Bat(Mammal, Bird):\n",
    "    def __init__(self, name, age, wingspan):\n",
    "        Mammal.__init__(self, name, age)\n",
    "        Bird.__init__(self, name, wingspan)\n",
    "    \n",
    "    def make_sound(self):\n",
    "        return \"screech\"\n",
    "    \n",
    "    def feed_baby_with_milk(self):\n",
    "        return \"using mammary glands\"\n",
    "    \n",
    "    def fly(self):\n",
    "        return \"using wings and sonar\"\n",
    "\n",
    "# Creating an object of Bat class\n",
    "bat = Bat(\"Flying Fox\", 3, 20)\n",
    "\n",
    "# Accessing the attributes and methods of the parent classes\n",
    "print(bat.name) # \"Flying Fox\"\n",
    "print(bat.age) # 3\n",
    "print(bat.wingspan) # 20\n",
    "print(bat.make_sound()) # \"screech\"\n",
    "print(bat.feed_baby_with_milk()) # \"using mammary glands\"\n",
    "print(bat.fly()) # \"using wings and sonar\"\n"
   ]
  },
  {
   "cell_type": "code",
   "execution_count": 8,
   "id": "1ae1f49b-c790-4038-a44e-68b472b158e3",
   "metadata": {},
   "outputs": [
    {
     "ename": "IndentationError",
     "evalue": "unexpected indent (1541122771.py, line 3)",
     "output_type": "error",
     "traceback": [
      "\u001b[0;36m  Cell \u001b[0;32mIn[8], line 3\u001b[0;36m\u001b[0m\n\u001b[0;31m    class Person:\u001b[0m\n\u001b[0m    ^\u001b[0m\n\u001b[0;31mIndentationError\u001b[0m\u001b[0;31m:\u001b[0m unexpected indent\n"
     ]
    }
   ],
   "source": [
    "#ans04 : In Python, a getter method is a method that retrieves the value of a class attribute, while a setter method is a method that sets the value of a class attribute.\n",
    "   #example : \n",
    "    class Person:\n",
    "    def __init__(self, name, age):\n",
    "        self._name = name\n",
    "        self._age = age\n",
    "    \n",
    "    def get_name(self):\n",
    "        return self._name\n",
    "    \n",
    "    def set_name(self, name):\n",
    "        self._name = name\n",
    "    \n",
    "    def get_age(self):\n",
    "        return self._age\n",
    "    \n",
    "    def set_age(self, age):\n",
    "        self._age = age\n"
   ]
  },
  {
   "cell_type": "code",
   "execution_count": 9,
   "id": "4b45bede-f4b9-4a89-8059-46ddcc6e2d1a",
   "metadata": {},
   "outputs": [
    {
     "ename": "IndentationError",
     "evalue": "unexpected indent (4114551349.py, line 4)",
     "output_type": "error",
     "traceback": [
      "\u001b[0;36m  Cell \u001b[0;32mIn[9], line 4\u001b[0;36m\u001b[0m\n\u001b[0;31m    class Animal:\u001b[0m\n\u001b[0m    ^\u001b[0m\n\u001b[0;31mIndentationError\u001b[0m\u001b[0;31m:\u001b[0m unexpected indent\n"
     ]
    }
   ],
   "source": [
    "#ans05 : Method overriding is a feature of object-oriented programming where a subclass provides its own implementation of a method that is already defined in its parent class. The method in the subclass must have the same name and signature (i.e., the same parameters) as the method in the parent class.\n",
    "         #example : \n",
    "    \n",
    "    class Animal:\n",
    "    def make_sound(self):\n",
    "        print(\"The animal makes a sound\")\n",
    "\n",
    "class Cat(Animal):\n",
    "    def make_sound(self):\n",
    "        print(\"Meow\")\n",
    "\n",
    "class Dog(Animal):\n",
    "    def make_sound(self):\n",
    "        print(\"Woof\")\n",
    "\n",
    "animal = Animal()\n",
    "animal.make_sound()  # Output: \"The animal makes a sound\"\n",
    "\n",
    "cat = Cat()\n",
    "cat.make_sound()  # Output: \"Meow\"\n",
    "\n",
    "dog = Dog()\n",
    "dog.make_sound()  # Output: \"Woof\"\n"
   ]
  },
  {
   "cell_type": "code",
   "execution_count": null,
   "id": "70620bb9-9641-4935-b2bf-083e4f8a9009",
   "metadata": {},
   "outputs": [],
   "source": []
  }
 ],
 "metadata": {
  "kernelspec": {
   "display_name": "Python 3 (ipykernel)",
   "language": "python",
   "name": "python3"
  },
  "language_info": {
   "codemirror_mode": {
    "name": "ipython",
    "version": 3
   },
   "file_extension": ".py",
   "mimetype": "text/x-python",
   "name": "python",
   "nbconvert_exporter": "python",
   "pygments_lexer": "ipython3",
   "version": "3.10.8"
  }
 },
 "nbformat": 4,
 "nbformat_minor": 5
}
