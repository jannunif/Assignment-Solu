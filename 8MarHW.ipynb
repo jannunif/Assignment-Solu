{
 "cells": [
  {
   "cell_type": "code",
   "execution_count": 1,
   "id": "38608028-9a37-4f14-bb20-e4b59dc5bec2",
   "metadata": {},
   "outputs": [],
   "source": [
    "#Ans01 : The Probability density function (PDF) is a function that describes the relative likelihood for a random variable to take on a given value. It is used to model continuous random variables, and it provides a way to calculate the probability of a random variable taking on any value within a certain range."
   ]
  },
  {
   "cell_type": "code",
   "execution_count": 2,
   "id": "f3def34f-ad67-4958-906f-fb7a82f0cd65",
   "metadata": {},
   "outputs": [],
   "source": [
    "#Ans02 : There are many types of probability distributions, but some of the most commonly used ones are:\n",
    "\n",
    "# 1) Normal distribution     : This is also known as the Gaussian distribution, and is often used in statistics to model continuous variables that are normally distributed.\n",
    "# 2) Binomial distribution   : This distribution is used to model the number of successes in a fixed number of independent trials with a constant probability of success.\n",
    "# 3) Poisson distribution    : This distribution is used to model the number of rare events occurring in a fixed period of time or in a specific area.\n",
    "# 4) Exponential distribution: This distribution is used to model the time between rare events occurring in a process that occurs randomly.\n",
    "# 5) Uniform distribution    : This distribution is used to model situations where all outcomes are equally likely.\n",
    "# 6) Gamma distribution      : This distribution is used to model the sum of independent exponentially distributed random variables.\n",
    "# 7) Beta distribution       : This distribution is used to model random variables that are bounded between 0 and 1, such as probabilities.\n",
    "# 8) Chi-square distribution : This distribution is used to model the sum of squared standard normal variables."
   ]
  },
  {
   "cell_type": "code",
   "execution_count": 3,
   "id": "8ae3d9a7-279e-4b2f-a240-45a6ec896110",
   "metadata": {},
   "outputs": [],
   "source": [
    "#Ans03 : \n",
    "import math\n",
    "\n",
    "def normal_pdf(x, mu, sigma):\n",
    "    \"\"\"Calculate the probability density function of a normal distribution at a given point\"\"\"\n",
    "    return (1 / (sigma * math.sqrt(2 * math.pi))) * math.exp(-((x - mu)**2 / (2 * sigma**2)))\n"
   ]
  },
  {
   "cell_type": "code",
   "execution_count": 5,
   "id": "5dfec9a3-b343-4ebd-9cc0-9d9affbbd28f",
   "metadata": {},
   "outputs": [],
   "source": [
    "#Ans04 : The binomial distribution is a discrete probability distribution that describes the number of successes in a fixed number of independent trials, where each trial has only two possible outcomes, usually referred to as \"success\" and \"failure\". The properties of the binomial distribution are:The trials are independent ,Each trial has only two possible outcomes ,The probability of success is constant for each trial.,The number of trials is fixed.\n",
    "\n",
    "# *Here are two examples of events where binomial distribution can be applied:\n",
    "\n",
    "# 1) A company produces light bulbs and wants to know the probability that a batch of 100 light bulbs will have no more than 5 defective bulbs. Each light bulb has a probability of 0.01 of being defective. We can model this as a binomial distribution, where each trial is the production of a single light bulb, with a success being a non-defective bulb and a failure being a defective bulb. The number of trials is fixed at 100, and the probability of success (non-defective bulb) is 0.99. We can then use the binomial distribution to calculate the probability of having no more than 5 defective bulbs in the batch.\n",
    "\n",
    "# 2) A college basketball player is shooting free throws, and wants to know the probability of making at least 7 out of 10 free throws. The player's free throw percentage is 80%. We can model this as a binomial distribution, where each trial is a single free throw, with a success being a made free throw and a failure being a missed free throw. The number of trials is fixed at 10, and the probability of success (made free throw) is 0.8. We can then use the binomial distribution to calculate the probability of making at least 7 out of 10 free throws."
   ]
  },
  {
   "cell_type": "code",
   "execution_count": 6,
   "id": "eaed73a0-13a1-4c12-99f6-32af0b7f027f",
   "metadata": {},
   "outputs": [
    {
     "data": {
      "image/png": "[encoded data removed]",
      "text/plain": [
       "<Figure size 640x480 with 1 Axes>"
      ]
     },
     "metadata": {},
     "output_type": "display_data"
    }
   ],
   "source": [
    "#Ans05 : \n",
    "\n",
    "import numpy as np\n",
    "import matplotlib.pyplot as plt\n",
    "\n",
    "# Generate a random sample of size 1000 from a binomial distribution with probability of success 0.4\n",
    "n = 1000\n",
    "p = 0.4\n",
    "sample = np.random.binomial(n, p, size=1000)\n",
    "\n",
    "# Plot a histogram of the results using matplotlib\n",
    "plt.hist(sample, bins=20, alpha=0.5)\n",
    "plt.xlabel('Number of successes')\n",
    "plt.ylabel('Frequency')\n",
    "plt.title('Histogram of Binomial Distribution with n=1000, p=0.4')\n",
    "plt.show()\n"
   ]
  },
  {
   "cell_type": "code",
   "execution_count": 7,
   "id": "ccd4974b-5850-409a-93ea-78b083f9ff3b",
   "metadata": {},
   "outputs": [],
   "source": [
    "#Ans06 : \n",
    "import math\n",
    "\n",
    "def poisson_cdf(k, lam):\n",
    "    \"\"\"Calculate the cumulative distribution function of a Poisson distribution at a given point\"\"\"\n",
    "    cdf = 0\n",
    "    for i in range(k+1):\n",
    "        cdf += math.exp(-lam) * (lam**i) / math.factorial(i)\n",
    "    return cdf\n"
   ]
  },
  {
   "cell_type": "code",
   "execution_count": 8,
   "id": "c58129c2-81ad-4982-b22a-0782d8b42de8",
   "metadata": {},
   "outputs": [],
   "source": [
    "#Ans07 : The main differences between the binomial and Poisson distributions are:\n",
    "\n",
    "# 1) The number of trials     : In a binomial distribution, the number of trials is fixed, while in a Poisson distribution, the number of events is not fixed and can be any non-negative integer.\n",
    "# 2) Probability of success   : In a binomial distribution, the probability of success is constant for each trial, while in a Poisson distribution, the probability of an event occurring is constant for a given interval of time or space.\n",
    "# 3) Nature of events         : In a binomial distribution, each trial has only two possible outcomes (usually referred to as success and failure), while in a Poisson distribution, the events can have multiple outcomes.\n",
    "# 4) Shape of the distribution: The binomial distribution is a discrete probability distribution, while the Poisson distribution is a continuous probability distribution.\n",
    "# 5) Limiting case            : A Poisson distribution can be thought of as a limiting case of a binomial distribution, as the number of trials increases and the probability of success decreases, while keeping the product of the two constant."
   ]
  },
  {
   "cell_type": "code",
   "execution_count": 9,
   "id": "c37ff434-fabc-4aa9-8075-88c3e40e0d11",
   "metadata": {},
   "outputs": [
    {
     "name": "stdout",
     "output_type": "stream",
     "text": [
      "Sample mean: 4.955\n",
      "Sample variance: 5.156975\n"
     ]
    }
   ],
   "source": [
    "#Ans08 : \n",
    "\n",
    "import numpy as np\n",
    "\n",
    "# Generate a random sample of size 1000 from a Poisson distribution with mean 5\n",
    "sample = np.random.poisson(5, size=1000)\n",
    "\n",
    "# Calculate the sample mean and variance\n",
    "sample_mean = np.mean(sample)\n",
    "sample_var = np.var(sample)\n",
    "\n",
    "# Print the results\n",
    "print(\"Sample mean:\", sample_mean)\n",
    "print(\"Sample variance:\", sample_var)\n"
   ]
  },
  {
   "cell_type": "code",
   "execution_count": 10,
   "id": "4fd4462d-24ca-46bd-8265-d3c423953209",
   "metadata": {},
   "outputs": [],
   "source": [
    "#Anso9 :In both the binomial and Poisson distributions, the mean and variance are related, but in different ways.\n",
    "\n",
    "#For a binomial distribution with parameters n (number of trials) and p (probability of success), the mean is given by np and the variance is given by np(1-p). Therefore, the variance is dependent on both the mean and the probability of success.\n",
    "#In a Poisson distribution with parameter λ (mean and variance), the mean and variance are both equal to λ. In other words, the variance of a Poisson distribution is equal to its mean.\n",
    "#The relationship between the mean and variance can be seen in the shape of the probability distributions. In a binomial distribution, the probability mass function is usually symmetric, while in a Poisson distribution, the probability mass function is usually skewed right. This is because the probability of success is fixed in a binomial distribution, but in a Poisson distribution, it can vary, leading to a wider range of outcomes."
   ]
  },
  {
   "cell_type": "code",
   "execution_count": 11,
   "id": "192ade52-58a6-438d-a771-19c435002d8c",
   "metadata": {},
   "outputs": [],
   "source": [
    "#Ans10 : In a normal distribution, the least frequent data appears at the tails, which are the regions farthest from the mean.\n",
    "#More specifically, the normal distribution is a bell-shaped curve that is symmetric around its mean. The probability density is highest at the mean, and decreases as you move away from the mean in either direction. The points where the probability density is lowest are the tails of the distribution, which are the regions farthest from the mean.\n",
    "#For example, in a standard normal distribution (with a mean of 0 and a standard deviation of 1), the probability density is lowest at the tails at around ±3 standard deviations from the mean. Data points that fall in these regions are considered to be outliers or unusual, and occur with a very low frequency in the distribution."
   ]
  },
  {
   "cell_type": "code",
   "execution_count": null,
   "id": "d2900e2a-0915-426a-acbd-368d1f2db124",
   "metadata": {},
   "outputs": [],
   "source": []
  }
 ],
 "metadata": {
  "kernelspec": {
   "display_name": "Python 3 (ipykernel)",
   "language": "python",
   "name": "python3"
  },
  "language_info": {
   "codemirror_mode": {
    "name": "ipython",
    "version": 3
   },
   "file_extension": ".py",
   "mimetype": "text/x-python",
   "name": "python",
   "nbconvert_exporter": "python",
   "pygments_lexer": "ipython3",
   "version": "3.10.8"
  }
 },
 "nbformat": 4,
 "nbformat_minor": 5
}
