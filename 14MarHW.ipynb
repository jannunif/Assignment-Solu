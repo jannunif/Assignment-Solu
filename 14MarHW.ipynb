{
 "cells": [
  {
   "cell_type": "code",
   "execution_count": 1,
   "id": "260efdec-fcaa-4810-86fd-e88c16cc7237",
   "metadata": {},
   "outputs": [],
   "source": [
    "#Ans01 : \n",
    "\n",
    "import scipy.stats as stats\n",
    "\n",
    "def variance_ratio_test(x, y):\n",
    "    \"\"\"\n",
    "    Performs a variance ratio test on two arrays of data x and y.\n",
    "    \n",
    "    Returns the F-value and p-value for the test.\n",
    "    \"\"\"\n",
    "    f_value, p_value = stats.f_oneway(x, y)\n",
    "    return f_value, p_value\n"
   ]
  },
  {
   "cell_type": "code",
   "execution_count": 2,
   "id": "72d854fc-970f-4dde-a55c-480743e4478e",
   "metadata": {},
   "outputs": [],
   "source": [
    "#Ans02 : \n",
    "import scipy.stats as stats\n",
    "\n",
    "def critical_f_value(sig_level, dfn, dfd):\n",
    "    \"\"\"\n",
    "    Calculates the critical F-value for a two-tailed test given a significance level\n",
    "    and degrees of freedom for the numerator and denominator of an F-distribution.\n",
    "    \"\"\"\n",
    "    alpha = 1 - sig_level/2\n",
    "    return stats.f.ppf(alpha, dfn, dfd)\n"
   ]
  },
  {
   "cell_type": "code",
   "execution_count": 3,
   "id": "c08c6ef3-627d-423d-b34b-126f4233402d",
   "metadata": {},
   "outputs": [
    {
     "name": "stdout",
     "output_type": "stream",
     "text": [
      "F-statistic: 0.26615279354890353\n",
      "Degrees of freedom: 19 29\n",
      "p-value: 1.9961128108280342\n"
     ]
    }
   ],
   "source": [
    "#Ans03 : \n",
    "import numpy as np\n",
    "from scipy.stats import f\n",
    "\n",
    "# Set seed for reproducibility\n",
    "np.random.seed(42)\n",
    "\n",
    "# Generate random samples from two normal distributions\n",
    "n1 = 20\n",
    "n2 = 30\n",
    "mu1 = 10\n",
    "mu2 = 10\n",
    "sigma1 = 2\n",
    "sigma2 = 4\n",
    "x1 = np.random.normal(mu1, sigma1, n1)\n",
    "x2 = np.random.normal(mu2, sigma2, n2)\n",
    "\n",
    "# Calculate the F-statistic\n",
    "f_stat = np.var(x1, ddof=1) / np.var(x2, ddof=1)\n",
    "\n",
    "# Calculate the degrees of freedom\n",
    "df1 = n1 - 1\n",
    "df2 = n2 - 1\n",
    "\n",
    "# Calculate the p-value\n",
    "p_val = f.sf(f_stat, df1, df2) * 2\n",
    "\n",
    "# Output the results\n",
    "print(\"F-statistic:\", f_stat)\n",
    "print(\"Degrees of freedom:\", df1, df2)\n",
    "print(\"p-value:\", p_val)\n"
   ]
  },
  {
   "cell_type": "code",
   "execution_count": 4,
   "id": "5b29a901-457a-49e7-a58b-b0366fa04088",
   "metadata": {},
   "outputs": [
    {
     "name": "stdout",
     "output_type": "stream",
     "text": [
      "F-statistic: 0.7811\n",
      "Critical F-value: 0.2879\n",
      "p-value: 0.6892\n"
     ]
    }
   ],
   "source": [
    "#Ans04 : The null and alternative hypotheses are:\n",
    "\"\"\"H0: σ12 = σ22\n",
    "H1: σ12 ≠ σ22\n",
    "where σ12 = 10 and σ22 = 15.\n",
    "We can use the F-test to compare the variances of the two populations. The test statistic is calculated as:\n",
    "F = S12 / S22\n",
    "where S12 and S22 are the sample variances of the two populations.\n",
    "Under the null hypothesis, the F statistic follows an F-distribution with degrees of freedom (n1-1) and (n2-1). We can use the cumulative distribution function (CDF) of the F-distribution to calculate the p-value for the test.\n",
    "At a significance level of 5% and degrees of freedom of (11, 11), the critical F-value is:\n",
    "f_crit = f.ppf(0.025, 11, 11)\n",
    "where f.ppf() is the percent point function of the F-distribution in SciPy.\"\"\"\n",
    "\n",
    "import numpy as np\n",
    "from scipy.stats import f\n",
    "\n",
    "# Set the random seed for reproducibility\n",
    "np.random.seed(123)\n",
    "\n",
    "# Generate the sample data\n",
    "n1 = n2 = 12\n",
    "sigma1 = np.sqrt(10)\n",
    "sigma2 = np.sqrt(15)\n",
    "x1 = np.random.normal(loc=0, scale=sigma1, size=n1)\n",
    "x2 = np.random.normal(loc=0, scale=sigma2, size=n2)\n",
    "\n",
    "# Calculate the sample variances\n",
    "s1 = np.var(x1, ddof=1)\n",
    "s2 = np.var(x2, ddof=1)\n",
    "\n",
    "# Calculate the F-statistic\n",
    "f_stat = s1 / s2\n",
    "\n",
    "# Calculate the critical F-value\n",
    "f_crit = f.ppf(0.025, 11, 11)\n",
    "\n",
    "# Calculate the p-value\n",
    "p_val = 2 * min(f.cdf(f_stat, 11, 11), 1 - f.cdf(f_stat, 11, 11))\n",
    "\n",
    "# Print the results\n",
    "print(\"F-statistic: {:.4f}\".format(f_stat))\n",
    "print(\"Critical F-value: {:.4f}\".format(f_crit))\n",
    "print(\"p-value: {:.4f}\".format(p_val))\n"
   ]
  },
  {
   "cell_type": "code",
   "execution_count": 5,
   "id": "93353e5d-eb73-4e1d-b6da-ee5eff840c5f",
   "metadata": {},
   "outputs": [
    {
     "data": {
      "text/plain": [
       "'\\nPopulation variance, σ² = 0.005\\nSample variance, s² = 0.006\\nSample size, n = 25\\nSignificance level, α = 0.01\\nNull hypothesis: The population variance is equal to the claimed value, i.e., σ² = 0.005\\nAlternative hypothesis: The population variance is not equal to the claimed value, i.e., σ² ≠ 0.005\\nWe will use the F-test to test the hypothesis. The F-statistic is calculated as:\\nF = s²/σ²\\nUnder the null hypothesis, the F-statistic follows an F-distribution with (n-1) degrees of freedom in the numerator and infinite degrees of freedom in the denominator.\\nThe critical F-value can be found using an F-distribution table or the scipy.stats.f module in Python. For a two-tailed test at a significance level of 0.01 with (24, ∞) degrees of freedom, the critical F-value is:\\nf_critical = f.ppf(0.005, 24, np.inf)\\nwhere f is the scipy.stats.f object and ppf() is the percent point function.\\nSubstituting the values in the formula for F, we get:\\nF = 0.006/0.005 = 1.2\\nSince the calculated F-value (1.2) is less than the critical F-value (0.303), we fail to reject the null hypothesis. Therefore, we can conclude that there is not enough evidence to suggest that the population variance is significantly different from the claimed value of 0.005 '"
      ]
     },
     "execution_count": 5,
     "metadata": {},
     "output_type": "execute_result"
    }
   ],
   "source": [
    "#Ans05 : \n",
    "\"\"\"\n",
    "Population variance, σ² = 0.005\n",
    "Sample variance, s² = 0.006\n",
    "Sample size, n = 25\n",
    "Significance level, α = 0.01\n",
    "Null hypothesis: The population variance is equal to the claimed value, i.e., σ² = 0.005\n",
    "Alternative hypothesis: The population variance is not equal to the claimed value, i.e., σ² ≠ 0.005\n",
    "We will use the F-test to test the hypothesis. The F-statistic is calculated as:\n",
    "F = s²/σ²\n",
    "Under the null hypothesis, the F-statistic follows an F-distribution with (n-1) degrees of freedom in the numerator and infinite degrees of freedom in the denominator.\n",
    "The critical F-value can be found using an F-distribution table or the scipy.stats.f module in Python. For a two-tailed test at a significance level of 0.01 with (24, ∞) degrees of freedom, the critical F-value is:\n",
    "f_critical = f.ppf(0.005, 24, np.inf)\n",
    "where f is the scipy.stats.f object and ppf() is the percent point function.\n",
    "Substituting the values in the formula for F, we get:\n",
    "F = 0.006/0.005 = 1.2\n",
    "Since the calculated F-value (1.2) is less than the critical F-value (0.303), we fail to reject the null hypothesis. Therefore, we can conclude that there is not enough evidence to suggest that the population variance is significantly different from the claimed value of 0.005 \"\"\""
   ]
  },
  {
   "cell_type": "code",
   "execution_count": 6,
   "id": "ddab0706-7876-487d-bf35-d6075851635d",
   "metadata": {},
   "outputs": [],
   "source": [
    "#Ans06 :\n",
    "\n",
    "def f_distribution_mean_variance(dfn, dfd):\n",
    "    \"\"\"\n",
    "    Calculates the mean and variance of an F-distribution given the degrees of freedom for the numerator and denominator.\n",
    "    \n",
    "    Parameters:\n",
    "    dfn (int): Degrees of freedom for the numerator\n",
    "    dfd (int): Degrees of freedom for the denominator\n",
    "    \n",
    "    Returns:\n",
    "    tuple: Mean and variance of the F-distribution\n",
    "    \"\"\"\n",
    "    mean = dfd / (dfd - 2)\n",
    "    variance = 2 * (dfd**2) * (dfn + dfd - 2) / (dfn * (dfd - 2)**2 * (dfd - 4))\n",
    "    return mean, variance\n"
   ]
  },
  {
   "cell_type": "code",
   "execution_count": 8,
   "id": "e825d2a7-610e-442c-bce3-66f717af7dbd",
   "metadata": {},
   "outputs": [
    {
     "data": {
      "text/plain": [
       "\"To test if the variances of two populations are significantly different, we use an F-test. The null hypothesis is that the variances are equal, while the alternative hypothesis is that they are not equal.\\n\\nLet's define the first population as A and the second population as B.\\n\\nThe sample size for A is n1 = 10, and the sample variance is s1^2 = 25. The sample size for B is n2 = 15, and the sample variance is s2^2 = 20.\\n\\nThe test statistic for the F-test is calculated as:\\n\\nF = s1^2 / s2^2\\n\\nUnder the null hypothesis, this test statistic follows an F-distribution with degrees of freedom (df1 = n1 - 1) and (df2 = n2 - 1).\\n\\nAt a significance level of 0.10, with df1 = 9 and df2 = 14, the critical values for the F-distribution are 0.320 and 3.143, respectively.\\n\\nWe can calculate the test statistic as:\\n\\nF = s1^2 / s2^2 = 25 / 20 = 1.25\\n\\nSince 0.320 < F < 3.143, we fail to reject the null hypothesis. We do not have sufficient evidence to conclude that the variances are significantly different at the 10% significance level.  \""
      ]
     },
     "execution_count": 8,
     "metadata": {},
     "output_type": "execute_result"
    }
   ],
   "source": [
    "#Ans07 :\n",
    "\n",
    "\"\"\"To test if the variances of two populations are significantly different, we use an F-test. The null hypothesis is that the variances are equal, while the alternative hypothesis is that they are not equal.\n",
    "\n",
    "Let's define the first population as A and the second population as B.\n",
    "\n",
    "The sample size for A is n1 = 10, and the sample variance is s1^2 = 25. The sample size for B is n2 = 15, and the sample variance is s2^2 = 20.\n",
    "\n",
    "The test statistic for the F-test is calculated as:\n",
    "\n",
    "F = s1^2 / s2^2\n",
    "\n",
    "Under the null hypothesis, this test statistic follows an F-distribution with degrees of freedom (df1 = n1 - 1) and (df2 = n2 - 1).\n",
    "\n",
    "At a significance level of 0.10, with df1 = 9 and df2 = 14, the critical values for the F-distribution are 0.320 and 3.143, respectively.\n",
    "\n",
    "We can calculate the test statistic as:\n",
    "\n",
    "F = s1^2 / s2^2 = 25 / 20 = 1.25\n",
    "\n",
    "Since 0.320 < F < 3.143, we fail to reject the null hypothesis. We do not have sufficient evidence to conclude that the variances are significantly different at the 10% significance level.  \"\"\""
   ]
  },
  {
   "cell_type": "code",
   "execution_count": 9,
   "id": "63862ff8-b63c-4ad2-a2fc-ba6276237082",
   "metadata": {},
   "outputs": [
    {
     "name": "stdout",
     "output_type": "stream",
     "text": [
      "F-value: 1.4552\n",
      "Critical F-value: 0.1670\n",
      "P-value: 0.6975\n",
      "Reject the null hypothesis: the variances are significantly different.\n"
     ]
    }
   ],
   "source": [
    "#Ans08 :\n",
    "\n",
    "import numpy as np\n",
    "from scipy.stats import f\n",
    "\n",
    "# data\n",
    "a = np.array([24, 25, 28, 23, 22, 20, 27])\n",
    "b = np.array([31, 33, 35, 30, 32, 36])\n",
    "\n",
    "# sample variances\n",
    "s1_sq = np.var(a, ddof=1)\n",
    "s2_sq = np.var(b, ddof=1)\n",
    "\n",
    "# sample sizes\n",
    "n1 = len(a)\n",
    "n2 = len(b)\n",
    "\n",
    "# F-test\n",
    "F = s1_sq / s2_sq\n",
    "p_value = f.sf(F, n1-1, n2-1)*2  # two-tailed test\n",
    "\n",
    "# critical F-value at 5% significance level\n",
    "F_crit = f.ppf(0.025, n1-1, n2-1)\n",
    "\n",
    "# print results\n",
    "print(f\"F-value: {F:.4f}\")\n",
    "print(f\"Critical F-value: {F_crit:.4f}\")\n",
    "print(f\"P-value: {p_value:.4f}\")\n",
    "if F > F_crit:\n",
    "    print(\"Reject the null hypothesis: the variances are significantly different.\")\n",
    "else:\n",
    "    print(\"Fail to reject the null hypothesis: the variances are not significantly different.\")\n"
   ]
  },
  {
   "cell_type": "code",
   "execution_count": 10,
   "id": "9d5f03b6-3116-49a5-89d4-7f093394342f",
   "metadata": {},
   "outputs": [
    {
     "name": "stdout",
     "output_type": "stream",
     "text": [
      "F-value: 8.040089086859687\n",
      "p-value: 0.017684171924487787\n",
      "Fail to reject H0: the variances are not significantly different.\n"
     ]
    }
   ],
   "source": [
    "#Ans08 : \n",
    "from scipy.stats import f_oneway\n",
    "\n",
    "# Group A and Group B test scores\n",
    "group_a = [80, 85, 90, 92, 87, 83]\n",
    "group_b = [75, 78, 82, 79, 81, 84]\n",
    "\n",
    "# Calculate the variances of the two groups\n",
    "var_a = np.var(group_a, ddof=1)\n",
    "var_b = np.var(group_b, ddof=1)\n",
    "\n",
    "# Calculate the F-value and p-value\n",
    "f_value, p_value = f_oneway(group_a, group_b)\n",
    "\n",
    "# Print the results\n",
    "print(\"F-value:\", f_value)\n",
    "print(\"p-value:\", p_value)\n",
    "\n",
    "# Compare the F-value to the critical value at alpha=0.01\n",
    "alpha = 0.01\n",
    "df1 = len(group_a) - 1\n",
    "df2 = len(group_b) - 1\n",
    "critical_value = f.ppf(1 - alpha / 2, df1, df2)\n",
    "\n",
    "if f_value > critical_value:\n",
    "    print(\"Reject H0: the variances are significantly different.\")\n",
    "else:\n",
    "    print(\"Fail to reject H0: the variances are not significantly different.\")\n"
   ]
  },
  {
   "cell_type": "code",
   "execution_count": null,
   "id": "878d9a29-3ad6-4e5e-b427-33bdf2e3cbe9",
   "metadata": {},
   "outputs": [],
   "source": []
  }
 ],
 "metadata": {
  "kernelspec": {
   "display_name": "Python 3 (ipykernel)",
   "language": "python",
   "name": "python3"
  },
  "language_info": {
   "codemirror_mode": {
    "name": "ipython",
    "version": 3
   },
   "file_extension": ".py",
   "mimetype": "text/x-python",
   "name": "python",
   "nbconvert_exporter": "python",
   "pygments_lexer": "ipython3",
   "version": "3.10.8"
  }
 },
 "nbformat": 4,
 "nbformat_minor": 5
}
