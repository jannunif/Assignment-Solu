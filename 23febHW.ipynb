{
 "cells": [
  {
   "cell_type": "code",
   "execution_count": 2,
   "id": "69d5e736-04f4-4d27-81bb-f19e646eb68d",
   "metadata": {},
   "outputs": [
    {
     "name": "stdout",
     "output_type": "stream",
     "text": [
      "0     4\n",
      "1     8\n",
      "2    15\n",
      "3    16\n",
      "4    23\n",
      "5    42\n",
      "dtype: int64\n"
     ]
    }
   ],
   "source": [
    "#Ans01 : \n",
    "import pandas as pd\n",
    "\n",
    "# create a Pandas Series\n",
    "series = pd.Series([4, 8, 15, 16, 23, 42])\n",
    "\n",
    "# print the series\n",
    "print(series)\n"
   ]
  },
  {
   "cell_type": "code",
   "execution_count": 3,
   "id": "50419a29-fab4-459d-bce4-3cc2d72abf90",
   "metadata": {},
   "outputs": [
    {
     "name": "stdout",
     "output_type": "stream",
     "text": [
      "0     1\n",
      "1     2\n",
      "2     3\n",
      "3     4\n",
      "4     5\n",
      "5     6\n",
      "6     7\n",
      "7     8\n",
      "8     9\n",
      "9    10\n",
      "dtype: int64\n"
     ]
    }
   ],
   "source": [
    "#Ans02 : \n",
    "\n",
    "import pandas as pd\n",
    "\n",
    "# create a list of 10 elements\n",
    "my_list = [1, 2, 3, 4, 5, 6, 7, 8, 9, 10]\n",
    "\n",
    "# convert list to a Pandas Series\n",
    "series = pd.Series(my_list)\n",
    "\n",
    "# print the series\n",
    "print(series)\n"
   ]
  },
  {
   "cell_type": "code",
   "execution_count": 4,
   "id": "0eb7c49c-7436-4ebb-a644-1ea5ef47b0fe",
   "metadata": {},
   "outputs": [
    {
     "name": "stdout",
     "output_type": "stream",
     "text": [
      "     Name  Age  Gender\n",
      "0   Alice   25  Female\n",
      "1     Bob   30    Male\n",
      "2  Claire   27  Female\n"
     ]
    }
   ],
   "source": [
    "#Ans03 : \n",
    "\n",
    "import pandas as pd\n",
    "\n",
    "data = {\n",
    "    'Name': ['Alice', 'Bob', 'Claire'],\n",
    "    'Age': [25, 30, 27],\n",
    "    'Gender': ['Female', 'Male', 'Female']\n",
    "}\n",
    "\n",
    "df = pd.DataFrame(data)\n",
    "print(df)\n"
   ]
  },
  {
   "cell_type": "code",
   "execution_count": 5,
   "id": "3038568a-ed1c-48c0-b7ea-5dc8a3c68000",
   "metadata": {},
   "outputs": [
    {
     "name": "stdout",
     "output_type": "stream",
     "text": [
      "0    25\n",
      "1    30\n",
      "2    27\n",
      "dtype: int64\n",
      "     Name  Age  Gender\n",
      "0   Alice   25  Female\n",
      "1     Bob   30    Male\n",
      "2  Claire   27  Female\n"
     ]
    }
   ],
   "source": [
    "#Ans04 : \n",
    "# In Pandas, a DataFrame is a two-dimensional labeled data structure with columns of potentially different types. It is like a table with rows and columns, where each column can have a different data type. Each column in a DataFrame is a Pandas Series. In other words, a DataFrame is a collection of multiple Series that share the same index.\n",
    "# The key difference between a Pandas Series and a DataFrame is that a Series represents a single column of data, whereas a DataFrame represents multiple columns of data.\n",
    "\n",
    "# EXAMPLE :\n",
    "\n",
    "import pandas as pd\n",
    "\n",
    "# creating a Pandas Series\n",
    "ages = pd.Series([25, 30, 27])\n",
    "print(ages)\n",
    "\n",
    "# creating a Pandas DataFrame\n",
    "data = {'Name': ['Alice', 'Bob', 'Claire'],\n",
    "        'Age': [25, 30, 27],\n",
    "        'Gender': ['Female', 'Male', 'Female']}\n",
    "df = pd.DataFrame(data)\n",
    "print(df)\n"
   ]
  },
  {
   "cell_type": "code",
   "execution_count": 9,
   "id": "f79031c4-a918-42a0-b8d0-03aee9fc9077",
   "metadata": {},
   "outputs": [],
   "source": [
    "#Ans05 : \n",
    "\n",
    "# *There are several functions available in Pandas that can be used to manipulate data in a DataFrame. Some of the commonly used functions are:\n",
    "\n",
    "# head() and tail(): head() function returns the first few rows of the DataFrame while tail() function returns the last few rows of the DataFrame. For example, df.head() will return the first 5 rows of the DataFrame.\n",
    "# info()           : info() function is used to get a summary of the DataFrame including the column data types, number of non-null values, etc.\n",
    "# describe()       : describe() function is used to get a statistical summary of the DataFrame including count, mean, standard deviation, minimum, maximum, and quartile values.\n",
    "# groupby()        : groupby() function is used to group data based on one or more columns in the DataFrame. For example, you can group data by a specific column and calculate the average of another column for each group.\n",
    "# sort_values()    : sort_values() function is used to sort the DataFrame based on one or more columns. For example, you can sort the DataFrame by a specific column in ascending or descending order.\n",
    "# drop()           : drop() function is used to drop one or more columns or rows from the DataFrame. For example, you can drop a column that is not needed in the analysis.\n",
    "# pivot_table()    : pivot_table() function is used to create a summary table from a DataFrame based on one or more columns. For example, you can create a summary table that shows the average values of one column for each unique value in another column.\n",
    "\n",
    "# Example:  Suppose we have a DataFrame named sales that contains information about the sales of different products in different regions. We want to calculate the total sales for each product in each region. We can use the groupby() function to group the data by product and region and then use the sum() function to calculate the total sales for each group. The code for this would look like"
   ]
  },
  {
   "cell_type": "code",
   "execution_count": 10,
   "id": "34c06aee-aa1b-48ae-987a-bada3b42d9cb",
   "metadata": {},
   "outputs": [],
   "source": [
    "#Ans06 : Series and DataFrame are mutable in nature in Pandas, whereas Panel is not mutable. This means that we can change the values in Series and DataFrame, but not in Panel."
   ]
  },
  {
   "cell_type": "code",
   "execution_count": 12,
   "id": "dde2f6fa-6517-4953-9718-4150b32b70d3",
   "metadata": {},
   "outputs": [
    {
     "name": "stdout",
     "output_type": "stream",
     "text": [
      "     Name  Age  Gender\n",
      "0   Alice   25  Female\n",
      "1     Bob   30    Male\n",
      "2  Claire   27  Female\n"
     ]
    }
   ],
   "source": [
    "#Ans07 : Yes, we can create a DataFrame using multiple Series. We can use the pandas concat() function to concatenate multiple Series along a specified axis.\n",
    "\n",
    "  # Example :\n",
    "\n",
    "import pandas as pd\n",
    "\n",
    "# create the first series\n",
    "name = pd.Series(['Alice', 'Bob', 'Claire'])\n",
    "age = pd.Series([25, 30, 27])\n",
    "gender = pd.Series(['Female', 'Male', 'Female'])\n",
    "\n",
    "# concatenate the series to create a DataFrame\n",
    "df = pd.concat([name, age, gender], axis=1)\n",
    "df.columns = ['Name', 'Age', 'Gender']\n",
    "\n",
    "print(df)\n"
   ]
  },
  {
   "cell_type": "code",
   "execution_count": null,
   "id": "16068941-a873-44d6-81b3-3bd51854c868",
   "metadata": {},
   "outputs": [],
   "source": []
  }
 ],
 "metadata": {
  "kernelspec": {
   "display_name": "Python 3 (ipykernel)",
   "language": "python",
   "name": "python3"
  },
  "language_info": {
   "codemirror_mode": {
    "name": "ipython",
    "version": 3
   },
   "file_extension": ".py",
   "mimetype": "text/x-python",
   "name": "python",
   "nbconvert_exporter": "python",
   "pygments_lexer": "ipython3",
   "version": "3.10.8"
  }
 },
 "nbformat": 4,
 "nbformat_minor": 5
}
