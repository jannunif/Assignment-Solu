{
 "cells": [
  {
   "cell_type": "code",
   "execution_count": 1,
   "id": "c6340eb2-461b-4159-8469-cf51ab2e3f16",
   "metadata": {},
   "outputs": [
    {
     "name": "stdout",
     "output_type": "stream",
     "text": [
      "[('Virat Kohli', 24936), ('Jack Kallis', 25534), ('Ricky Ponting', 27483), ('Sachin Tendulkar', 34357)]\n"
     ]
    }
   ],
   "source": [
    "#ANS01:\n",
    "\n",
    "lst = [('Sachin Tendulkar', 34357), ('Ricky Ponting', 27483), ('Jack Kallis', 25534), ('Virat Kohli', 24936)]\n",
    "\n",
    "sorted_lst = sorted(lst, key=lambda x: x[1])\n",
    "\n",
    "print(sorted_lst)\n"
   ]
  },
  {
   "cell_type": "code",
   "execution_count": 3,
   "id": "bbe6d984-a816-452b-a234-fae29b1dcc2a",
   "metadata": {},
   "outputs": [
    {
     "name": "stdout",
     "output_type": "stream",
     "text": [
      "[1, 4, 9, 16, 25, 36, 49, 64, 81, 100]\n"
     ]
    }
   ],
   "source": [
    "#ANS02:\n",
    "\n",
    "lst = [1, 2, 3, 4, 5, 6, 7, 8, 9, 10]\n",
    "\n",
    "squared_lst = list(map(lambda x: x**2, lst))\n",
    "\n",
    "print(squared_lst)\n"
   ]
  },
  {
   "cell_type": "code",
   "execution_count": 5,
   "id": "a47b7ba8-3fae-4244-9974-6b315b847f73",
   "metadata": {},
   "outputs": [
    {
     "name": "stdout",
     "output_type": "stream",
     "text": [
      "('1', '2', '3', '4', '5', '6', '7', '8', '9', '10')\n"
     ]
    }
   ],
   "source": [
    "#ANS03:\n",
    "\n",
    "lst = [1, 2, 3, 4, 5, 6, 7, 8, 9, 10]\n",
    "\n",
    "tuple_of_strings = tuple(map(lambda x: str(x), lst))\n",
    "\n",
    "print(tuple_of_strings)\n"
   ]
  },
  {
   "cell_type": "code",
   "execution_count": 6,
   "id": "38d64ada-46f3-4379-ab5c-0601521261db",
   "metadata": {},
   "outputs": [
    {
     "name": "stdout",
     "output_type": "stream",
     "text": [
      "15511210043330985984000000\n"
     ]
    }
   ],
   "source": [
    "#ANS04: \n",
    "\n",
    "from functools import reduce\n",
    "\n",
    "lst = list(range(1, 26))\n",
    "\n",
    "product = reduce(lambda x, y: x*y, lst)\n",
    "\n",
    "print(product)\n",
    "\n"
   ]
  },
  {
   "cell_type": "code",
   "execution_count": 8,
   "id": "4df10bb4-6db9-4c21-8b21-b56418849244",
   "metadata": {},
   "outputs": [
    {
     "name": "stdout",
     "output_type": "stream",
     "text": [
      "[6, 60, 90, 120]\n"
     ]
    }
   ],
   "source": [
    "#ANS05: \n",
    "\n",
    "lst = [2, 3, 6, 9, 27, 60, 90, 120, 55, 46]\n",
    "\n",
    "filtered_lst = list(filter(lambda x: x%2==0 and x%3==0, lst))\n",
    "\n",
    "print(filtered_lst)\n"
   ]
  },
  {
   "cell_type": "code",
   "execution_count": 9,
   "id": "74adcff3-8ed4-4ee2-bdd8-e60697491de9",
   "metadata": {},
   "outputs": [
    {
     "name": "stdout",
     "output_type": "stream",
     "text": [
      "['php', 'aba', 'radar', 'level']\n"
     ]
    }
   ],
   "source": [
    "#ANS06:\n",
    "\n",
    "lst = ['python', 'php', 'aba', 'radar', 'level']\n",
    "\n",
    "palindrome_lst = list(filter(lambda x: x==x[::-1], lst))\n",
    "\n",
    "print(palindrome_lst)\n"
   ]
  },
  {
   "cell_type": "code",
   "execution_count": null,
   "id": "3b57c84f-1450-451b-9a4f-3acc8b763c96",
   "metadata": {},
   "outputs": [],
   "source": []
  }
 ],
 "metadata": {
  "kernelspec": {
   "display_name": "Python 3 (ipykernel)",
   "language": "python",
   "name": "python3"
  },
  "language_info": {
   "codemirror_mode": {
    "name": "ipython",
    "version": 3
   },
   "file_extension": ".py",
   "mimetype": "text/x-python",
   "name": "python",
   "nbconvert_exporter": "python",
   "pygments_lexer": "ipython3",
   "version": "3.10.8"
  }
 },
 "nbformat": 4,
 "nbformat_minor": 5
}
