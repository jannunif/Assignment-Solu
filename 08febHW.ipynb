{
 "cells": [
  {
   "cell_type": "code",
   "execution_count": 1,
   "id": "be4158c4-8eef-451f-aa17-b7d5daf2fc36",
   "metadata": {},
   "outputs": [],
   "source": [
    "#ans01 Abstraction is one of the core concepts of object-oriented programming (OOPs) that allows hiding the complexity of a system and only revealing the essential details to the user. It means that the user does not need to know how the system works internally, but only needs to know how to use it.In OOPs, abstraction is achieved using abstract classes and interfaces. Abstract classes are the classes that cannot be instantiated, and they can have both abstract and non-abstract methods. Abstract methods are the methods that do not have an implementation in the abstract class, but their implementation is provided in the derived class. On the other hand, interfaces are like blueprints that specify the methods that must be implemented by the class that implements the interface.\n",
    "\n",
    "# For example,\n",
    "# let's consider a scenario where we want to create a game. The game has different objects such as players, weapons, enemies, and so on. We can create a Player class that has properties such as name, health, score, and methods such as move, shoot, and jump. We can also create a Weapon class that has properties such as name, damage, and methods such as fire and reload. However, the user does not need to know the internal details of how these classes work. They only need to know how to use them to play the game. This is an example of abstraction in OOPs."
   ]
  },
  {
   "cell_type": "code",
   "execution_count": 2,
   "id": "2ba4cf80-5552-4678-a52e-24739df3b3da",
   "metadata": {},
   "outputs": [],
   "source": [
    "#ans02 : \n",
    "\n",
    "\n",
    "# Abstraction and Encapsulation are two important concepts in Object-Oriented Programming (OOP).\n",
    "\n",
    " \n",
    "# Abstraction is the process of hiding the implementation details of a class and showing only the necessary information to the user. It focuses on what the object does rather than how it does it. In other words, abstraction provides a simplified view of the complex system by exposing only the relevant details to the user.\n",
    "# For example, consider a car. The user only needs to know how to drive the car, how to use the brakes, how to accelerate, and how to turn the steering wheel. The user does not need to know how the engine works, how the transmission shifts gears, or how the fuel injection system operates. The user interface of the car abstracts away all of the technical details and presents only the essential features.\n",
    "\n",
    "# Encapsulation, on the other hand, is the practice of hiding the internal details of an object from the outside world and controlling access to them through well-defined interfaces. It combines data and behavior into a single unit called a class, which is responsible for managing its own state and providing public methods for accessing and manipulating that state.\n",
    "#  For example, consider a bank account. A bank account has attributes like account number, account holder name, and balance, and methods like deposit and withdrawal. These attributes and methods are encapsulated within the account class and are only accessible through well-defined interfaces like deposit and withdrawal methods.\n",
    "\n",
    "#  In summary, abstraction and encapsulation are two essential concepts in OOP. Abstraction focuses on exposing only the necessary details to the user, while encapsulation ensures that the internal details of an object are hidden and accessed only through well-defined interfaces."
   ]
  },
  {
   "cell_type": "code",
   "execution_count": 3,
   "id": "522bf5e4-b208-4290-9a0b-5a03944e75ba",
   "metadata": {},
   "outputs": [],
   "source": [
    "#ans03\n",
    "\n",
    "# In Python, the abc module stands for \"Abstract Base Classes\". It provides a way to define abstract classes that enforce specific method signatures for their concrete subclasses.\n",
    "# Abstract classes are classes that cannot be instantiated directly, but only act as blueprints for their derived classes. These derived classes must implement all the abstract methods defined in the abstract class. By enforcing method signatures, the abc module ensures that derived classes have the same interface, which makes it easier to write reusable and interchangeable code.\n",
    "# The abc module is used when you want to define a generic interface, but you don't want to define the implementation of that interface. For example, if you're writing a GUI library, you might define an abstract class called Widget that has methods like draw() and update(). Concrete subclasses like Button, Checkbox, and Textbox can then be derived from Widget, and each one can provide its own implementation of draw() and update().\n",
    "      \n",
    "    #   example of using the abc module to define an abstract class:\n",
    "    \n",
    "from abc import ABC, abstractmethod\n",
    "\n",
    "class Shape(ABC):\n",
    "    @abstractmethod\n",
    "    def area(self):\n",
    "        pass\n",
    "    \n",
    "class Rectangle(Shape):\n",
    "    def __init__(self, width, height):\n",
    "        self.width = width\n",
    "        self.height = height\n",
    "    \n",
    "    def area(self):\n",
    "        return self.width * self.height\n",
    "\n",
    "class Circle(Shape):\n",
    "    def __init__(self, radius):\n",
    "        self.radius = radius\n",
    "        \n",
    "    def area(self):\n",
    "        return 3.14 * self.radius ** 2\n"
   ]
  },
  {
   "cell_type": "code",
   "execution_count": 8,
   "id": "301e2f67-1003-47c1-809d-e71bc0fabd93",
   "metadata": {},
   "outputs": [
    {
     "name": "stdout",
     "output_type": "stream",
     "text": [
      "Area: 200\n",
      "Area: 78.5\n"
     ]
    }
   ],
   "source": [
    "#ans04 \n",
    "# Data abstraction can be achieved in Python by creating abstract classes and methods using the abc (Abstract Base Classes) module.\n",
    "# An abstract class is a class that cannot be instantiated, and it is designed to be subclassed by other classes. Abstract classes can define abstract methods, which are methods that do not have any implementation in the abstract class but must be implemented in any concrete subclass that inherits from the abstract class.\n",
    "# By using abstract classes and methods, we can create a level of abstraction where the implementation details are hidden, and only the required functionality is exposed. This allows for more flexible and modular code design, as changes to the implementation of a concrete subclass will not affect other parts of the code that rely on the abstract interface.\n",
    "\n",
    "   #example: \n",
    "    \n",
    "import abc\n",
    "\n",
    "class Shape(metaclass=abc.ABCMeta):\n",
    "    @abc.abstractmethod\n",
    "    def area(self):\n",
    "        pass\n",
    "\n",
    "class Rectangle(Shape):\n",
    "    def __init__(self, width, height):\n",
    "        self.width = width\n",
    "        self.height = height\n",
    "    \n",
    "    def area(self):\n",
    "        return self.width * self.height\n",
    "\n",
    "class Circle(Shape):\n",
    "    def __init__(self, radius):\n",
    "        self.radius = radius\n",
    "    \n",
    "    def area(self):\n",
    "        return 3.14 * self.radius ** 2\n",
    "\n",
    "def print_area(shape):\n",
    "    print(\"Area:\", shape.area())\n",
    "\n",
    "rect = Rectangle(10, 20)\n",
    "circ = Circle(5)\n",
    "\n",
    "print_area(rect)  # Area: 200\n",
    "print_area(circ)  # Area: 78.5\n"
   ]
  },
  {
   "cell_type": "code",
   "execution_count": 11,
   "id": "3559ceca-72ea-4efa-b62e-6866dffeb791",
   "metadata": {},
   "outputs": [
    {
     "name": "stdout",
     "output_type": "stream",
     "text": [
      "200\n"
     ]
    }
   ],
   "source": [
    "#ans05 No, we cannot create an instance of an abstract class directly because an abstract class is an incomplete class and does not have a complete implementation. It is intended to be subclassed and implemented by its concrete subclasses. If we try to create an instance of an abstract class, it will raise a TypeError.\n",
    "   \n",
    "    #example : \n",
    "import abc\n",
    "\n",
    "class Shape(metaclass=abc.ABCMeta):\n",
    "    @abc.abstractmethod\n",
    "    def area(self):\n",
    "        pass\n",
    "\n",
    "class Rectangle(Shape):\n",
    "    def __init__(self, width, height):\n",
    "        self.width = width\n",
    "        self.height = height\n",
    "    \n",
    "    def area(self):\n",
    "        return self.width * self.height\n",
    "\n",
    "rect = Rectangle(10, 20)\n",
    "print(rect.area())  # Output: 200\n"
   ]
  },
  {
   "cell_type": "code",
   "execution_count": null,
   "id": "ab35a661-38b9-4b72-b4db-c2750ba97160",
   "metadata": {},
   "outputs": [],
   "source": []
  }
 ],
 "metadata": {
  "kernelspec": {
   "display_name": "Python 3 (ipykernel)",
   "language": "python",
   "name": "python3"
  },
  "language_info": {
   "codemirror_mode": {
    "name": "ipython",
    "version": 3
   },
   "file_extension": ".py",
   "mimetype": "text/x-python",
   "name": "python",
   "nbconvert_exporter": "python",
   "pygments_lexer": "ipython3",
   "version": "3.10.8"
  }
 },
 "nbformat": 4,
 "nbformat_minor": 5
}
