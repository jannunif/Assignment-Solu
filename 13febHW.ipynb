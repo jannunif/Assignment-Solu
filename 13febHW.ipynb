{
 "cells": [
  {
   "cell_type": "code",
   "execution_count": 2,
   "id": "5b7d1b9e-02cf-41e5-b9b0-5706699c14f0",
   "metadata": {},
   "outputs": [],
   "source": [
    "#Ans01 : \n",
    "\n",
    "#In Python, the Exception class is the base class for all exceptions. When creating a custom exception, we inherit from the Exception class to create a new exception type that inherits the properties and methods of the base Exception class.\n",
    "#By inheriting from the Exception class, our custom exception class gains access to all the methods and properties of the base Exception class, such as the ability to provide an error message, a stack trace, and other information that can be helpful in debugging errors. This allows us to create a custom exception that behaves in a similar way to the built-in exceptions in Python.\n",
    "#Furthermore, using the Exception class as the base class ensures that our custom exception is compatible with the existing exception handling mechanisms in Python. This means that we can use our custom exception with the try-except blocks, raise it with the raise statement, and handle it with other built-in exception classes such as ValueError, TypeError, etc.\n",
    "#In summary, we use the Exception class as the base class for custom exceptions in order to inherit its properties and methods, ensure compatibility with existing exception handling mechanisms in Python, and make our custom exceptions behave in a similar way to built-in exceptions."
   ]
  },
  {
   "cell_type": "code",
   "execution_count": 5,
   "id": "0e8b0821-c8d0-4e56-84c7-ce4989982230",
   "metadata": {},
   "outputs": [
    {
     "name": "stdout",
     "output_type": "stream",
     "text": [
      "ArithmeticError\n",
      "    Exception\n",
      "AssertionError\n",
      "    Exception\n",
      "AttributeError\n",
      "    Exception\n",
      "BaseException\n",
      "    object\n"
     ]
    },
    {
     "ename": "AttributeError",
     "evalue": "'NoneType' object has no attribute '__name__'",
     "output_type": "error",
     "traceback": [
      "\u001b[0;31m---------------------------------------------------------------------------\u001b[0m",
      "\u001b[0;31mAttributeError\u001b[0m                            Traceback (most recent call last)",
      "Cell \u001b[0;32mIn[5], line 28\u001b[0m\n\u001b[1;32m     25\u001b[0m         print_exception_class_hierarchy(exception_class\u001b[38;5;241m.\u001b[39m__base__, indent \u001b[38;5;241m+\u001b[39m \u001b[38;5;241m4\u001b[39m)\n\u001b[1;32m     27\u001b[0m \u001b[38;5;66;03m# Call the print_exception_hierarchy function to print the exception hierarchy\u001b[39;00m\n\u001b[0;32m---> 28\u001b[0m \u001b[43mprint_exception_hierarchy\u001b[49m\u001b[43m(\u001b[49m\u001b[43m)\u001b[49m\n",
      "Cell \u001b[0;32mIn[5], line 14\u001b[0m, in \u001b[0;36mprint_exception_hierarchy\u001b[0;34m()\u001b[0m\n\u001b[1;32m     12\u001b[0m \u001b[38;5;66;03m# Print the hierarchy for each exception class\u001b[39;00m\n\u001b[1;32m     13\u001b[0m \u001b[38;5;28;01mfor\u001b[39;00m exception_class \u001b[38;5;129;01min\u001b[39;00m exception_classes:\n\u001b[0;32m---> 14\u001b[0m     \u001b[43mprint_exception_class_hierarchy\u001b[49m\u001b[43m(\u001b[49m\u001b[43mexception_class\u001b[49m\u001b[43m)\u001b[49m\n",
      "Cell \u001b[0;32mIn[5], line 25\u001b[0m, in \u001b[0;36mprint_exception_class_hierarchy\u001b[0;34m(exception_class, indent)\u001b[0m\n\u001b[1;32m     23\u001b[0m \u001b[38;5;66;03m# Recursively print the hierarchy for the parent class\u001b[39;00m\n\u001b[1;32m     24\u001b[0m \u001b[38;5;28;01mif\u001b[39;00m exception_class\u001b[38;5;241m.\u001b[39m__base__ \u001b[38;5;241m!=\u001b[39m \u001b[38;5;167;01mBaseException\u001b[39;00m:\n\u001b[0;32m---> 25\u001b[0m     \u001b[43mprint_exception_class_hierarchy\u001b[49m\u001b[43m(\u001b[49m\u001b[43mexception_class\u001b[49m\u001b[38;5;241;43m.\u001b[39;49m\u001b[43m__base__\u001b[49m\u001b[43m,\u001b[49m\u001b[43m \u001b[49m\u001b[43mindent\u001b[49m\u001b[43m \u001b[49m\u001b[38;5;241;43m+\u001b[39;49m\u001b[43m \u001b[49m\u001b[38;5;241;43m4\u001b[39;49m\u001b[43m)\u001b[49m\n",
      "Cell \u001b[0;32mIn[5], line 25\u001b[0m, in \u001b[0;36mprint_exception_class_hierarchy\u001b[0;34m(exception_class, indent)\u001b[0m\n\u001b[1;32m     23\u001b[0m \u001b[38;5;66;03m# Recursively print the hierarchy for the parent class\u001b[39;00m\n\u001b[1;32m     24\u001b[0m \u001b[38;5;28;01mif\u001b[39;00m exception_class\u001b[38;5;241m.\u001b[39m__base__ \u001b[38;5;241m!=\u001b[39m \u001b[38;5;167;01mBaseException\u001b[39;00m:\n\u001b[0;32m---> 25\u001b[0m     \u001b[43mprint_exception_class_hierarchy\u001b[49m\u001b[43m(\u001b[49m\u001b[43mexception_class\u001b[49m\u001b[38;5;241;43m.\u001b[39;49m\u001b[43m__base__\u001b[49m\u001b[43m,\u001b[49m\u001b[43m \u001b[49m\u001b[43mindent\u001b[49m\u001b[43m \u001b[49m\u001b[38;5;241;43m+\u001b[39;49m\u001b[43m \u001b[49m\u001b[38;5;241;43m4\u001b[39;49m\u001b[43m)\u001b[49m\n",
      "Cell \u001b[0;32mIn[5], line 21\u001b[0m, in \u001b[0;36mprint_exception_class_hierarchy\u001b[0;34m(exception_class, indent)\u001b[0m\n\u001b[1;32m     17\u001b[0m \u001b[38;5;124;03m\"\"\"\u001b[39;00m\n\u001b[1;32m     18\u001b[0m \u001b[38;5;124;03mThis function prints the hierarchy for a given exception class.\u001b[39;00m\n\u001b[1;32m     19\u001b[0m \u001b[38;5;124;03m\"\"\"\u001b[39;00m\n\u001b[1;32m     20\u001b[0m \u001b[38;5;66;03m# Print the class name with indentation\u001b[39;00m\n\u001b[0;32m---> 21\u001b[0m \u001b[38;5;28mprint\u001b[39m(\u001b[38;5;124m\"\u001b[39m\u001b[38;5;124m \u001b[39m\u001b[38;5;124m\"\u001b[39m \u001b[38;5;241m*\u001b[39m indent \u001b[38;5;241m+\u001b[39m \u001b[43mexception_class\u001b[49m\u001b[38;5;241;43m.\u001b[39;49m\u001b[38;5;18;43m__name__\u001b[39;49m)\n\u001b[1;32m     23\u001b[0m \u001b[38;5;66;03m# Recursively print the hierarchy for the parent class\u001b[39;00m\n\u001b[1;32m     24\u001b[0m \u001b[38;5;28;01mif\u001b[39;00m exception_class\u001b[38;5;241m.\u001b[39m__base__ \u001b[38;5;241m!=\u001b[39m \u001b[38;5;167;01mBaseException\u001b[39;00m:\n",
      "\u001b[0;31mAttributeError\u001b[0m: 'NoneType' object has no attribute '__name__'"
     ]
    }
   ],
   "source": [
    "#Ans02 : \n",
    "\n",
    "from builtins import BaseException\n",
    "\n",
    "def print_exception_hierarchy():\n",
    "    \"\"\"\n",
    "    This function prints the Python exception hierarchy.\n",
    "    \"\"\"\n",
    "    # Get the list of built-in exception classes\n",
    "    exception_classes = [getattr(__builtins__, exc) for exc in dir(__builtins__) if isinstance(getattr(__builtins__, exc), type) and issubclass(getattr(__builtins__, exc), BaseException)]\n",
    "    \n",
    "    # Print the hierarchy for each exception class\n",
    "    for exception_class in exception_classes:\n",
    "        print_exception_class_hierarchy(exception_class)\n",
    "        \n",
    "def print_exception_class_hierarchy(exception_class, indent=0):\n",
    "    \"\"\"\n",
    "    This function prints the hierarchy for a given exception class.\n",
    "    \"\"\"\n",
    "    # Print the class name with indentation\n",
    "    print(\" \" * indent + exception_class.__name__)\n",
    "    \n",
    "    # Recursively print the hierarchy for the parent class\n",
    "    if exception_class.__base__ != BaseException:\n",
    "        print_exception_class_hierarchy(exception_class.__base__, indent + 4)\n",
    "\n",
    "# Call the print_exception_hierarchy function to print the exception hierarchy\n",
    "print_exception_hierarchy()\n"
   ]
  },
  {
   "cell_type": "code",
   "execution_count": 6,
   "id": "5335302e-a403-4735-a315-4a1c808f5043",
   "metadata": {},
   "outputs": [
    {
     "name": "stdout",
     "output_type": "stream",
     "text": [
      "Error: division by zero\n"
     ]
    }
   ],
   "source": [
    "#Ans03 : The ArithmeticError class is a built-in exception class in Python that serves as a base class for all the arithmetic-related exceptions. Some of the exceptions that are defined in the ArithmeticError class are:\n",
    "\n",
    "#ZeroDivisionError: This exception is raised when an attempt is made to divide a number by zero.\n",
    "\n",
    "  \n",
    "    #Example:  \n",
    "a = 10\n",
    "b = 0\n",
    "\n",
    "try:\n",
    "    result = a/b\n",
    "except ZeroDivisionError as e:\n",
    "    print(\"Error:\", e)\n",
    "\n",
    "#OverflowError: This exception is raised when the result of an arithmetic operation exceeds the maximum limit that can be represented in Python.\n",
    "\n",
    "   #Example: \n",
    "    import sys\n",
    "\n",
    "a = sys.maxsize\n",
    "b = sys.maxsize\n",
    "\n",
    "try:\n",
    "    result = a * b\n",
    "except OverflowError as e:\n",
    "    print(\"Error:\", e)\n"
   ]
  },
  {
   "cell_type": "code",
   "execution_count": 7,
   "id": "8138c0e3-f6bb-464e-adb5-55cf37b35126",
   "metadata": {},
   "outputs": [
    {
     "ename": "IndentationError",
     "evalue": "unexpected indent (2496839972.py, line 6)",
     "output_type": "error",
     "traceback": [
      "\u001b[0;36m  Cell \u001b[0;32mIn[7], line 6\u001b[0;36m\u001b[0m\n\u001b[0;31m    my_dict = {\"name\": \"John\", \"age\": 25, \"country\": \"USA\"}\u001b[0m\n\u001b[0m    ^\u001b[0m\n\u001b[0;31mIndentationError\u001b[0m\u001b[0;31m:\u001b[0m unexpected indent\n"
     ]
    }
   ],
   "source": [
    "#Ans04:The LookupError class is a built-in exception class in Python that serves as a base class for all the lookup-related exceptions. The main purpose of this class is to handle situations where a particular value or key cannot be found in a container or sequence.\n",
    "# Two commonly used exceptions that are derived from the LookupError class are KeyError and IndexError.\n",
    "\n",
    "#KeyError: This exception is raised when a key is not found in a dictionary.\n",
    " # Example:\n",
    "    my_dict = {\"name\": \"John\", \"age\": 25, \"country\": \"USA\"}\n",
    "\n",
    "try:\n",
    "    value = my_dict[\"city\"]\n",
    "except KeyError as e:\n",
    "    print(\"Error:\", e)\n",
    "\n",
    "#IndexError: This exception is raised when an index is out of range in a list or tuple.\n",
    "  #example:\n",
    "     my_list = [1, 2, 3, 4, 5]\n",
    "\n",
    "try:\n",
    "    value = my_list[10]\n",
    "except IndexError as e:\n",
    "    print(\"Error:\", e)\n"
   ]
  },
  {
   "cell_type": "code",
   "execution_count": 8,
   "id": "d854d66d-e257-4824-9e72-71081ea0386b",
   "metadata": {},
   "outputs": [
    {
     "ename": "IndentationError",
     "evalue": "unexpected indent (2335700636.py, line 4)",
     "output_type": "error",
     "traceback": [
      "\u001b[0;36m  Cell \u001b[0;32mIn[8], line 4\u001b[0;36m\u001b[0m\n\u001b[0;31m    try:\u001b[0m\n\u001b[0m    ^\u001b[0m\n\u001b[0;31mIndentationError\u001b[0m\u001b[0;31m:\u001b[0m unexpected indent\n"
     ]
    }
   ],
   "source": [
    "#Ans05 :  ImportError is a built-in exception class in Python that is raised when a module or package cannot be imported by the interpreter. This exception occurs when the import statement is unable to locate or load a module due to various reasons such as incorrect module name, missing dependencies, invalid file path, or permission issues.\n",
    "\n",
    "# For example :\n",
    "    try:\n",
    "    import my_module\n",
    "except ImportError as e:\n",
    "    print(\"Error:\", e)\n"
   ]
  },
  {
   "cell_type": "code",
   "execution_count": null,
   "id": "549c6174-f3e0-48e3-bb6d-2f116a25c666",
   "metadata": {},
   "outputs": [],
   "source": [
    "#Ans06: "
   ]
  }
 ],
 "metadata": {
  "kernelspec": {
   "display_name": "Python 3 (ipykernel)",
   "language": "python",
   "name": "python3"
  },
  "language_info": {
   "codemirror_mode": {
    "name": "ipython",
    "version": 3
   },
   "file_extension": ".py",
   "mimetype": "text/x-python",
   "name": "python",
   "nbconvert_exporter": "python",
   "pygments_lexer": "ipython3",
   "version": "3.10.8"
  }
 },
 "nbformat": 4,
 "nbformat_minor": 5
}
