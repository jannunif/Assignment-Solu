{
 "cells": [
  {
   "cell_type": "code",
   "execution_count": 1,
   "id": "6fb8b414-a065-40db-a899-79a57ea12d7c",
   "metadata": {},
   "outputs": [],
   "source": [
    "#Ans01 : MongoDB is a popular open-source document-oriented NoSQL database that uses a JSON-like format to store data. It was developed by MongoDB Inc. and first released in 2009.\n",
    "#Non-relational databases, also known as NoSQL databases, are a type of database management system that differs from traditional relational databases in several ways.\n",
    "\n",
    "#MongoDB is often preferred over SQL databases in the following scenarios:::\n",
    "\n",
    "#Unstructured or semi-structured data: If the data being stored is unstructured or semi-structured, such as JSON or XML data, MongoDB's document-oriented structure makes it easier to store and retrieve this type of data.\n",
    "#Scalability                         : If the application is expected to handle a large volume of data or requires high scalability, MongoDB's distributed architecture and horizontal scaling capabilities make it a better choice than SQL databases.\n",
    "#Agility                             : If the development team requires high agility and flexibility in the schema design, MongoDB's dynamic schema and document-oriented data model make it easier to iterate on the schema and adjust to changing business needs.\n",
    "#Performance                         : If the application requires high write and read throughput, MongoDB's efficient indexing and document-oriented storage can provide better performance than SQL databases.\n",
    "#Cloud computing                     : If the application is hosted in the cloud, MongoDB's cloud-native design and support for distributed architectures can make it a better fit for cloud-based environments."
   ]
  },
  {
   "cell_type": "code",
   "execution_count": 4,
   "id": "15539a67-00b0-4cc1-8c79-d513858a341e",
   "metadata": {},
   "outputs": [
    {
     "ename": "ModuleNotFoundError",
     "evalue": "No module named 'pymongo'",
     "output_type": "error",
     "traceback": [
      "\u001b[0;31m---------------------------------------------------------------------------\u001b[0m",
      "\u001b[0;31mModuleNotFoundError\u001b[0m                       Traceback (most recent call last)",
      "Cell \u001b[0;32mIn[4], line 4\u001b[0m\n\u001b[1;32m      1\u001b[0m \u001b[38;5;66;03m#Ans06 : \u001b[39;00m\n\u001b[1;32m      2\u001b[0m \u001b[38;5;66;03m#The sort() method in MongoDB is used to sort the documents in a collection based on a specified field or fields. This method takes one or more parameters that specify the sorting order and direction.\u001b[39;00m\n\u001b[1;32m      3\u001b[0m \u001b[38;5;66;03m#example to demonstrate sorting in MongoDB using Python:\u001b[39;00m\n\u001b[0;32m----> 4\u001b[0m \u001b[38;5;28;01mimport\u001b[39;00m \u001b[38;5;21;01mpymongo\u001b[39;00m\n\u001b[1;32m      6\u001b[0m \u001b[38;5;66;03m# connect to MongoDB\u001b[39;00m\n\u001b[1;32m      7\u001b[0m client \u001b[38;5;241m=\u001b[39m pymongo\u001b[38;5;241m.\u001b[39mMongoClient(\u001b[38;5;124m\"\u001b[39m\u001b[38;5;124mmongodb://localhost:27017/\u001b[39m\u001b[38;5;124m\"\u001b[39m)\n",
      "\u001b[0;31mModuleNotFoundError\u001b[0m: No module named 'pymongo'"
     ]
    }
   ],
   "source": [
    "#Ans06 : \n",
    "#The sort() method in MongoDB is used to sort the documents in a collection based on a specified field or fields. This method takes one or more parameters that specify the sorting order and direction.\n",
    "#example to demonstrate sorting in MongoDB using Python:\n",
    "import pymongo\n",
    "\n",
    "# connect to MongoDB\n",
    "client = pymongo.MongoClient(\"mongodb://localhost:27017/\")\n",
    "db = client[\"mydatabase\"]\n",
    "students = db[\"students\"]\n",
    "\n",
    "# define the sorting order\n",
    "sort_order = [(\"age\", 1)]\n",
    "\n",
    "# find the documents and sort them\n",
    "result = students.find().sort(sort_order)\n",
    "\n",
    "# print the sorted documents\n",
    "for document in result:\n",
    "    print(document)\n",
    "\n"
   ]
  },
  {
   "cell_type": "code",
   "execution_count": 5,
   "id": "98dce928-fb5a-4a4b-841d-bf21092ccdf2",
   "metadata": {},
   "outputs": [],
   "source": [
    "#Ans02 : \n",
    "\n",
    "#MongoDB is a popular NoSQL database management system that offers several features that make it a preferred choice over traditional relational databases. Some of the key features of MongoDB are:\n",
    "\n",
    "#Flexible data model: MongoDB uses a document-based data model that allows developers to store and manipulate data in a flexible and scalable way. This means that data can be stored in the form of JSON-like documents, and these documents can be nested and structured in a way that best suits the application.\n",
    "#Scalability        : MongoDB is designed to scale horizontally by adding more nodes to the database cluster, which allows it to handle large amounts of data and high levels of traffic. It also provides auto-sharding, which helps to distribute data across multiple servers.\n",
    "#High availability  : MongoDB provides high availability through replica sets, which are groups of MongoDB instances that maintain the same data set. Replica sets provide redundancy and automatic failover, which ensures that the database remains available in case of a node failure.\n",
    "#Indexing           : MongoDB provides extensive indexing capabilities that enable developers to create indexes on any field in the document. This improves query performance by allowing the database to quickly locate the required data.\n",
    "#Aggregation        : MongoDB provides powerful aggregation capabilities that allow developers to perform complex queries and analytics on the data. It supports a range of aggregation functions such as sum, count, average, and group by.\n",
    "#Schemaless         : MongoDB does not enforce a fixed schema, which means that the structure of the data can be changed as the application evolves. This allows developers to make changes to the application without having to modify the database schema.\n",
    "#Document validation: MongoDB provides a document validation feature that allows developers to define rules for the structure and data types of documents. This helps to ensure data quality and consistency."
   ]
  },
  {
   "cell_type": "code",
   "execution_count": 6,
   "id": "619fc6fd-5392-426c-995f-debbc6efb26c",
   "metadata": {},
   "outputs": [
    {
     "ename": "ModuleNotFoundError",
     "evalue": "No module named 'pymongo'",
     "output_type": "error",
     "traceback": [
      "\u001b[0;31m---------------------------------------------------------------------------\u001b[0m",
      "\u001b[0;31mModuleNotFoundError\u001b[0m                       Traceback (most recent call last)",
      "Cell \u001b[0;32mIn[6], line 3\u001b[0m\n\u001b[1;32m      1\u001b[0m \u001b[38;5;66;03m#Ans03 : \u001b[39;00m\n\u001b[0;32m----> 3\u001b[0m \u001b[38;5;28;01mimport\u001b[39;00m \u001b[38;5;21;01mpymongo\u001b[39;00m\n\u001b[1;32m      5\u001b[0m \u001b[38;5;66;03m# create a MongoDB client instance\u001b[39;00m\n\u001b[1;32m      6\u001b[0m client \u001b[38;5;241m=\u001b[39m pymongo\u001b[38;5;241m.\u001b[39mMongoClient(\u001b[38;5;124m\"\u001b[39m\u001b[38;5;124mmongodb://localhost:27017/\u001b[39m\u001b[38;5;124m\"\u001b[39m)\n",
      "\u001b[0;31mModuleNotFoundError\u001b[0m: No module named 'pymongo'"
     ]
    }
   ],
   "source": [
    "#Ans03 : \n",
    "\n",
    "import pymongo\n",
    "\n",
    "# create a MongoDB client instance\n",
    "client = pymongo.MongoClient(\"mongodb://localhost:27017/\")\n",
    "\n",
    "# create a database\n",
    "mydb = client[\"mydatabase\"]\n",
    "\n",
    "# create a collection\n",
    "mycol = mydb[\"customers\"]\n"
   ]
  },
  {
   "cell_type": "code",
   "execution_count": 7,
   "id": "5f0d460c-36d7-40a9-95a2-490ab04126f0",
   "metadata": {},
   "outputs": [
    {
     "ename": "ModuleNotFoundError",
     "evalue": "No module named 'pymongo'",
     "output_type": "error",
     "traceback": [
      "\u001b[0;31m---------------------------------------------------------------------------\u001b[0m",
      "\u001b[0;31mModuleNotFoundError\u001b[0m                       Traceback (most recent call last)",
      "Cell \u001b[0;32mIn[7], line 3\u001b[0m\n\u001b[1;32m      1\u001b[0m \u001b[38;5;66;03m#Ans04 : \u001b[39;00m\n\u001b[0;32m----> 3\u001b[0m \u001b[38;5;28;01mimport\u001b[39;00m \u001b[38;5;21;01mpymongo\u001b[39;00m\n\u001b[1;32m      5\u001b[0m \u001b[38;5;66;03m# create a MongoDB client instance\u001b[39;00m\n\u001b[1;32m      6\u001b[0m client \u001b[38;5;241m=\u001b[39m pymongo\u001b[38;5;241m.\u001b[39mMongoClient(\u001b[38;5;124m\"\u001b[39m\u001b[38;5;124mmongodb://localhost:27017/\u001b[39m\u001b[38;5;124m\"\u001b[39m)\n",
      "\u001b[0;31mModuleNotFoundError\u001b[0m: No module named 'pymongo'"
     ]
    }
   ],
   "source": [
    "#Ans04 : \n",
    "\n",
    "import pymongo\n",
    "\n",
    "# create a MongoDB client instance\n",
    "client = pymongo.MongoClient(\"mongodb://localhost:27017/\")\n",
    "\n",
    "# create a database\n",
    "mydb = client[\"mydatabase\"]\n",
    "\n",
    "# create a collection\n",
    "mycol = mydb[\"customers\"]\n",
    "\n",
    "# insert one record\n",
    "customer = { \"name\": \"John Doe\", \"address\": \"123 Main St\", \"city\": \"Anytown\", \"state\": \"CA\" }\n",
    "result = mycol.insert_one(customer)\n",
    "print(\"Inserted ID:\", result.inserted_id)\n",
    "\n",
    "# insert many records\n",
    "customers = [\n",
    "  { \"name\": \"Jane Doe\", \"address\": \"456 Elm St\", \"city\": \"Anytown\", \"state\": \"CA\" },\n",
    "  { \"name\": \"Bob Smith\", \"address\": \"789 Oak St\", \"city\": \"Sometown\", \"state\": \"NY\" },\n",
    "  { \"name\": \"Alice Johnson\", \"address\": \"321 Maple Ave\", \"city\": \"Anycity\", \"state\": \"FL\" }\n",
    "]\n",
    "result = mycol.insert_many(customers)\n",
    "print(\"Inserted IDs:\", result.inserted_ids)\n",
    "\n",
    "# find one record\n",
    "customer = mycol.find_one({ \"name\": \"John Doe\" })\n",
    "print(\"Found one record:\", customer)\n",
    "\n",
    "# find all records\n",
    "customers = mycol.find()\n",
    "print(\"Found all records:\")\n",
    "for customer in customers:\n",
    "    print(customer)\n"
   ]
  },
  {
   "cell_type": "code",
   "execution_count": null,
   "id": "2c419852-ea95-4550-b753-58b604f4837a",
   "metadata": {},
   "outputs": [],
   "source": []
  }
 ],
 "metadata": {
  "kernelspec": {
   "display_name": "Python 3 (ipykernel)",
   "language": "python",
   "name": "python3"
  },
  "language_info": {
   "codemirror_mode": {
    "name": "ipython",
    "version": 3
   },
   "file_extension": ".py",
   "mimetype": "text/x-python",
   "name": "python",
   "nbconvert_exporter": "python",
   "pygments_lexer": "ipython3",
   "version": "3.10.8"
  }
 },
 "nbformat": 4,
 "nbformat_minor": 5
}
