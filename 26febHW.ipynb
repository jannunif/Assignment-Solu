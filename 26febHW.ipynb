{
 "cells": [
  {
   "cell_type": "code",
   "execution_count": 2,
   "id": "443b476e-d5f3-4f50-b44f-67ea075cf3f3",
   "metadata": {},
   "outputs": [
    {
     "name": "stdout",
     "output_type": "stream",
     "text": [
      "Data type of list_: <class 'list'>\n",
      "Data type of array_list: <class 'numpy.ndarray'>\n"
     ]
    }
   ],
   "source": [
    "#Ans01 : Yes, there is a difference in the data type of variables list_ and array_list.\n",
    "#list_ is a Python list object that can contain any type of Python objects including strings, integers, floats, etc.\n",
    "#array_list is a numpy array object that can only contain elements of a single data type. In this case, since all the elements in list_ are strings, array_list will also contain elements of the string data type.\n",
    "\n",
    "# *You can use the type() function as follows:\n",
    "\n",
    "import numpy as np\n",
    "\n",
    "list_ = ['1', '2', '3', '4', '5']\n",
    "array_list = np.array(object=list_)\n",
    "\n",
    "print(\"Data type of list_:\", type(list_))\n",
    "print(\"Data type of array_list:\", type(array_list))\n"
   ]
  },
  {
   "cell_type": "code",
   "execution_count": 3,
   "id": "94f828dd-12c5-4d3c-a04a-9e248f6b805d",
   "metadata": {},
   "outputs": [
    {
     "name": "stdout",
     "output_type": "stream",
     "text": [
      "Data type of element 1 in list_: <class 'str'>\n",
      "Data type of element 2 in list_: <class 'str'>\n",
      "Data type of element 3 in list_: <class 'str'>\n",
      "Data type of element 4 in list_: <class 'str'>\n",
      "Data type of element 5 in list_: <class 'str'>\n",
      "Data type of element 1 in array_list: <class 'numpy.str_'>\n",
      "Data type of element 2 in array_list: <class 'numpy.str_'>\n",
      "Data type of element 3 in array_list: <class 'numpy.str_'>\n",
      "Data type of element 4 in array_list: <class 'numpy.str_'>\n",
      "Data type of element 5 in array_list: <class 'numpy.str_'>\n"
     ]
    }
   ],
   "source": [
    "#Ans02 : \n",
    "\n",
    "import numpy as np\n",
    "\n",
    "list_ = ['1', '2', '3', '4', '5']\n",
    "array_list = np.array(object=list_)\n",
    "\n",
    "# printing data types of elements in list_\n",
    "for element in list_:\n",
    "    print(\"Data type of element {} in list_: {}\".format(element, type(element)))\n",
    "\n",
    "# printing data types of elements in array_list\n",
    "for element in array_list:\n",
    "    print(\"Data type of element {} in array_list: {}\".format(element, type(element)))\n"
   ]
  },
  {
   "cell_type": "code",
   "execution_count": 5,
   "id": "9f863c11-c437-47fb-a3c8-cf2831e1e569",
   "metadata": {},
   "outputs": [
    {
     "name": "stdout",
     "output_type": "stream",
     "text": [
      "Data type of element 1 in list_: <class 'str'>\n",
      "Data type of element 2 in list_: <class 'str'>\n",
      "Data type of element 3 in list_: <class 'str'>\n",
      "Data type of element 4 in list_: <class 'str'>\n",
      "Data type of element 5 in list_: <class 'str'>\n",
      "Data type of element 1 in array_list: <class 'numpy.int64'>\n",
      "Data type of element 2 in array_list: <class 'numpy.int64'>\n",
      "Data type of element 3 in array_list: <class 'numpy.int64'>\n",
      "Data type of element 4 in array_list: <class 'numpy.int64'>\n",
      "Data type of element 5 in array_list: <class 'numpy.int64'>\n"
     ]
    }
   ],
   "source": [
    "#Ans03 : Yes, there will be a difference in the data type of the elements present in list_ and array_list when array_list is defined as np.array(object=list_, dtype=int).\n",
    "# In this case, the dtype parameter is set to int, which means that the elements of list_ will be converted to integers when they are assigned to array_list. Therefore, the data type of each element in array_list will be int instead of numpy.str_.\n",
    "\n",
    "#You can use a loop along with the type() function as follows:\n",
    "import numpy as np\n",
    "\n",
    "list_ = ['1', '2', '3', '4', '5']\n",
    "array_list = np.array(object=list_, dtype=int)\n",
    "\n",
    "# printing data types of elements in list_\n",
    "for element in list_:\n",
    "    print(\"Data type of element {} in list_: {}\".format(element, type(element)))\n",
    "\n",
    "# printing data types of elements in array_list\n",
    "for element in array_list:\n",
    "    print(\"Data type of element {} in array_list: {}\".format(element, type(element)))\n"
   ]
  },
  {
   "cell_type": "code",
   "execution_count": 6,
   "id": "475763b8-88b9-4b90-8619-d0d278d6233a",
   "metadata": {},
   "outputs": [
    {
     "name": "stdout",
     "output_type": "stream",
     "text": [
      "Shape of num_array: (2, 3)\n",
      "Size of num_array: 6\n"
     ]
    }
   ],
   "source": [
    "#Ans04 : \n",
    "# To find the shape and size of a numpy array, you can use the shape and size attributes of the numpy array.\n",
    "# For the variable num_array in the given code, the shape of the array will be (2,3) since it has 2 rows and 3 columns, and the size of the array will be 6 since it contains a total of 6 elements.\n",
    "# EXAMPLE :\n",
    "\n",
    "import numpy as np\n",
    "\n",
    "num_list = [[1, 2, 3], [4, 5, 6]]\n",
    "num_array = np.array(object=num_list)\n",
    "\n",
    "# finding shape of num_array\n",
    "print(\"Shape of num_array:\", num_array.shape)\n",
    "\n",
    "# finding size of num_array\n",
    "print(\"Size of num_array:\", num_array.size)\n"
   ]
  },
  {
   "cell_type": "code",
   "execution_count": 9,
   "id": "c5d3ef2f-d3cc-4777-b425-624f90861fad",
   "metadata": {},
   "outputs": [
    {
     "name": "stdout",
     "output_type": "stream",
     "text": [
      "[[0. 0. 0.]\n",
      " [0. 0. 0.]\n",
      " [0. 0. 0.]]\n"
     ]
    }
   ],
   "source": [
    "#Ans05 : To create a numpy array of a 3x3 matrix containing zeros only, you can use the np.zeros() function. This function takes a shape tuple as input and creates an array of the specified shape filled with zeros.\n",
    "# code to create the desired numpy array:\n",
    "import numpy as np\n",
    "\n",
    "# create a numpy array of 3x3 matrix containing zeros only\n",
    "zero_array = np.zeros(shape=(3, 3))\n",
    "\n",
    "# print the resulting numpy array\n",
    "print(zero_array)\n",
    "\n"
   ]
  },
  {
   "cell_type": "code",
   "execution_count": null,
   "id": "de4a6344-7f93-424d-9a0f-652f5b5e8a4c",
   "metadata": {},
   "outputs": [],
   "source": [
    "#Ans06 : "
   ]
  }
 ],
 "metadata": {
  "kernelspec": {
   "display_name": "Python 3 (ipykernel)",
   "language": "python",
   "name": "python3"
  },
  "language_info": {
   "codemirror_mode": {
    "name": "ipython",
    "version": 3
   },
   "file_extension": ".py",
   "mimetype": "text/x-python",
   "name": "python",
   "nbconvert_exporter": "python",
   "pygments_lexer": "ipython3",
   "version": "3.10.8"
  }
 },
 "nbformat": 4,
 "nbformat_minor": 5
}
