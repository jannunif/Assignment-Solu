{
 "cells": [
  {
   "cell_type": "code",
   "execution_count": 6,
   "id": "41d83363-0a87-4a39-98fd-64ceafbf22e5",
   "metadata": {},
   "outputs": [],
   "source": [
    "#Asn01: To create a Bokeh plot using Python code, follow these general steps:\n",
    "\n",
    "# 1) Install the Bokeh library using pip: pip install bokeh\n",
    "# 2) Import the necessary Bokeh modules for the type of plot you want to create. For example, to create a scatter plot, you would typically import figure and scatter from bokeh.plotting.\n",
    "# 3) Prepare your data in a Pandas DataFrame or Numpy array.\n",
    "# 4) Create a figure object by calling figure() and passing in any optional parameters, such as plot dimensions and titles.\n",
    "# 5) Add the desired glyphs (shapes or markers) to the figure object by calling a glyph method such as scatter() and passing in the data and any optional parameters.\n",
    "# 6) Customize the plot by modifying any additional parameters, such as axis labels and legend.\n",
    "# 7) Display the plot using the show() function.\n"
   ]
  },
  {
   "cell_type": "code",
   "execution_count": 8,
   "id": "46481ae7-2a3a-4f62-b9d0-b3ee6f8e68bf",
   "metadata": {},
   "outputs": [
    {
     "ename": "RuntimeError",
     "evalue": "Models must be owned by only a single document, UnionRenderers(id='p1301', ...) is already in a doc",
     "output_type": "error",
     "traceback": [
      "\u001b[0;31m---------------------------------------------------------------------------\u001b[0m",
      "\u001b[0;31mRuntimeError\u001b[0m                              Traceback (most recent call last)",
      "Cell \u001b[0;32mIn[8], line 24\u001b[0m\n\u001b[1;32m     22\u001b[0m \u001b[38;5;66;03m# Show the plots\u001b[39;00m\n\u001b[1;32m     23\u001b[0m show(p) \u001b[38;5;66;03m# show the first plot\u001b[39;00m\n\u001b[0;32m---> 24\u001b[0m \u001b[43mshow\u001b[49m\u001b[43m(\u001b[49m\u001b[43mp2\u001b[49m\u001b[43m)\u001b[49m \u001b[38;5;66;03m# show the second plot\u001b[39;00m\n",
      "File \u001b[0;32m/opt/conda/lib/python3.10/site-packages/bokeh/io/showing.py:143\u001b[0m, in \u001b[0;36mshow\u001b[0;34m(obj, browser, new, notebook_handle, notebook_url, **kwargs)\u001b[0m\n\u001b[1;32m    140\u001b[0m state \u001b[38;5;241m=\u001b[39m curstate()\n\u001b[1;32m    142\u001b[0m \u001b[38;5;28;01mif\u001b[39;00m \u001b[38;5;28misinstance\u001b[39m(obj, UIElement):\n\u001b[0;32m--> 143\u001b[0m     \u001b[38;5;28;01mreturn\u001b[39;00m \u001b[43m_show_with_state\u001b[49m\u001b[43m(\u001b[49m\u001b[43mobj\u001b[49m\u001b[43m,\u001b[49m\u001b[43m \u001b[49m\u001b[43mstate\u001b[49m\u001b[43m,\u001b[49m\u001b[43m \u001b[49m\u001b[43mbrowser\u001b[49m\u001b[43m,\u001b[49m\u001b[43m \u001b[49m\u001b[43mnew\u001b[49m\u001b[43m,\u001b[49m\u001b[43m \u001b[49m\u001b[43mnotebook_handle\u001b[49m\u001b[38;5;241;43m=\u001b[39;49m\u001b[43mnotebook_handle\u001b[49m\u001b[43m)\u001b[49m\n\u001b[1;32m    145\u001b[0m \u001b[38;5;28;01mdef\u001b[39;00m \u001b[38;5;21mis_application\u001b[39m(obj: Any) \u001b[38;5;241m-\u001b[39m\u001b[38;5;241m>\u001b[39m TypeGuard[Application]:\n\u001b[1;32m    146\u001b[0m     \u001b[38;5;28;01mreturn\u001b[39;00m \u001b[38;5;28mgetattr\u001b[39m(obj, \u001b[38;5;124m'\u001b[39m\u001b[38;5;124m_is_a_bokeh_application_class\u001b[39m\u001b[38;5;124m'\u001b[39m, \u001b[38;5;28;01mFalse\u001b[39;00m)\n",
      "File \u001b[0;32m/opt/conda/lib/python3.10/site-packages/bokeh/io/showing.py:194\u001b[0m, in \u001b[0;36m_show_with_state\u001b[0;34m(obj, state, browser, new, notebook_handle)\u001b[0m\n\u001b[1;32m    191\u001b[0m     shown \u001b[38;5;241m=\u001b[39m \u001b[38;5;28;01mTrue\u001b[39;00m\n\u001b[1;32m    193\u001b[0m \u001b[38;5;28;01mif\u001b[39;00m state\u001b[38;5;241m.\u001b[39mfile \u001b[38;5;129;01mor\u001b[39;00m \u001b[38;5;129;01mnot\u001b[39;00m shown:\n\u001b[0;32m--> 194\u001b[0m     \u001b[43m_show_file_with_state\u001b[49m\u001b[43m(\u001b[49m\u001b[43mobj\u001b[49m\u001b[43m,\u001b[49m\u001b[43m \u001b[49m\u001b[43mstate\u001b[49m\u001b[43m,\u001b[49m\u001b[43m \u001b[49m\u001b[43mnew\u001b[49m\u001b[43m,\u001b[49m\u001b[43m \u001b[49m\u001b[43mcontroller\u001b[49m\u001b[43m)\u001b[49m\n\u001b[1;32m    196\u001b[0m \u001b[38;5;28;01mreturn\u001b[39;00m comms_handle\n",
      "File \u001b[0;32m/opt/conda/lib/python3.10/site-packages/bokeh/io/showing.py:175\u001b[0m, in \u001b[0;36m_show_file_with_state\u001b[0;34m(obj, state, new, controller)\u001b[0m\n\u001b[1;32m    171\u001b[0m \u001b[38;5;28;01mdef\u001b[39;00m \u001b[38;5;21m_show_file_with_state\u001b[39m(obj: UIElement, state: State, new: BrowserTarget, controller: BrowserLike) \u001b[38;5;241m-\u001b[39m\u001b[38;5;241m>\u001b[39m \u001b[38;5;28;01mNone\u001b[39;00m:\n\u001b[1;32m    172\u001b[0m     \u001b[38;5;124;03m'''\u001b[39;00m\n\u001b[1;32m    173\u001b[0m \n\u001b[1;32m    174\u001b[0m \u001b[38;5;124;03m    '''\u001b[39;00m\n\u001b[0;32m--> 175\u001b[0m     filename \u001b[38;5;241m=\u001b[39m \u001b[43msave\u001b[49m\u001b[43m(\u001b[49m\u001b[43mobj\u001b[49m\u001b[43m,\u001b[49m\u001b[43m \u001b[49m\u001b[43mstate\u001b[49m\u001b[38;5;241;43m=\u001b[39;49m\u001b[43mstate\u001b[49m\u001b[43m)\u001b[49m\n\u001b[1;32m    176\u001b[0m     controller\u001b[38;5;241m.\u001b[39mopen(\u001b[38;5;124m\"\u001b[39m\u001b[38;5;124mfile://\u001b[39m\u001b[38;5;124m\"\u001b[39m \u001b[38;5;241m+\u001b[39m filename, new\u001b[38;5;241m=\u001b[39mNEW_PARAM[new])\n",
      "File \u001b[0;32m/opt/conda/lib/python3.10/site-packages/bokeh/io/saving.py:98\u001b[0m, in \u001b[0;36msave\u001b[0;34m(obj, filename, resources, title, template, state)\u001b[0m\n\u001b[1;32m     95\u001b[0m theme \u001b[38;5;241m=\u001b[39m state\u001b[38;5;241m.\u001b[39mdocument\u001b[38;5;241m.\u001b[39mtheme\n\u001b[1;32m     97\u001b[0m filename, resources, title \u001b[38;5;241m=\u001b[39m _get_save_args(state, filename, resources, title)\n\u001b[0;32m---> 98\u001b[0m \u001b[43m_save_helper\u001b[49m\u001b[43m(\u001b[49m\u001b[43mobj\u001b[49m\u001b[43m,\u001b[49m\u001b[43m \u001b[49m\u001b[43mfilename\u001b[49m\u001b[43m,\u001b[49m\u001b[43m \u001b[49m\u001b[43mresources\u001b[49m\u001b[43m,\u001b[49m\u001b[43m \u001b[49m\u001b[43mtitle\u001b[49m\u001b[43m,\u001b[49m\u001b[43m \u001b[49m\u001b[43mtemplate\u001b[49m\u001b[43m,\u001b[49m\u001b[43m \u001b[49m\u001b[43mtheme\u001b[49m\u001b[43m)\u001b[49m\n\u001b[1;32m     99\u001b[0m \u001b[38;5;28;01mreturn\u001b[39;00m abspath(expanduser(filename))\n",
      "File \u001b[0;32m/opt/conda/lib/python3.10/site-packages/bokeh/io/saving.py:164\u001b[0m, in \u001b[0;36m_save_helper\u001b[0;34m(obj, filename, resources, title, template, theme)\u001b[0m\n\u001b[1;32m    160\u001b[0m \u001b[38;5;124;03m'''\u001b[39;00m\n\u001b[1;32m    161\u001b[0m \n\u001b[1;32m    162\u001b[0m \u001b[38;5;124;03m'''\u001b[39;00m\n\u001b[1;32m    163\u001b[0m \u001b[38;5;28;01mfrom\u001b[39;00m \u001b[38;5;21;01m.\u001b[39;00m\u001b[38;5;21;01m.\u001b[39;00m\u001b[38;5;21;01membed\u001b[39;00m \u001b[38;5;28;01mimport\u001b[39;00m file_html\n\u001b[0;32m--> 164\u001b[0m html \u001b[38;5;241m=\u001b[39m \u001b[43mfile_html\u001b[49m\u001b[43m(\u001b[49m\u001b[43mobj\u001b[49m\u001b[43m,\u001b[49m\u001b[43m \u001b[49m\u001b[43mresources\u001b[49m\u001b[43m,\u001b[49m\u001b[43m \u001b[49m\u001b[43mtitle\u001b[49m\u001b[38;5;241;43m=\u001b[39;49m\u001b[43mtitle\u001b[49m\u001b[43m,\u001b[49m\u001b[43m \u001b[49m\u001b[43mtemplate\u001b[49m\u001b[38;5;241;43m=\u001b[39;49m\u001b[43mtemplate\u001b[49m\u001b[43m \u001b[49m\u001b[38;5;129;43;01mor\u001b[39;49;00m\u001b[43m \u001b[49m\u001b[43mFILE\u001b[49m\u001b[43m,\u001b[49m\u001b[43m \u001b[49m\u001b[43mtheme\u001b[49m\u001b[38;5;241;43m=\u001b[39;49m\u001b[43mtheme\u001b[49m\u001b[43m)\u001b[49m\n\u001b[1;32m    166\u001b[0m \u001b[38;5;28;01mwith\u001b[39;00m \u001b[38;5;28mopen\u001b[39m(filename, mode\u001b[38;5;241m=\u001b[39m\u001b[38;5;124m\"\u001b[39m\u001b[38;5;124mw\u001b[39m\u001b[38;5;124m\"\u001b[39m, encoding\u001b[38;5;241m=\u001b[39m\u001b[38;5;124m\"\u001b[39m\u001b[38;5;124mutf-8\u001b[39m\u001b[38;5;124m\"\u001b[39m) \u001b[38;5;28;01mas\u001b[39;00m f:\n\u001b[1;32m    167\u001b[0m     f\u001b[38;5;241m.\u001b[39mwrite(html)\n",
      "File \u001b[0;32m/opt/conda/lib/python3.10/site-packages/bokeh/embed/standalone.py:356\u001b[0m, in \u001b[0;36mfile_html\u001b[0;34m(models, resources, title, template, template_variables, theme, suppress_callback_warning, _always_new)\u001b[0m\n\u001b[1;32m    353\u001b[0m \u001b[38;5;28;01melse\u001b[39;00m:\n\u001b[1;32m    354\u001b[0m     models_seq \u001b[38;5;241m=\u001b[39m models\n\u001b[0;32m--> 356\u001b[0m \u001b[38;5;28;01mwith\u001b[39;00m OutputDocumentFor(models_seq, apply_theme\u001b[38;5;241m=\u001b[39mtheme, always_new\u001b[38;5;241m=\u001b[39m_always_new) \u001b[38;5;28;01mas\u001b[39;00m doc:\n\u001b[1;32m    357\u001b[0m     (docs_json, render_items) \u001b[38;5;241m=\u001b[39m standalone_docs_json_and_render_items(models_seq, suppress_callback_warning\u001b[38;5;241m=\u001b[39msuppress_callback_warning)\n\u001b[1;32m    358\u001b[0m     title \u001b[38;5;241m=\u001b[39m _title_from_models(models_seq, title)\n",
      "File \u001b[0;32m/opt/conda/lib/python3.10/contextlib.py:135\u001b[0m, in \u001b[0;36m_GeneratorContextManager.__enter__\u001b[0;34m(self)\u001b[0m\n\u001b[1;32m    133\u001b[0m \u001b[38;5;28;01mdel\u001b[39;00m \u001b[38;5;28mself\u001b[39m\u001b[38;5;241m.\u001b[39margs, \u001b[38;5;28mself\u001b[39m\u001b[38;5;241m.\u001b[39mkwds, \u001b[38;5;28mself\u001b[39m\u001b[38;5;241m.\u001b[39mfunc\n\u001b[1;32m    134\u001b[0m \u001b[38;5;28;01mtry\u001b[39;00m:\n\u001b[0;32m--> 135\u001b[0m     \u001b[38;5;28;01mreturn\u001b[39;00m \u001b[38;5;28;43mnext\u001b[39;49m\u001b[43m(\u001b[49m\u001b[38;5;28;43mself\u001b[39;49m\u001b[38;5;241;43m.\u001b[39;49m\u001b[43mgen\u001b[49m\u001b[43m)\u001b[49m\n\u001b[1;32m    136\u001b[0m \u001b[38;5;28;01mexcept\u001b[39;00m \u001b[38;5;167;01mStopIteration\u001b[39;00m:\n\u001b[1;32m    137\u001b[0m     \u001b[38;5;28;01mraise\u001b[39;00m \u001b[38;5;167;01mRuntimeError\u001b[39;00m(\u001b[38;5;124m\"\u001b[39m\u001b[38;5;124mgenerator didn\u001b[39m\u001b[38;5;124m'\u001b[39m\u001b[38;5;124mt yield\u001b[39m\u001b[38;5;124m\"\u001b[39m) \u001b[38;5;28;01mfrom\u001b[39;00m \u001b[38;5;28mNone\u001b[39m\n",
      "File \u001b[0;32m/opt/conda/lib/python3.10/site-packages/bokeh/embed/util.py:150\u001b[0m, in \u001b[0;36mOutputDocumentFor\u001b[0;34m(objs, apply_theme, always_new)\u001b[0m\n\u001b[1;32m    148\u001b[0m     doc \u001b[38;5;241m=\u001b[39m Document()\n\u001b[1;32m    149\u001b[0m     \u001b[38;5;28;01mfor\u001b[39;00m model \u001b[38;5;129;01min\u001b[39;00m objs:\n\u001b[0;32m--> 150\u001b[0m         \u001b[43mdoc\u001b[49m\u001b[38;5;241;43m.\u001b[39;49m\u001b[43madd_root\u001b[49m\u001b[43m(\u001b[49m\u001b[43mmodel\u001b[49m\u001b[43m)\u001b[49m\n\u001b[1;32m    152\u001b[0m \u001b[38;5;66;03m# handle a single shared document\u001b[39;00m\n\u001b[1;32m    153\u001b[0m \u001b[38;5;28;01melif\u001b[39;00m \u001b[38;5;28mlen\u001b[39m(docs) \u001b[38;5;241m==\u001b[39m \u001b[38;5;241m1\u001b[39m:\n",
      "File \u001b[0;32m/opt/conda/lib/python3.10/site-packages/bokeh/document/document.py:317\u001b[0m, in \u001b[0;36mDocument.add_root\u001b[0;34m(self, model, setter)\u001b[0m\n\u001b[1;32m    314\u001b[0m \u001b[38;5;28;01mif\u001b[39;00m model \u001b[38;5;129;01min\u001b[39;00m \u001b[38;5;28mself\u001b[39m\u001b[38;5;241m.\u001b[39m_roots:\n\u001b[1;32m    315\u001b[0m     \u001b[38;5;28;01mreturn\u001b[39;00m\n\u001b[0;32m--> 317\u001b[0m \u001b[38;5;28;01mwith\u001b[39;00m \u001b[38;5;28mself\u001b[39m\u001b[38;5;241m.\u001b[39mmodels\u001b[38;5;241m.\u001b[39mfreeze():\n\u001b[1;32m    318\u001b[0m     \u001b[38;5;28mself\u001b[39m\u001b[38;5;241m.\u001b[39m_roots\u001b[38;5;241m.\u001b[39mappend(model)\n\u001b[1;32m    320\u001b[0m \u001b[38;5;28mself\u001b[39m\u001b[38;5;241m.\u001b[39mcallbacks\u001b[38;5;241m.\u001b[39mtrigger_on_change(RootAddedEvent(\u001b[38;5;28mself\u001b[39m, model, setter))\n",
      "File \u001b[0;32m/opt/conda/lib/python3.10/contextlib.py:142\u001b[0m, in \u001b[0;36m_GeneratorContextManager.__exit__\u001b[0;34m(self, typ, value, traceback)\u001b[0m\n\u001b[1;32m    140\u001b[0m \u001b[38;5;28;01mif\u001b[39;00m typ \u001b[38;5;129;01mis\u001b[39;00m \u001b[38;5;28;01mNone\u001b[39;00m:\n\u001b[1;32m    141\u001b[0m     \u001b[38;5;28;01mtry\u001b[39;00m:\n\u001b[0;32m--> 142\u001b[0m         \u001b[38;5;28;43mnext\u001b[39;49m\u001b[43m(\u001b[49m\u001b[38;5;28;43mself\u001b[39;49m\u001b[38;5;241;43m.\u001b[39;49m\u001b[43mgen\u001b[49m\u001b[43m)\u001b[49m\n\u001b[1;32m    143\u001b[0m     \u001b[38;5;28;01mexcept\u001b[39;00m \u001b[38;5;167;01mStopIteration\u001b[39;00m:\n\u001b[1;32m    144\u001b[0m         \u001b[38;5;28;01mreturn\u001b[39;00m \u001b[38;5;28;01mFalse\u001b[39;00m\n",
      "File \u001b[0;32m/opt/conda/lib/python3.10/site-packages/bokeh/document/models.py:130\u001b[0m, in \u001b[0;36mDocumentModelManager.freeze\u001b[0;34m(self)\u001b[0m\n\u001b[1;32m    128\u001b[0m \u001b[38;5;28mself\u001b[39m\u001b[38;5;241m.\u001b[39m_push_freeze()\n\u001b[1;32m    129\u001b[0m \u001b[38;5;28;01myield\u001b[39;00m\n\u001b[0;32m--> 130\u001b[0m \u001b[38;5;28;43mself\u001b[39;49m\u001b[38;5;241;43m.\u001b[39;49m\u001b[43m_pop_freeze\u001b[49m\u001b[43m(\u001b[49m\u001b[43m)\u001b[49m\n",
      "File \u001b[0;32m/opt/conda/lib/python3.10/site-packages/bokeh/document/models.py:280\u001b[0m, in \u001b[0;36mDocumentModelManager._pop_freeze\u001b[0;34m(self)\u001b[0m\n\u001b[1;32m    278\u001b[0m \u001b[38;5;28mself\u001b[39m\u001b[38;5;241m.\u001b[39m_freeze_count \u001b[38;5;241m-\u001b[39m\u001b[38;5;241m=\u001b[39m \u001b[38;5;241m1\u001b[39m\n\u001b[1;32m    279\u001b[0m \u001b[38;5;28;01mif\u001b[39;00m \u001b[38;5;28mself\u001b[39m\u001b[38;5;241m.\u001b[39m_freeze_count \u001b[38;5;241m==\u001b[39m \u001b[38;5;241m0\u001b[39m:\n\u001b[0;32m--> 280\u001b[0m     \u001b[38;5;28;43mself\u001b[39;49m\u001b[38;5;241;43m.\u001b[39;49m\u001b[43mrecompute\u001b[49m\u001b[43m(\u001b[49m\u001b[43m)\u001b[49m\n",
      "File \u001b[0;32m/opt/conda/lib/python3.10/site-packages/bokeh/document/models.py:227\u001b[0m, in \u001b[0;36mDocumentModelManager.recompute\u001b[0;34m(self)\u001b[0m\n\u001b[1;32m    224\u001b[0m     md\u001b[38;5;241m.\u001b[39m_detach_document()\n\u001b[1;32m    226\u001b[0m \u001b[38;5;28;01mfor\u001b[39;00m ma \u001b[38;5;129;01min\u001b[39;00m to_attach:\n\u001b[0;32m--> 227\u001b[0m     \u001b[43mma\u001b[49m\u001b[38;5;241;43m.\u001b[39;49m\u001b[43m_attach_document\u001b[49m\u001b[43m(\u001b[49m\u001b[43mdocument\u001b[49m\u001b[43m)\u001b[49m\n\u001b[1;32m    228\u001b[0m     \u001b[38;5;28mself\u001b[39m\u001b[38;5;241m.\u001b[39m_new_models\u001b[38;5;241m.\u001b[39madd(ma)\n\u001b[1;32m    230\u001b[0m \u001b[38;5;28mself\u001b[39m\u001b[38;5;241m.\u001b[39m_models \u001b[38;5;241m=\u001b[39m recomputed\n",
      "File \u001b[0;32m/opt/conda/lib/python3.10/site-packages/bokeh/model/model.py:575\u001b[0m, in \u001b[0;36mModel._attach_document\u001b[0;34m(self, doc)\u001b[0m\n\u001b[1;32m    572\u001b[0m     \u001b[38;5;28;01mreturn\u001b[39;00m\n\u001b[1;32m    574\u001b[0m \u001b[38;5;28;01mif\u001b[39;00m \u001b[38;5;28mself\u001b[39m\u001b[38;5;241m.\u001b[39mdocument \u001b[38;5;129;01mis\u001b[39;00m \u001b[38;5;129;01mnot\u001b[39;00m \u001b[38;5;28;01mNone\u001b[39;00m:\n\u001b[0;32m--> 575\u001b[0m     \u001b[38;5;28;01mraise\u001b[39;00m \u001b[38;5;167;01mRuntimeError\u001b[39;00m(\u001b[38;5;124mf\u001b[39m\u001b[38;5;124m\"\u001b[39m\u001b[38;5;124mModels must be owned by only a single document, \u001b[39m\u001b[38;5;132;01m{\u001b[39;00m\u001b[38;5;28mself\u001b[39m\u001b[38;5;132;01m!r}\u001b[39;00m\u001b[38;5;124m is already in a doc\u001b[39m\u001b[38;5;124m\"\u001b[39m)\n\u001b[1;32m    577\u001b[0m doc\u001b[38;5;241m.\u001b[39mtheme\u001b[38;5;241m.\u001b[39mapply_to_model(\u001b[38;5;28mself\u001b[39m)\n\u001b[1;32m    578\u001b[0m \u001b[38;5;28mself\u001b[39m\u001b[38;5;241m.\u001b[39mdocument \u001b[38;5;241m=\u001b[39m doc\n",
      "\u001b[0;31mRuntimeError\u001b[0m: Models must be owned by only a single document, UnionRenderers(id='p1301', ...) is already in a doc"
     ]
    }
   ],
   "source": [
    "#Ans02 : In Bokeh, glyphs are the basic visual building blocks that are used to create plots. Glyphs represent visual shapes, such as circles, rectangles, lines, and more. Each glyph has various properties, such as color, size, and shape, that can be customized to create the desired visual effect.\n",
    "\n",
    "# Example of how to add glyphs to a Bokeh plot:\n",
    "\n",
    "from bokeh.plotting import figure, show\n",
    "from bokeh.models import ColumnDataSource\n",
    "\n",
    "# Create a data source with x and y values\n",
    "source = ColumnDataSource(data=dict(\n",
    "    x=[1, 2, 3, 4, 5],\n",
    "    y=[2, 5, 3, 7, 1]\n",
    "))\n",
    "\n",
    "# Create a new plot with a circle glyph\n",
    "p = figure(title=\"Circle Glyph Example\")\n",
    "p.circle('x', 'y', size=20, source=source)\n",
    "\n",
    "# Create a new plot with a line glyph\n",
    "p2 = figure(title=\"Line Glyph Example\")\n",
    "p2.line('x', 'y', line_width=2, source=source)\n",
    "\n",
    "# Show the plots\n",
    "show(p) # show the first plot\n",
    "show(p2) # show the second plot\n"
   ]
  },
  {
   "cell_type": "code",
   "execution_count": 9,
   "id": "78a87da3-2bae-48ba-b864-b2ebd3e82725",
   "metadata": {},
   "outputs": [],
   "source": [
    "#Ans03 : Bokeh allows for extensive customization of the appearance of a plot, including the axes, title, and legend. Some of the ways to customize the appearance of a Bokeh plot are:\n",
    "\n",
    "# 1) Setting plot properties: Bokeh provides various properties to customize the plot. For example, you can set the title of the plot using the title property, the background color using the background_fill_color property, and so on.\n",
    "# 2) Customizing the axes   : Bokeh provides many properties to customize the appearance of the axes. For example, you can set the axis labels using the xaxis_label and yaxis_label properties, set the tick labels using the major_label_text_font_size property, and so on.\n",
    "# 3) Customizing the legend : Bokeh provides various properties to customize the legend, such as location, label_text_font_size, and so on.\n",
    " \n",
    "    #example of how to customize the appearance of a Bokeh plot:\n",
    "    \n",
    "from bokeh.plotting import figure, show\n",
    "from bokeh.models import ColumnDataSource\n",
    "\n",
    "# Create a data source with x and y values\n",
    "source = ColumnDataSource(data=dict(\n",
    "    x=[1, 2, 3, 4, 5],\n",
    "    y=[2, 5, 3, 7, 1]\n",
    "))\n",
    "\n",
    "# Create a new plot with a circle glyph\n",
    "p = figure(title=\"Customized Plot Example\", x_axis_label='X Axis', y_axis_label='Y Axis')\n",
    "p.circle('x', 'y', size=20, source=source, legend_label='Circle Glyph')\n",
    "\n",
    "# Customize the appearance of the plot\n",
    "p.title.text_color = \"blue\"\n",
    "p.xaxis.axis_label_text_color = \"red\"\n",
    "p.yaxis.axis_label_text_font_style = \"italic\"\n",
    "p.legend.location = \"top_left\"\n",
    "p.legend.label_text_font_size = \"15pt\"\n",
    "\n",
    "# Show the plot\n",
    "show(p)\n"
   ]
  },
  {
   "cell_type": "code",
   "execution_count": 10,
   "id": "fc52f9a5-a293-43f2-88de-bc2cd47bdf63",
   "metadata": {},
   "outputs": [],
   "source": [
    "#Ans04 : A Bokeh server is a Python script that runs a Bokeh application that can be accessed via a web browser. It allows you to create interactive plots that can be updated in real-time with new data or changes to the plot.\n",
    "#        To use the Bokeh server, you need to define a Bokeh application by creating a Python function that returns a Bokeh document. The document is the central object that holds all of the plot elements and controls the layout and interactivity of the plot.\n"
   ]
  },
  {
   "cell_type": "code",
   "execution_count": 12,
   "id": "426b312e-7ee8-4f66-98ff-fe79c3eec983",
   "metadata": {},
   "outputs": [
    {
     "ename": "ModuleNotFoundError",
     "evalue": "No module named 'flask'",
     "output_type": "error",
     "traceback": [
      "\u001b[0;31m---------------------------------------------------------------------------\u001b[0m",
      "\u001b[0;31mModuleNotFoundError\u001b[0m                       Traceback (most recent call last)",
      "Cell \u001b[0;32mIn[12], line 10\u001b[0m\n\u001b[1;32m      1\u001b[0m \u001b[38;5;66;03m#Ans05 : To embed a Bokeh plot into a web page or dashboard using Flask or Django, you need to follow these general steps:\u001b[39;00m\n\u001b[1;32m      2\u001b[0m \n\u001b[1;32m      3\u001b[0m \u001b[38;5;66;03m# 1) Create a Bokeh plot using Python code and save it as an HTML file using the save function of the Bokeh library.\u001b[39;00m\n\u001b[0;32m   (...)\u001b[0m\n\u001b[1;32m      7\u001b[0m \n\u001b[1;32m      8\u001b[0m \u001b[38;5;66;03m#example of how to embed a Bokeh plot in a Flask app:\u001b[39;00m\n\u001b[0;32m---> 10\u001b[0m \u001b[38;5;28;01mfrom\u001b[39;00m \u001b[38;5;21;01mflask\u001b[39;00m \u001b[38;5;28;01mimport\u001b[39;00m Flask, render_template\n\u001b[1;32m     11\u001b[0m \u001b[38;5;28;01mfrom\u001b[39;00m \u001b[38;5;21;01mbokeh\u001b[39;00m\u001b[38;5;21;01m.\u001b[39;00m\u001b[38;5;21;01membed\u001b[39;00m \u001b[38;5;28;01mimport\u001b[39;00m file_html\n\u001b[1;32m     12\u001b[0m \u001b[38;5;28;01mfrom\u001b[39;00m \u001b[38;5;21;01mbokeh\u001b[39;00m\u001b[38;5;21;01m.\u001b[39;00m\u001b[38;5;21;01mplotting\u001b[39;00m \u001b[38;5;28;01mimport\u001b[39;00m figure\n",
      "\u001b[0;31mModuleNotFoundError\u001b[0m: No module named 'flask'"
     ]
    }
   ],
   "source": [
    "#Ans05 : To embed a Bokeh plot into a web page or dashboard using Flask or Django, you need to follow these general steps:\n",
    "\n",
    "# 1) Create a Bokeh plot using Python code and save it as an HTML file using the save function of the Bokeh library.\n",
    "# 2) Define a view function in Flask or Django that will render the HTML template where you want to embed the Bokeh plot.\n",
    "# 3) In the view function, use the file_html function from the Bokeh library to load the HTML file and embed the Bokeh plot into the template.\n",
    "# 4) Pass the rendered template to the client-side as a response.\n",
    "\n",
    "#example of how to embed a Bokeh plot in a Flask app:\n",
    "\n",
    "from flask import Flask, render_template\n",
    "from bokeh.embed import file_html\n",
    "from bokeh.plotting import figure\n",
    "from bokeh.resources import CDN\n",
    "\n",
    "app = Flask(__name__)\n",
    "\n",
    "@app.route('/')\n",
    "def index():\n",
    "    # Create a Bokeh plot\n",
    "    plot = figure(plot_width=400, plot_height=400)\n",
    "    plot.line([1, 2, 3, 4, 5], [2, 5, 3, 7, 1], line_width=2)\n",
    "\n",
    "    # Save the Bokeh plot as an HTML file\n",
    "    filename = \"bokeh_plot.html\"\n",
    "    with open(filename, \"w\") as f:\n",
    "        f.write(file_html(plot, CDN, \"my plot\"))\n",
    "\n",
    "    # Render the HTML template and embed the Bokeh plot\n",
    "    return render_template(\"index.html\", plot=filename)\n",
    "\n",
    "if __name__ == '__main__':\n",
    "    app.run(debug=True)\n"
   ]
  },
  {
   "cell_type": "code",
   "execution_count": null,
   "id": "3d79533f-4ad7-44c9-a88a-035d240b9c11",
   "metadata": {},
   "outputs": [],
   "source": [
    "#Ans06 : "
   ]
  }
 ],
 "metadata": {
  "kernelspec": {
   "display_name": "Python 3 (ipykernel)",
   "language": "python",
   "name": "python3"
  },
  "language_info": {
   "codemirror_mode": {
    "name": "ipython",
    "version": 3
   },
   "file_extension": ".py",
   "mimetype": "text/x-python",
   "name": "python",
   "nbconvert_exporter": "python",
   "pygments_lexer": "ipython3",
   "version": "3.10.8"
  }
 },
 "nbformat": 4,
 "nbformat_minor": 5
}
