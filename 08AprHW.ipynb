{
 "cells": [
  {
   "cell_type": "code",
   "execution_count": 6,
   "id": "1cfb1d45-3f75-4694-a0b2-6a709da48183",
   "metadata": {},
   "outputs": [],
   "source": [
    "#Ans01: The best regression metric to employ in this situation would be Mean Squared Error (MSE). This metric measures the average squared difference between the predicted and actual house prices, and it is commonly used for regression problems. Other regression metrics such as Root Mean Squared Error (RMSE) and Mean Absolute Error (MAE) can also be used. However, MSE is preferred in this situation as it penalizes larger errors more severely than smaller errors and thus places more emphasis on accuracy."
   ]
  },
  {
   "cell_type": "code",
   "execution_count": 7,
   "id": "147dd8b6-d5b2-4387-bc97-5789f0f1a5d5",
   "metadata": {},
   "outputs": [
    {
     "data": {
      "text/plain": [
       "'\\nIf the goal is to predict the actual price of a house as accurately as possible, then the most appropriate evaluation metric would be Mean Squared Error (MSE).\\nMSE measures the average squared difference between the predicted and actual house prices, and it is commonly used for regression problems. A lower MSE value indicates that the model is better at predicting the actual house prices.\\nOn the other hand, R-squared measures how well the regression model fits the data, and it represents the proportion of variance in the dependent variable that is explained by the independent variables. While R-squared can be useful in understanding the overall fit of the model, it is not as useful for evaluating the accuracy of individual predictions. Therefore, MSE would be a more appropriate evaluation metric in this scenario. '"
      ]
     },
     "execution_count": 7,
     "metadata": {},
     "output_type": "execute_result"
    }
   ],
   "source": [
    "#Ans02: \n",
    "\"\"\"\n",
    "If the goal is to predict the actual price of a house as accurately as possible, then the most appropriate evaluation metric would be Mean Squared Error (MSE).\n",
    "MSE measures the average squared difference between the predicted and actual house prices, and it is commonly used for regression problems. A lower MSE value indicates that the model is better at predicting the actual house prices.\n",
    "On the other hand, R-squared measures how well the regression model fits the data, and it represents the proportion of variance in the dependent variable that is explained by the independent variables. While R-squared can be useful in understanding the overall fit of the model, it is not as useful for evaluating the accuracy of individual predictions. Therefore, MSE would be a more appropriate evaluation metric in this scenario. \"\"\""
   ]
  },
  {
   "cell_type": "code",
   "execution_count": 8,
   "id": "75e6e8de-ca16-41a0-8b4c-ba3364d312db",
   "metadata": {},
   "outputs": [
    {
     "data": {
      "text/plain": [
       "'\\nWhen a dataset has a significant number of outliers, it can significantly affect the performance of regression models. In such scenarios, the mean squared error (MSE) metric may not be the most appropriate choice, as it can be heavily influenced by the outliers.\\nA more robust evaluation metric that can be used in such scenarios is the mean absolute error (MAE), which is less sensitive to outliers compared to MSE. This is because MAE takes the absolute difference between the predicted and actual values, rather than the squared difference as in MSE.\\nTherefore, when dealing with a dataset with a significant number of outliers, it may be more appropriate to use MAE as the evaluation metric for SVM regression models. '"
      ]
     },
     "execution_count": 8,
     "metadata": {},
     "output_type": "execute_result"
    }
   ],
   "source": [
    "#Ans03:\n",
    "\"\"\"\n",
    "When a dataset has a significant number of outliers, it can significantly affect the performance of regression models. In such scenarios, the mean squared error (MSE) metric may not be the most appropriate choice, as it can be heavily influenced by the outliers.\n",
    "A more robust evaluation metric that can be used in such scenarios is the mean absolute error (MAE), which is less sensitive to outliers compared to MSE. This is because MAE takes the absolute difference between the predicted and actual values, rather than the squared difference as in MSE.\n",
    "Therefore, when dealing with a dataset with a significant number of outliers, it may be more appropriate to use MAE as the evaluation metric for SVM regression models. \"\"\""
   ]
  },
  {
   "cell_type": "code",
   "execution_count": 9,
   "id": "4bc0579d-5405-4a91-96ee-01e9556a8ac2",
   "metadata": {},
   "outputs": [],
   "source": [
    "#Ans04:In this case, since both the Mean Squared Error (MSE) and Root Mean Squared Error (RMSE) values are very close, it is appropriate to use the RMSE as the evaluation metric. The RMSE takes the square root of the MSE and thus, provides a more interpretable value in the same units as the target variable. Additionally, RMSE is a commonly used metric in regression tasks, and using it consistently across different models and datasets makes it easier to compare their performances."
   ]
  },
  {
   "cell_type": "code",
   "execution_count": 10,
   "id": "8ebe8a1d-dcda-44d7-b85b-9a6efb84be57",
   "metadata": {},
   "outputs": [],
   "source": [
    "#Ans05: If the goal is to measure how well the model explains the variance in the target variable, the most appropriate evaluation metric would be the coefficient of determination (R-squared). R-squared measures the proportion of the variance in the target variable that can be explained by the model. Therefore, a higher R-squared value indicates a better fit of the model to the data. It can be used to compare the performance of different SVM regression models with different kernels, and higher R-squared value would indicate that the model with that kernel explains the variance in the target variable better."
   ]
  }
 ],
 "metadata": {
  "kernelspec": {
   "display_name": "Python 3 (ipykernel)",
   "language": "python",
   "name": "python3"
  },
  "language_info": {
   "codemirror_mode": {
    "name": "ipython",
    "version": 3
   },
   "file_extension": ".py",
   "mimetype": "text/x-python",
   "name": "python",
   "nbconvert_exporter": "python",
   "pygments_lexer": "ipython3",
   "version": "3.10.8"
  }
 },
 "nbformat": 4,
 "nbformat_minor": 5
}
