{
 "cells": [
  {
   "cell_type": "code",
   "execution_count": 1,
   "id": "8d375509-a0ce-4f70-9346-61cb37337a23",
   "metadata": {},
   "outputs": [],
   "source": [
    "#Ans01 : Statistics is a branch of mathematics that deals with the collection, analysis, interpretation, presentation, and organization of data. It involves the use of mathematical methods and models to extract meaningful insights from data, and to make decisions and predictions based on that data. Statistics is used in a wide range of fields, including science, medicine, business, economics, social sciences, and many others. Some of the key topics in statistics include probability theory, hypothesis testing, regression analysis, data visualization, and experimental design."
   ]
  },
  {
   "cell_type": "code",
   "execution_count": 2,
   "id": "0ec8d744-6c3e-4d30-b28a-89bb5790255b",
   "metadata": {},
   "outputs": [],
   "source": [
    "#Ans02 : Statistics can be broadly classified into two types: descriptive statistics and inferential statistics.\n",
    "\n",
    "# 1) Descriptive Statistics: refers to the summary of a dataset. It provides a summary of the important features of the data, such as central tendency, dispersion, and shape. Descriptive statistics is useful when we want to understand the distribution of the data without making any generalizations about the population. Examples of descriptive statistics include mean, median, mode, standard deviation, variance, percentiles, and quartiles. For instance, if we have a dataset of the test scores of students in a class, we can use descriptive statistics to summarize the performance of the class, such as the average score, the range of scores, and the spread of the scores.\n",
    "# 2)Inferential Statistics: refers to the process of making generalizations about a population based on a sample of data. It involves using probability theory to estimate population parameters based on sample statistics. Inferential statistics is used when we want to make predictions or draw conclusions about a larger population based on a smaller sample. Examples of inferential statistics include hypothesis testing, confidence intervals, and regression analysis. For example, if we have a sample of data about the test scores of a class, we can use inferential statistics to make predictions about the test scores of the entire population of students."
   ]
  },
  {
   "cell_type": "code",
   "execution_count": 3,
   "id": "c6b274e2-12f4-4f36-8c45-a203ee8fee1c",
   "metadata": {},
   "outputs": [],
   "source": [
    "#Ans03 : There are four main types of data:\n",
    "\n",
    "# 1) Nominal Data : This type of data consists of categories or labels that cannot be ranked. Examples of nominal data include gender, nationality, eye color, and marital status.\n",
    "# 2) Ordinal Data : This type of data consists of categories or labels that can be ranked or ordered. Examples of ordinal data include the order of finishing a race, the education level (e.g., high school, bachelor's degree, master's degree, etc.), and the satisfaction level (e.g., very satisfied, satisfied, neutral, dissatisfied, very dissatisfied).\n",
    "# 3) Interval Data: This type of data has a numeric scale, and the distance between two consecutive points on the scale is equal. However, it does not have a true zero point. Examples of interval data include temperature measured in Celsius or Fahrenheit, dates, and time of day.\n",
    "# 4) Ratio Data   : This type of data has a numeric scale, and the distance between two consecutive points on the scale is equal. Additionally, it has a true zero point, indicating the complete absence of the variable being measured. Examples of ratio data include height, weight, distance, and time taken to complete a task."
   ]
  },
  {
   "cell_type": "code",
   "execution_count": 4,
   "id": "6501ddd5-9a7c-41ed-83f1-49ad62d7ff73",
   "metadata": {},
   "outputs": [],
   "source": [
    "#Ans04 : \n",
    "\n",
    "# (i) Qualitative (ordinal) - Grading in exam: A+, A, B+, B, C+, C, D, E\n",
    "# (ii) Qualitative (nominal) - Colour of mangoes: yellow, green, orange, red\n",
    "# (iii) Quantitative (continuous) - Height data of a class: [178.9, 179, 179.5, 176, 177.2, 178.3, 175.8,...]\n",
    "# (iv) Quantitative (discrete) - Number of mangoes exported by a farm: [500, 600, 478, 672, ...]"
   ]
  },
  {
   "cell_type": "code",
   "execution_count": 5,
   "id": "1d0f32ab-879d-4fb3-830f-c4fbb1242c0a",
   "metadata": {},
   "outputs": [],
   "source": [
    "#Ans05 : Levels of measurement refer to the way variables are measured or classified. There are four levels of measurement, which are:\n",
    "\n",
    "# 1) Nominal level : This level of measurement is used for variables that can be classified into categories, but where there is no intrinsic ordering of the categories. Examples of variables at the nominal level include gender (male or female), eye color (blue, green, or brown), or blood type (A, B, AB, or O).\n",
    "# 2) Ordinal level : This level of measurement is used for variables where there is a natural ordering of the categories, but where the difference between the categories is not necessarily equal. Examples of variables at the ordinal level include rankings (first, second, third, etc.), levels of education (elementary, high school, college, etc.), or income levels (low, middle, high).\n",
    "# 3) Interval level: This level of measurement is used for variables where there is a natural ordering of the categories, and where the difference between the categories is equal. Examples of variables at the interval level include temperature (in Celsius or Fahrenheit), dates, and time.\n",
    "# 4) Ratio level   : This level of measurement is used for variables where there is a natural ordering of the categories, where the difference between the categories is equal, and where there is a true zero point. Examples of variables at the ratio level include weight, height, distance, and income."
   ]
  },
  {
   "cell_type": "code",
   "execution_count": 6,
   "id": "7c24a597-17c1-4f64-9dae-2a67c9ee39a4",
   "metadata": {},
   "outputs": [],
   "source": [
    "#Ans06 : Understanding the level of measurement is crucial when analyzing data because it determines the type of statistical analysis that can be performed on the data. Different statistical techniques are appropriate for different types of data.\n",
    "#For example, if we have data on the heights of individuals measured in inches, we know that this is continuous data measured at the ratio level. We can perform a range of statistical analyses on this data, including measures of central tendency like mean, median, and mode, as well as measures of variability like standard deviation and variance. However, if we have data on the rank of individuals in a competition, we know that this is ordinal data. We cannot use measures of central tendency on this data, but we can use rank-based non-parametric tests like the Mann-Whitney U test to compare two groups.\n",
    "\n"
   ]
  },
  {
   "cell_type": "code",
   "execution_count": 7,
   "id": "668976e5-7580-477b-813c-69ced3a2eff1",
   "metadata": {},
   "outputs": [],
   "source": [
    "#Ans07 : Nominal data and ordinal data are two of the four levels of measurement in statistics. Nominal data are categorical data in which the categories do not have any natural order or ranking. On the other hand, ordinal data are categorical data in which the categories have a natural order or ranking."
   ]
  },
  {
   "cell_type": "code",
   "execution_count": 8,
   "id": "714e7b63-fbff-4075-bc7b-60959e133535",
   "metadata": {},
   "outputs": [],
   "source": [
    "#Ans08 : A range plot or a range chart can be used to display data in terms of range. It is a type of plot that shows the range of values for a particular variable, typically plotted along the y-axis, with the individual data points plotted as horizontal lines or bars. The range can be represented in different ways, such as the minimum and maximum values, or the first and third quartiles of the data. Range plots are often used in statistical process control to monitor the variability of a process over time.\n"
   ]
  },
  {
   "cell_type": "code",
   "execution_count": 9,
   "id": "70b3f2ad-8f30-4353-8252-973ac42177fc",
   "metadata": {},
   "outputs": [],
   "source": [
    "#Ans09 : Descriptive statistics and inferential statistics are two branches of statistics that are used to analyze and interpret data.\n",
    "\n",
    "#Descriptive statistics is concerned with describing or summarizing the main features of a dataset, such as measures of central tendency (mean, median, and mode), measures of dispersion (range, variance, and standard deviation), and graphical representations (histograms, box plots, and scatter plots). Descriptive statistics are used to provide a clear and concise summary of a dataset to gain insight into the underlying patterns and trends.\n",
    "#For example, suppose a company wants to understand the salaries of its employees. Descriptive statistics can be used to calculate the mean, median, and mode of the salaries, as well as the range and standard deviation of the data. This information can help the company understand the distribution of salaries among its employees and identify any potential outliers.\n",
    "\n",
    "#Inferential statistics, on the other hand, involves making inferences or conclusions about a population based on a sample of data. Inferential statistics are used to test hypotheses, estimate parameters, and make predictions about a larger population based on a smaller sample of data.\n",
    "#For example, suppose a researcher wants to know if a new drug is effective in treating a certain disease. The researcher can collect a sample of patients and randomly assign them to receive the drug or a placebo. The inferential statistics can then be used to test whether there is a significant difference in the outcomes between the two groups, and to estimate the effect size of the drug on the population as a whole.\n",
    "\n"
   ]
  },
  {
   "cell_type": "code",
   "execution_count": 11,
   "id": "97611a72-7534-4a4a-850a-b107ff38693b",
   "metadata": {},
   "outputs": [],
   "source": [
    "#Ans10 : Measures of central tendency and variability are used in statistics to describe a dataset by summarizing the distribution of its values. Here are some common measures of central tendency and variability:\n",
    "\n",
    "# 1) Mean              : The mean is the average value of a dataset. It is calculated by adding up all the values in the dataset and dividing by the total number of values. The mean is sensitive to outliers and extreme values.\n",
    "# 2) Median            : The median is the middle value of a dataset when it is arranged in order from smallest to largest. It is less sensitive to outliers than the mean.\n",
    "# 3) Mode              : The mode is the value that appears most frequently in a dataset. It is useful for describing datasets with a few distinct peaks or modes.\n",
    "# 4) Range             : The range is the difference between the largest and smallest values in a dataset. It gives an idea of the spread of the data but is sensitive to outliers.\n",
    "# 5) Variance          : The variance measures how spread out the values in a dataset are from the mean. It is calculated by taking the sum of the squared differences between each value and the mean, and then dividing by the number of values minus one.\n",
    "# 6) Standard deviation: The standard deviation is the square root of the variance. It is a commonly used measure of the spread of a dataset and is less sensitive to outliers than the range."
   ]
  },
  {
   "cell_type": "code",
   "execution_count": null,
   "id": "5e201682-971a-4a81-9d53-41a19cdebe7d",
   "metadata": {},
   "outputs": [],
   "source": []
  }
 ],
 "metadata": {
  "kernelspec": {
   "display_name": "Python 3 (ipykernel)",
   "language": "python",
   "name": "python3"
  },
  "language_info": {
   "codemirror_mode": {
    "name": "ipython",
    "version": 3
   },
   "file_extension": ".py",
   "mimetype": "text/x-python",
   "name": "python",
   "nbconvert_exporter": "python",
   "pygments_lexer": "ipython3",
   "version": "3.10.8"
  }
 },
 "nbformat": 4,
 "nbformat_minor": 5
}
