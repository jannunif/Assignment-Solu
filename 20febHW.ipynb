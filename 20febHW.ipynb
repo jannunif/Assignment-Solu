{
 "cells": [
  {
   "cell_type": "code",
   "execution_count": 1,
   "id": "e0cc5121-c7ee-48b6-8468-ed7239a72747",
   "metadata": {},
   "outputs": [],
   "source": [
    "#Ans01 : GET method is used to retrieve data from a server, without making any changes to the server or its resources. It is often used for reading or searching data from a database, and is generally considered a safe and idempotent method. In a GET request, the data is sent as part of the URL in the form of query parameters.\n",
    "#      : POST method, on the other hand, is used to submit data to a server, with the intention of changing the server's state or updating its resources. It is often used for creating or updating data in a database, and is generally considered a non-idempotent method. In a POST request, the data is sent in the request body as key-value pairs.    "
   ]
  },
  {
   "cell_type": "code",
   "execution_count": 3,
   "id": "ffaad3d4-96a6-4373-a660-f09a3d61787f",
   "metadata": {},
   "outputs": [],
   "source": [
    "#Ans02 : \n",
    "#The request object is a built-in feature of the Flask framework that allows us to access incoming data from a client request in our Flask application. It is used to extract data from a client's request such as form data, query parameters, and HTTP headers. With the request object, we can handle various types of HTTP requests such as GET, POST, PUT, DELETE, etc.\n",
    "#The request object is useful in a number of scenarios. For example, we might use it to handle form submissions from users, to authenticate user credentials or to process search queries. It allows us to extract data from the request in a simple and efficient manner, which can then be used to render a response or perform additional operations.\n",
    "\n",
    "# *Some common uses of the request object include:\n",
    "\n",
    "#Accessing form data        : We can use the request.form attribute to get data submitted via a form in a POST request.\n",
    "#Retrieving query parameters: We can use the request.args attribute to get query parameters from a GET request.\n",
    "#Accessing HTTP headers     : We can use the request.headers attribute to get HTTP headers from the client's request."
   ]
  },
  {
   "cell_type": "code",
   "execution_count": 4,
   "id": "7cc35bed-1eac-4619-905c-99a827695b86",
   "metadata": {},
   "outputs": [],
   "source": [
    "#Ans03 : The redirect() function is a built-in feature of the Flask framework that allows us to redirect the client to a different URL or route in our Flask application. It is used to handle scenarios where we want to redirect a user to a different page or URL after they have made a request to our Flask application"
   ]
  },
  {
   "cell_type": "code",
   "execution_count": 5,
   "id": "7becc90b-3f67-45c2-8e78-ef07538783ed",
   "metadata": {},
   "outputs": [],
   "source": [
    "#Ans04 : \n",
    "#Templates in Flask are a way to separate the presentation logic from the business logic in a Flask application. They are used to create dynamic HTML pages by combining static content with data from the Flask application.\n",
    "#The render_template() function is a built-in feature of the Flask framework that allows us to render templates in our Flask application. It takes the name of a template file and any variables that need to be passed to the template as arguments. The function then generates an HTML response by filling in the template with the provided data."
   ]
  },
  {
   "cell_type": "code",
   "execution_count": 6,
   "id": "ebacd0cd-169b-46b6-839b-70c173bba884",
   "metadata": {},
   "outputs": [
    {
     "ename": "IndentationError",
     "evalue": "unexpected indent (656114447.py, line 11)",
     "output_type": "error",
     "traceback": [
      "\u001b[0;36m  Cell \u001b[0;32mIn[6], line 11\u001b[0;36m\u001b[0m\n\u001b[0;31m    from flask import Flask, jsonify\u001b[0m\n\u001b[0m    ^\u001b[0m\n\u001b[0;31mIndentationError\u001b[0m\u001b[0;31m:\u001b[0m unexpected indent\n"
     ]
    }
   ],
   "source": [
    "#Ans05 : \n",
    "\n",
    "#As an AI language model, I cannot create a web server to host an API, but I can provide you with a general idea of how to create a simple API and test it using Postman. Here are the steps:\n",
    "\n",
    "# 01) Choose a programming language and framework to build your API. Some popular options include Python with Flask or Django, Node.js with Express, or Ruby on Rails.\n",
    "# 02) Define the endpoints of your API. These are the URLs that clients can use to access your API's functionality. For example, you might have an endpoint like https://myapi.com/users that returns a list of users.\n",
    "# 03) Write the code to implement your API endpoints. This will involve defining functions or methods that handle requests to your endpoints, and return appropriate responses.\n",
    "# 04) Test your API using a tool like Postman. Postman is a popular API client that allows you to send HTTP requests to your API and inspect the responses. You can use Postman to test different endpoints and methods of your API, as well as send various types of data in the requests (such as JSON, form data, or file uploads).\n",
    "\n",
    "    #Example : \n",
    "    from flask import Flask, jsonify\n",
    "\n",
    "app = Flask(__name__)\n",
    "\n",
    "@app.route('/hello')\n",
    "def hello():\n",
    "    return jsonify({'message': 'Hello, World!'})\n",
    "\n",
    "if __name__ == '__main__':\n",
    "    app.run()\n"
   ]
  },
  {
   "cell_type": "code",
   "execution_count": null,
   "id": "6edfab2d-5458-459d-b667-d5756de755a1",
   "metadata": {},
   "outputs": [],
   "source": []
  }
 ],
 "metadata": {
  "kernelspec": {
   "display_name": "Python 3 (ipykernel)",
   "language": "python",
   "name": "python3"
  },
  "language_info": {
   "codemirror_mode": {
    "name": "ipython",
    "version": 3
   },
   "file_extension": ".py",
   "mimetype": "text/x-python",
   "name": "python",
   "nbconvert_exporter": "python",
   "pygments_lexer": "ipython3",
   "version": "3.10.8"
  }
 },
 "nbformat": 4,
 "nbformat_minor": 5
}
