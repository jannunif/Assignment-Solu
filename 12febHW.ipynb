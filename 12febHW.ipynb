{
 "cells": [
  {
   "cell_type": "code",
   "execution_count": 1,
   "id": "06e460a2-3648-4c3c-9b85-798263eb6711",
   "metadata": {},
   "outputs": [],
   "source": [
    "#Ans01  \n",
    "#In Python, an exception is an error that occurs during the execution of a program. When an exception occurs, the normal flow of the program is interrupted, and the interpreter raises an exception object.\n",
    "#Exceptions can occur for a variety of reasons, such as when a program tries to perform an operation that is not supported or when an error occurs in a function call. Python provides a mechanism for handling these exceptions using the try-except block.\n",
    "#On the other hand, a syntax error is a type of error that occurs when a program's syntax is incorrect. These errors typically occur when the interpreter cannot understand the code due to a mistake in the syntax. Examples of syntax errors include forgetting to close a parenthesis or using an incorrect keyword.\n",
    "#The key difference between an exception and a syntax error is that an exception occurs during the execution of a program, while a syntax error occurs before the program is executed. In other words, a syntax error is a type of error that is caught by the interpreter during the parsing phase, whereas an exception is an error that occurs during the execution phase.\n",
    "#To summarize, exceptions are runtime errors that occur during the execution of a program, while syntax errors are errors that occur before the program is executed due to incorrect syntax."
   ]
  },
  {
   "cell_type": "code",
   "execution_count": 2,
   "id": "09cf115c-ddd1-467c-a1e9-e3e826ebfaad",
   "metadata": {},
   "outputs": [],
   "source": [
    "#Ans02: \n",
    "\n",
    "#When an exception is not handled, the program will terminate abruptly, and an error message will be displayed, providing information about the exception that occurred. This is known as an \"unhandled exception.\"\n",
    "#Let's take an example to understand this better. Consider the following Python code that attempts to divide two numbers:\n",
    "\n"
   ]
  },
  {
   "cell_type": "code",
   "execution_count": 3,
   "id": "634bb1eb-9128-442a-a218-e3aed7d8eaab",
   "metadata": {},
   "outputs": [],
   "source": [
    "#Ans03:"
   ]
  },
  {
   "cell_type": "code",
   "execution_count": null,
   "id": "1731ee10-8eed-4574-9a6a-bc5789084d63",
   "metadata": {},
   "outputs": [],
   "source": [
    "#Ans04:  a) try and else: try and else statements can be used together to provide additional code to be executed in case no exceptions are raised in the try block. Here is an example:\n",
    "\n",
    "try:\n",
    "    num1 = int(input(\"Enter a number: \"))\n",
    "    num2 = int(input(\"Enter another number: \"))\n",
    "    result = num1 / num2\n",
    "except ValueError:\n",
    "    print(\"Invalid input. Please enter a valid integer.\")\n",
    "except ZeroDivisionError:\n",
    "    print(\"Cannot divide by zero.\")\n",
    "else:\n",
    "    print(\"The result is:\", result)\n",
    "\n",
    "#  b) finally: is used to specify a piece of code that will always be executed, regardless of whether an exception is raised or not. Here is an example:\n",
    "try:\n",
    "    file = open(\"example.txt\", \"r\")\n",
    "    content = file.read()\n",
    "    print(content)\n",
    "except IOError:\n",
    "    print(\"Error: file not found\")\n",
    "finally:\n",
    "    file.close()\n",
    "\n",
    "\n",
    "# c)raise: is used to raise an exception manually in Python. Here is an example:\n",
    "\n",
    "def divide_numbers(num1, num2):\n",
    "    if num2 == 0:\n",
    "        raise ZeroDivisionError(\"Cannot divide by zero\")\n",
    "    return num1 / num2\n",
    "\n",
    "try:\n",
    "    result = divide_numbers(10, 0)\n",
    "except ZeroDivisionError as e:\n",
    "    print(e)\n"
   ]
  },
  {
   "cell_type": "code",
   "execution_count": null,
   "id": "d19bff43-1027-4e40-ac64-afeafb8691c9",
   "metadata": {},
   "outputs": [],
   "source": [
    "#Ans05 : Custom exceptions are user-defined exceptions that allow programmers to create their own exception types to handle specific error cases. They are useful when existing built-in exceptions do not meet the needs of a particular situation, or when we want to provide more specific error messages to users.\n",
    "\n",
    "class InvalidInputError(Exception):\n",
    "    pass\n",
    "\n",
    "def calculate_average(numbers):\n",
    "    for num in numbers:\n",
    "        if not isinstance(num, (int, float)):\n",
    "            raise InvalidInputError(\"Invalid input: contains non-numeric values\")\n",
    "    if not numbers:\n",
    "        raise ValueError(\"Input list is empty\")\n",
    "    total = sum(numbers)\n",
    "    average = total / len(numbers)\n",
    "    return average\n"
   ]
  },
  {
   "cell_type": "code",
   "execution_count": null,
   "id": "54c16920-f30a-47e3-a634-2fd7094c2d1d",
   "metadata": {},
   "outputs": [],
   "source": [
    "#Ans06: class NegativeNumberError(Exception):\n",
    "    pass\n",
    "\n",
    "def calculate_square_root(number):\n",
    "    if number < 0:\n",
    "        raise NegativeNumberError(\"Cannot calculate square root of negative number\")\n",
    "    return math.sqrt(number)\n",
    "\n",
    "try:\n",
    "    result = calculate_square_root(-4)\n",
    "    print(result)\n",
    "except NegativeNumberError as e:\n",
    "    print(e)\n"
   ]
  },
  {
   "cell_type": "code",
   "execution_count": null,
   "id": "87e6c270-55f9-4c7b-8d2f-c0cf13272578",
   "metadata": {},
   "outputs": [],
   "source": []
  }
 ],
 "metadata": {
  "kernelspec": {
   "display_name": "Python 3 (ipykernel)",
   "language": "python",
   "name": "python3"
  },
  "language_info": {
   "codemirror_mode": {
    "name": "ipython",
    "version": 3
   },
   "file_extension": ".py",
   "mimetype": "text/x-python",
   "name": "python",
   "nbconvert_exporter": "python",
   "pygments_lexer": "ipython3",
   "version": "3.10.8"
  }
 },
 "nbformat": 4,
 "nbformat_minor": 5
}
