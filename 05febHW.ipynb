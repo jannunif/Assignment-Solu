{
 "cells": [
  {
   "cell_type": "code",
   "execution_count": 1,
   "id": "6f586501-4ecb-4c3a-8278-1314eae268aa",
   "metadata": {},
   "outputs": [
    {
     "name": "stdout",
     "output_type": "stream",
     "text": [
      "Toyota\n",
      "Mustang\n",
      "The car has started.\n",
      "The car is now moving at 10 mph.\n",
      "The car is now moving at -10 mph.\n",
      "The car has stopped.\n"
     ]
    }
   ],
   "source": [
    "#ans01 In object-oriented programming (OOP), a class is a blueprint or a template that defines the attributes (properties or data) and behaviors (methods or functions) of an object. An object, on the other hand, is an instance of a class that has its own unique set of values for the attributes and can perform the behaviors defined in the class.\n",
    "#For example, let's consider a class called \"Car\" which has attributes like brand, model, year, color, and behaviors like start, accelerate, brake, and stop. Here's an example of how we can create objects of the \"Car\" class:\n",
    "\n",
    "# Define a class\n",
    "class Car:\n",
    "    def __init__(self, brand, model, year, color):\n",
    "        self.brand = brand\n",
    "        self.model = model\n",
    "        self.year = year\n",
    "        self.color = color\n",
    "        self.speed = 0\n",
    "    \n",
    "    def start(self):\n",
    "        print(\"The car has started.\")\n",
    "        \n",
    "    def accelerate(self):\n",
    "        self.speed += 10\n",
    "        print(f\"The car is now moving at {self.speed} mph.\")\n",
    "        \n",
    "    def brake(self):\n",
    "        self.speed -= 10\n",
    "        print(f\"The car is now moving at {self.speed} mph.\")\n",
    "        \n",
    "    def stop(self):\n",
    "        self.speed = 0\n",
    "        print(\"The car has stopped.\")\n",
    "\n",
    "# Create objects of the class\n",
    "car1 = Car(\"Toyota\", \"Camry\", 2022, \"White\")\n",
    "car2 = Car(\"Ford\", \"Mustang\", 2023, \"Red\")\n",
    "\n",
    "# Access object attributes\n",
    "print(car1.brand)   # Output: Toyota\n",
    "print(car2.model)   # Output: Mustang\n",
    "\n",
    "# Call object methods\n",
    "car1.start()        # Output: The car has started.\n",
    "car2.accelerate()   # Output: The car is now moving at 10 mph.\n",
    "car1.brake()        # Output: The car is now moving at 0 mph.\n",
    "car2.stop()         # Output: The car has stopped.\n"
   ]
  },
  {
   "cell_type": "code",
   "execution_count": 2,
   "id": "ba7c3829-b93c-4a11-a980-8455ed75fd2f",
   "metadata": {},
   "outputs": [],
   "source": [
    "#ans02 The four pillars of object-oriented programming (OOP) are:\n",
    "\n",
    "#Encapsulation: Encapsulation is the concept of bundling data (attributes) and methods (behaviors) that operate on the data within a single unit (class), and restricting access to the internal data from outside the class. This ensures data integrity and provides a way to hide the complexity of the implementation from the user.\n",
    "#Abstraction  : Abstraction is the process of representing the essential features of an object without showing the implementation details. It allows us to focus on what an object does, rather than how it does it. Abstract classes and interfaces are used to achieve abstraction in OOP.\n",
    "#Inheritance  : Inheritance is the ability of a class (child or derived class) to inherit properties and behaviors from another class (parent or base class). Inheritance allows us to reuse code and create a hierarchical structure of classes, where the child classes inherit the features of the parent class and can add their own unique features as well.\n",
    "#Polymorphism : Polymorphism is the concept of having multiple forms. In OOP, polymorphism allows objects of different classes to be treated as if they were of the same class, through method overriding and method overloading. Method overriding is when a child class provides its own implementation for a method that is already defined in the parent class, while method overloading is when a class has multiple methods with the same name but different parameters. Polymorphism makes code more flexible and adaptable, and helps to avoid code duplication."
   ]
  },
  {
   "cell_type": "code",
   "execution_count": 9,
   "id": "d05c72e3-b562-40ed-a038-e2352c5a1d29",
   "metadata": {},
   "outputs": [
    {
     "name": "stdout",
     "output_type": "stream",
     "text": [
      "200\n",
      "75\n"
     ]
    }
   ],
   "source": [
    "#ans03 The __init__() function is a special method in Python that is used to initialize the object's attributes when an object of a class is created. This method is called the constructor of the class, and it gets called automatically when we create an instance of the class. The self parameter in the __init__() function refers to the object being created.\n",
    "\n",
    " #example::\n",
    "class Rectangle:\n",
    "    \n",
    "    def __init__(self, width, height):\n",
    "        self.width = width\n",
    "        self.height = height\n",
    "\n",
    "    def area(self):\n",
    "        return self.width * self.height\n",
    "\n",
    "# create objects of the class\n",
    "rectangle1 = Rectangle(10, 20)\n",
    "rectangle2 = Rectangle(5, 15)\n",
    "\n",
    "# call object methods\n",
    "print(rectangle1.area())    # Output: 200\n",
    "print(rectangle2.area())    # Output: 75\n"
   ]
  },
  {
   "cell_type": "code",
   "execution_count": 11,
   "id": "0ababdef-951b-4db9-ad26-2ab0fa2750c4",
   "metadata": {},
   "outputs": [],
   "source": [
    "#ans04 : SELF is used as a reference to the instance of the class itself. It is a special variable used in class definitions that represents the instance of the class and allows you to access the attributes and methods of the class."
   ]
  },
  {
   "cell_type": "code",
   "execution_count": 14,
   "id": "60a75065-23ef-4ada-a67f-411e33cbc598",
   "metadata": {},
   "outputs": [
    {
     "name": "stdout",
     "output_type": "stream",
     "text": [
      "Max is eating...\n",
      "Max is barking...\n",
      "Donald is flying...\n",
      "Donald is swimming...\n",
      "Max is eating...\n",
      "Max is sleeping...\n",
      "Max is barking...\n"
     ]
    }
   ],
   "source": [
    "#ans05 : Inheritance is one of the fundamental concepts of object-oriented programming that allows a class to inherit the properties (fields and methods) of another class. The class that inherits the properties is called the derived class, while the class that provides the properties is called the base class or superclass.\n",
    "\n",
    "#There are four types of inheritance in Python:\n",
    "\n",
    "#1) Single Inheritance: In single inheritance, a derived class inherits the properties of a single base class.\n",
    "            \n",
    "#Example:\n",
    "class Animal:\n",
    "    def __init__(self, name):\n",
    "        self.name = name\n",
    "\n",
    "    def eat(self):\n",
    "        print(f\"{self.name} is eating...\")\n",
    "\n",
    "class Dog(Animal):\n",
    "    def bark(self):\n",
    "        print(f\"{self.name} is barking...\")\n",
    "\n",
    "# create an object of the derived class\n",
    "my_dog = Dog(\"Max\")\n",
    "\n",
    "# call methods of the base and derived classes\n",
    "my_dog.eat()\n",
    "my_dog.bark()\n",
    "\n",
    "#02) Multiple Inheritance: In multiple inheritance, a derived class inherits the properties of multiple base classes.\n",
    "#Example:\n",
    "class Flyer:\n",
    "    def fly(self):\n",
    "        print(f\"{self.name} is flying...\")\n",
    "\n",
    "class Swimmer:\n",
    "    def swim(self):\n",
    "        print(f\"{self.name} is swimming...\")\n",
    "\n",
    "class Duck(Flyer, Swimmer):\n",
    "    def __init__(self, name):\n",
    "        self.name = name\n",
    "\n",
    "# create an object of the derived class\n",
    "my_duck = Duck(\"Donald\")\n",
    "\n",
    "# call methods of the base and derived classes\n",
    "my_duck.fly()\n",
    "my_duck.swim()\n",
    "\n",
    "#03) Multi-level Inheritance: In multi-level inheritance, a derived class inherits the properties of a base class, which itself is derived from another base class.\n",
    "#Example:\n",
    "\n",
    "class Animal:\n",
    "    def __init__(self, name):\n",
    "        self.name = name\n",
    "\n",
    "    def eat(self):\n",
    "        print(f\"{self.name} is eating...\")\n",
    "\n",
    "class Mammal(Animal):\n",
    "    def sleep(self):\n",
    "        print(f\"{self.name} is sleeping...\")\n",
    "\n",
    "class Dog(Mammal):\n",
    "    def bark(self):\n",
    "        print(f\"{self.name} is barking...\")\n",
    "\n",
    "# create an object of the derived class\n",
    "my_dog = Dog(\"Max\")\n",
    "\n",
    "# call methods of the base and derived classes\n",
    "my_dog.eat()\n",
    "my_dog.sleep()\n",
    "my_dog.bark()\n",
    "\n",
    "#04) Hierarchical Inheritance: In hierarchical inheritance, two or more derived classes inherit the properties of a single base class.\n",
    "#Example:\n",
    "class Animal:\n",
    "    def __init__(self, name):\n",
    "        self.name = name\n",
    "\n",
    "    def eat(self):\n",
    "        print(f\"{self.name} is eating...\")\n",
    "\n",
    "class Cat(Animal):\n",
    "    def meow(self):\n",
    "        print(f\"{self.name} is meowing...\")\n"
   ]
  },
  {
   "cell_type": "code",
   "execution_count": null,
   "id": "41dabc2e-aa0e-48df-8860-901eebb9b19f",
   "metadata": {},
   "outputs": [],
   "source": []
  }
 ],
 "metadata": {
  "kernelspec": {
   "display_name": "Python 3 (ipykernel)",
   "language": "python",
   "name": "python3"
  },
  "language_info": {
   "codemirror_mode": {
    "name": "ipython",
    "version": 3
   },
   "file_extension": ".py",
   "mimetype": "text/x-python",
   "name": "python",
   "nbconvert_exporter": "python",
   "pygments_lexer": "ipython3",
   "version": "3.10.8"
  }
 },
 "nbformat": 4,
 "nbformat_minor": 5
}
