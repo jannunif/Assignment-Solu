{
 "cells": [
  {
   "cell_type": "code",
   "execution_count": 5,
   "id": "738c5d22-9ac9-4aea-8da0-cceadf52c1cc",
   "metadata": {},
   "outputs": [],
   "source": [
    "###ANS01\n",
    "#use a for loop when you know how many times the loop should run. \n",
    "#If you want the loop to break based on a condition other than the number of times it runs,\n",
    "#you should use a while loop.\n",
    "\n",
    "#For example this:\n"
   ]
  },
  {
   "cell_type": "code",
   "execution_count": 9,
   "id": "08fb19eb-4c18-42d3-92dc-5d8d01aad5e2",
   "metadata": {},
   "outputs": [
    {
     "name": "stdout",
     "output_type": "stream",
     "text": [
      "0\n",
      "1\n",
      "2\n",
      "3\n",
      "4\n",
      "5\n",
      "6\n",
      "7\n",
      "8\n",
      "9\n",
      "10\n"
     ]
    }
   ],
   "source": [
    "#FOR\n",
    "for i in range(11):\n",
    "    print (i)"
   ]
  },
  {
   "cell_type": "code",
   "execution_count": 11,
   "id": "5e957832-7a86-440e-b2fa-6da0556ae3ea",
   "metadata": {},
   "outputs": [
    {
     "name": "stdout",
     "output_type": "stream",
     "text": [
      "0\n",
      "1\n",
      "2\n",
      "3\n",
      "4\n",
      "5\n",
      "6\n",
      "7\n",
      "8\n",
      "9\n",
      "10\n"
     ]
    }
   ],
   "source": [
    "#WHILE\n",
    "i = 0\n",
    "while i <= 10:\n",
    "    print (i)\n",
    "    i = i + 1"
   ]
  },
  {
   "cell_type": "code",
   "execution_count": 13,
   "id": "46a5983e-505b-4a48-817e-b6f85a956734",
   "metadata": {},
   "outputs": [
    {
     "name": "stdin",
     "output_type": "stream",
     "text": [
      "Enter the Natural Number:  10\n"
     ]
    },
    {
     "name": "stdout",
     "output_type": "stream",
     "text": [
      "1 = 1\n",
      "1 + 2 = 3\n",
      "1 + 2 + 3 = 6\n",
      "1 + 2 + 3 + 4 = 10\n",
      "1 + 2 + 3 + 4 + 5 = 15\n",
      "1 + 2 + 3 + 4 + 5 + 6 = 21\n",
      "1 + 2 + 3 + 4 + 5 + 6 + 7 = 28\n",
      "1 + 2 + 3 + 4 + 5 + 6 + 7 + 8 = 36\n",
      "1 + 2 + 3 + 4 + 5 + 6 + 7 + 8 + 9 = 45\n",
      "1 + 2 + 3 + 4 + 5 + 6 + 7 + 8 + 9 + 10 = 55\n",
      "\n"
     ]
    }
   ],
   "source": [
    "###ANS02\n",
    "# Inputing Natural Number\n",
    "number = int(input(\"Enter the Natural Number: \"))\n",
    "\n",
    "# j ranges from 1 to n\n",
    "for j in range(1, number+1):\n",
    "\n",
    "\t# Initializing List\n",
    "\ta = []\n",
    "\n",
    "\t# i loop ranges from 1 to j\n",
    "\tfor i in range(1, j+1):\n",
    "\t\tprint(i, sep=\" \", end=\" \")\n",
    "\t\tif(i < j):\n",
    "\t\t\tprint(\"+\", sep=\" \", end=\" \")\n",
    "\t\ta.append(i)\n",
    "\tprint(\"=\", sum(a))\n",
    "\n",
    "print()\n"
   ]
  },
  {
   "cell_type": "code",
   "execution_count": 19,
   "id": "9571a0d7-cd6c-402a-ad4e-edddd874921a",
   "metadata": {},
   "outputs": [
    {
     "name": "stdin",
     "output_type": "stream",
     "text": [
      "please enter the number of units you consumed in a month 310\n"
     ]
    },
    {
     "name": "stdout",
     "output_type": "stream",
     "text": [
      "\n",
      "Electicity bill=2250.00\n"
     ]
    }
   ],
   "source": [
    "###ANS03 electricity bill for a household.\n",
    "units=int(input(\"please enter the number of units you consumed in a month\"))\n",
    "if(units<=100):\n",
    "    payAmount=units*4.5\n",
    "   \n",
    "elif(units<=200):\n",
    "    payAmount=(100*4.5)+(units-100)*6\n",
    "    \n",
    "elif(units<=300):\n",
    "    payAmount=(100*4.5)+(200-100)*6+(units-200)*10\n",
    "    \n",
    "elif(units<=310):\n",
    "    payAmount=(100*4.5)+(200-100)*6+(300-200)*10+(units-300)*20\n",
    "  \n",
    "else:\n",
    "    payAmount=0\n",
    "    fixedcharge=\"2250.00\"\n",
    "\n",
    "Total=payAmount;\n",
    "print(\"\\nElecticity bill=%.2f\" %Total)\n"
   ]
  },
  {
   "cell_type": "code",
   "execution_count": 20,
   "id": "a535fe87-80dc-4eb4-818f-5855b07082a4",
   "metadata": {},
   "outputs": [],
   "source": [
    "###ANS04 : nahi aata sorry! but i will learn"
   ]
  },
  {
   "cell_type": "code",
   "execution_count": null,
   "id": "ffe7f099-7075-4ccd-8fb7-65d1c01da4d5",
   "metadata": {},
   "outputs": [],
   "source": [
    "###ANS05\n",
    "# Python code to count and display number of vowels\n",
    "# Simply using for and comparing it with a\n",
    "# string containing all vowels\n",
    "def Check_Vow(string, vowels):\n",
    "\tfinal = [each for each in string if each in vowels]\n",
    "\tprint(len(final))\n",
    "\tprint(final)\n",
    "\t\n",
    "# Driver Code\n",
    "string = \"i want to become a data sceintist\"\n",
    "vowels = \"AaEeIiOoUu\"\n",
    "Check_Vow(string, vowels);\n"
   ]
  }
 ],
 "metadata": {
  "kernelspec": {
   "display_name": "Python 3 (ipykernel)",
   "language": "python",
   "name": "python3"
  },
  "language_info": {
   "codemirror_mode": {
    "name": "ipython",
    "version": 3
   },
   "file_extension": ".py",
   "mimetype": "text/x-python",
   "name": "python",
   "nbconvert_exporter": "python",
   "pygments_lexer": "ipython3",
   "version": "3.10.8"
  }
 },
 "nbformat": 4,
 "nbformat_minor": 5
}
