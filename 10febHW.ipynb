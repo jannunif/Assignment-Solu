{
 "cells": [
  {
   "cell_type": "code",
   "execution_count": 2,
   "id": "86656538-7b1c-4d29-bbab-3e039c933587",
   "metadata": {},
   "outputs": [],
   "source": [
    "#ans01\n",
    "\n",
    "# In Python, the open() function is used to open a file.\n",
    "\n",
    "# The different modes of opening a file are:\n",
    "\n",
    "# r: Read mode. The file is opened for reading (default mode).\n",
    "# w: Write mode. The file is opened for writing. If the file already exists, it is truncated. If the file does not exist, a new file is created.\n",
    "# x: Exclusive creation mode. The file is opened for writing, but only if the file does not already exist. If the file exists, an error is raised.\n",
    "# a: Append mode. The file is opened for writing, but data is appended to the end of the file. If the file does not exist, a new file is created.\n",
    "# b: Binary mode. The file is opened in binary mode.\n",
    "# t: Text mode. The file is opened in text mode (default mode).\n",
    "# +: Updating mode. The file is opened for updating (reading and writing)."
   ]
  },
  {
   "cell_type": "code",
   "execution_count": 3,
   "id": "5c06eb39-43c1-44d0-99f5-7c28b79a1236",
   "metadata": {},
   "outputs": [],
   "source": [
    "#ans02: the close() function is used to close an open file. It is important to close a file after reading from or writing to it because:\n",
    "\n",
    "# 01)It frees up the resources: When a file is opened, the operating system allocates resources to it. If the file is not closed properly, these resources remain allocated, which can lead to issues like memory leaks or files being locked.\n",
    "# 02)It saves the changes: If you have made changes to a file and you don't close it properly, the changes may not be saved to the file. Closing the file ensures that all changes are saved to the file.\n",
    "# 03)It makes the file available to other programs: If a file is not closed properly, it may remain locked and unavailable for other programs to use. Closing the file releases the lock and makes it available for other programs to use."
   ]
  },
  {
   "cell_type": "code",
   "execution_count": 4,
   "id": "3a1f7140-77bc-4291-89ed-b46760ee5ed2",
   "metadata": {},
   "outputs": [
    {
     "name": "stdout",
     "output_type": "stream",
     "text": [
      "I want to become a Data Scientist\n"
     ]
    }
   ],
   "source": [
    "#ans03 : \n",
    "\n",
    "# Open the file in write mode\n",
    "file = open(\"data.txt\", \"w\")\n",
    "\n",
    "# Write the text to the file\n",
    "file.write(\"I want to become a Data Scientist\")\n",
    "\n",
    "# Close the file\n",
    "file.close()\n",
    "\n",
    "# Open the file in read mode\n",
    "file = open(\"data.txt\", \"r\")\n",
    "\n",
    "# Read the content of the file\n",
    "content = file.read()\n",
    "\n",
    "# Close the file\n",
    "file.close()\n",
    "\n",
    "# Print the content of the file\n",
    "print(content)\n"
   ]
  },
  {
   "cell_type": "code",
   "execution_count": 5,
   "id": "3518551f-dcff-43b1-9a06-3cb42839e52e",
   "metadata": {},
   "outputs": [
    {
     "ename": "FileNotFoundError",
     "evalue": "[Errno 2] No such file or directory: 'sample.txt'",
     "output_type": "error",
     "traceback": [
      "\u001b[0;31m---------------------------------------------------------------------------\u001b[0m",
      "\u001b[0;31mFileNotFoundError\u001b[0m                         Traceback (most recent call last)",
      "Cell \u001b[0;32mIn[5], line 6\u001b[0m\n\u001b[1;32m      1\u001b[0m \u001b[38;5;66;03m#ans03 : Three methods are used to read content from a file:\u001b[39;00m\n\u001b[1;32m      2\u001b[0m \n\u001b[1;32m      3\u001b[0m \u001b[38;5;66;03m# [01] read() method: This method is used to read the entire content of the file as a single string.\u001b[39;00m\n\u001b[1;32m      4\u001b[0m \n\u001b[1;32m      5\u001b[0m \u001b[38;5;66;03m# example : # opening a file in read mode\u001b[39;00m\n\u001b[0;32m----> 6\u001b[0m file \u001b[38;5;241m=\u001b[39m \u001b[38;5;28;43mopen\u001b[39;49m\u001b[43m(\u001b[49m\u001b[38;5;124;43m\"\u001b[39;49m\u001b[38;5;124;43msample.txt\u001b[39;49m\u001b[38;5;124;43m\"\u001b[39;49m\u001b[43m,\u001b[49m\u001b[43m \u001b[49m\u001b[38;5;124;43m\"\u001b[39;49m\u001b[38;5;124;43mr\u001b[39;49m\u001b[38;5;124;43m\"\u001b[39;49m\u001b[43m)\u001b[49m\n\u001b[1;32m      8\u001b[0m \u001b[38;5;66;03m# reading the entire content of the file\u001b[39;00m\n\u001b[1;32m      9\u001b[0m content \u001b[38;5;241m=\u001b[39m file\u001b[38;5;241m.\u001b[39mread()\n",
      "File \u001b[0;32m/opt/conda/lib/python3.10/site-packages/IPython/core/interactiveshell.py:282\u001b[0m, in \u001b[0;36m_modified_open\u001b[0;34m(file, *args, **kwargs)\u001b[0m\n\u001b[1;32m    275\u001b[0m \u001b[38;5;28;01mif\u001b[39;00m file \u001b[38;5;129;01min\u001b[39;00m {\u001b[38;5;241m0\u001b[39m, \u001b[38;5;241m1\u001b[39m, \u001b[38;5;241m2\u001b[39m}:\n\u001b[1;32m    276\u001b[0m     \u001b[38;5;28;01mraise\u001b[39;00m \u001b[38;5;167;01mValueError\u001b[39;00m(\n\u001b[1;32m    277\u001b[0m         \u001b[38;5;124mf\u001b[39m\u001b[38;5;124m\"\u001b[39m\u001b[38;5;124mIPython won\u001b[39m\u001b[38;5;124m'\u001b[39m\u001b[38;5;124mt let you open fd=\u001b[39m\u001b[38;5;132;01m{\u001b[39;00mfile\u001b[38;5;132;01m}\u001b[39;00m\u001b[38;5;124m by default \u001b[39m\u001b[38;5;124m\"\u001b[39m\n\u001b[1;32m    278\u001b[0m         \u001b[38;5;124m\"\u001b[39m\u001b[38;5;124mas it is likely to crash IPython. If you know what you are doing, \u001b[39m\u001b[38;5;124m\"\u001b[39m\n\u001b[1;32m    279\u001b[0m         \u001b[38;5;124m\"\u001b[39m\u001b[38;5;124myou can use builtins\u001b[39m\u001b[38;5;124m'\u001b[39m\u001b[38;5;124m open.\u001b[39m\u001b[38;5;124m\"\u001b[39m\n\u001b[1;32m    280\u001b[0m     )\n\u001b[0;32m--> 282\u001b[0m \u001b[38;5;28;01mreturn\u001b[39;00m \u001b[43mio_open\u001b[49m\u001b[43m(\u001b[49m\u001b[43mfile\u001b[49m\u001b[43m,\u001b[49m\u001b[43m \u001b[49m\u001b[38;5;241;43m*\u001b[39;49m\u001b[43margs\u001b[49m\u001b[43m,\u001b[49m\u001b[43m \u001b[49m\u001b[38;5;241;43m*\u001b[39;49m\u001b[38;5;241;43m*\u001b[39;49m\u001b[43mkwargs\u001b[49m\u001b[43m)\u001b[49m\n",
      "\u001b[0;31mFileNotFoundError\u001b[0m: [Errno 2] No such file or directory: 'sample.txt'"
     ]
    }
   ],
   "source": [
    "#ans03 : Three methods are used to read content from a file:\n",
    "\n",
    "# [01] read() method: This method is used to read the entire content of the file as a single string.\n",
    "\n",
    "# example : # opening a file in read mode\n",
    "file = open(\"sample.txt\", \"r\")\n",
    "\n",
    "# reading the entire content of the file\n",
    "content = file.read()\n",
    "\n",
    "# closing the file\n",
    "file.close()\n",
    "\n",
    "# printing the content\n",
    "print(content)\n",
    "  \n",
    "#[02] readline() method: This method is used to read a single line of the file at a time.\n",
    "\n",
    "# example : # opening a file in read mode\n",
    "file = open(\"sample.txt\", \"r\")\n",
    "\n",
    "# reading the first line of the file\n",
    "line1 = file.readline()\n",
    "\n",
    "# reading the second line of the file\n",
    "line2 = file.readline()\n",
    "\n",
    "# closing the file\n",
    "file.close()\n",
    "\n",
    "# printing the lines\n",
    "print(line1)\n",
    "print(line2)\n",
    "\n",
    "#[03] readlines() method: This method is used to read all the lines of the file at once and returns them as a list of strings.\n",
    "\n",
    "#example : \n",
    "# opening a file in read mode\n",
    "file = open(\"sample.txt\", \"r\")\n",
    "\n",
    "# reading all the lines of the file\n",
    "lines = file.readlines()\n",
    "\n",
    "# closing the file\n",
    "file.close()\n",
    "\n",
    "# printing the lines\n",
    "print(lines)\n"
   ]
  },
  {
   "cell_type": "code",
   "execution_count": 6,
   "id": "936ac3b0-1b28-44ab-b426-11db856ae4a4",
   "metadata": {},
   "outputs": [
    {
     "ename": "IndentationError",
     "evalue": "unexpected indent (3904054870.py, line 12)",
     "output_type": "error",
     "traceback": [
      "\u001b[0;36m  Cell \u001b[0;32mIn[6], line 12\u001b[0;36m\u001b[0m\n\u001b[0;31m    with open('file.txt', 'r') as f:\u001b[0m\n\u001b[0m    ^\u001b[0m\n\u001b[0;31mIndentationError\u001b[0m\u001b[0;31m:\u001b[0m unexpected indent\n"
     ]
    }
   ],
   "source": [
    "#ans05 : \n",
    "\n",
    "#In Python, the with statement is used with open() to ensure that a file is properly and safely opened and closed. The with statement automatically takes care of closing the file when the block inside the with statement is exited, even if an exception occurs.\n",
    "#Using the with statement with open() has several advantages:\n",
    "\n",
    "#01)Automatic resource management : The with statement automatically handles closing the file, so we don't have to remember to call close() method explicitly. This helps avoid resource leaks and potential errors.\n",
    "#02)Cleaner code                  : The with statement makes the code more concise and easier to read, as we don't need to add an explicit try-finally block to ensure that the file is properly closed.\n",
    "#03)Improved exception handling   : The with statement ensures that the file is closed properly even if an exception occurs while reading or writing the file. This helps to prevent data loss and other errors.\n",
    "\n",
    "#Here is an example code snippet that demonstrates the use of with statement with open():\n",
    "    \n",
    "    with open('file.txt', 'r') as f:\n",
    "    data = f.read()\n",
    "    # perform operations on the file here\n",
    "# file is automatically closed when block is exited\n"
   ]
  },
  {
   "cell_type": "code",
   "execution_count": 7,
   "id": "ebe87bf6-db35-4004-b9da-71b975665396",
   "metadata": {},
   "outputs": [],
   "source": [
    "#ans06 : The write() and writelines() functions in Python are used to write data to a file in various formats.\n",
    "#         The write() function is used to write a single string or character to a file. If the file does not exist, it will be created. If the file already exists, the write() function will overwrite the existing content.\n",
    "#Example of using the write() function to write a string to a file:\n",
    "\n",
    "# opening a file in write mode\n",
    "file = open(\"example.txt\", \"w\")\n",
    "\n",
    "# writing a string to the file\n",
    "file.write(\"Hello World!\\n\")\n",
    "\n",
    "# closing the file\n",
    "file.close()\n"
   ]
  },
  {
   "cell_type": "code",
   "execution_count": null,
   "id": "8d3fd1b8-41d6-47ec-ad2d-24b0cd68418e",
   "metadata": {},
   "outputs": [],
   "source": []
  }
 ],
 "metadata": {
  "kernelspec": {
   "display_name": "Python 3 (ipykernel)",
   "language": "python",
   "name": "python3"
  },
  "language_info": {
   "codemirror_mode": {
    "name": "ipython",
    "version": 3
   },
   "file_extension": ".py",
   "mimetype": "text/x-python",
   "name": "python",
   "nbconvert_exporter": "python",
   "pygments_lexer": "ipython3",
   "version": "3.10.8"
  }
 },
 "nbformat": 4,
 "nbformat_minor": 5
}
